{
 "cells": [
  {
   "cell_type": "markdown",
   "metadata": {
    "id": "YTBJyLLPjUA-"
   },
   "source": [
    "# Knowledge Representation And Reasoning Project on T20 Ontology based Analytics"
   ]
  },
  {
   "cell_type": "markdown",
   "metadata": {
    "id": "YN-QFTdLjdND"
   },
   "source": [
    "## Group Members\n",
    "\n",
    "Aarib Ahmed Vahidy 22K-4004\n",
    "\n",
    "Arham Hussain Khan 22K-4080\n",
    "\n",
    "Partham Kumar Chawla 22K-4079"
   ]
  },
  {
   "cell_type": "code",
   "execution_count": 1,
   "metadata": {
    "colab": {
     "base_uri": "https://localhost:8080/"
    },
    "id": "gpTPrvJttIP-",
    "outputId": "4461738d-f057-47aa-8b86-a6ab81243864"
   },
   "outputs": [
    {
     "name": "stdout",
     "output_type": "stream",
     "text": [
      "Requirement already satisfied: rdflib in c:\\users\\aarib\\anaconda3\\lib\\site-packages (7.1.1)\n",
      "Requirement already satisfied: pyparsing<4,>=2.1.0 in c:\\users\\aarib\\anaconda3\\lib\\site-packages (from rdflib) (3.0.9)\n"
     ]
    }
   ],
   "source": [
    "!pip install rdflib"
   ]
  },
  {
   "cell_type": "code",
   "execution_count": 2,
   "metadata": {
    "id": "rHPHAgixu2wK"
   },
   "outputs": [],
   "source": [
    "import pandas as pd\n",
    "import numpy as np\n",
    "import matplotlib.pyplot as plt\n",
    "import seaborn as sns\n",
    "from rdflib import Graph\n",
    "from rdflib.namespace import XSD\n",
    "from rdflib import URIRef, Literal, Namespace, OWL, RDF"
   ]
  },
  {
   "cell_type": "markdown",
   "metadata": {
    "id": "gTM7Jxa61xj7"
   },
   "source": [
    "## Exploring the data"
   ]
  },
  {
   "cell_type": "code",
   "execution_count": 3,
   "metadata": {
    "id": "N3kRalqjtG36"
   },
   "outputs": [],
   "source": [
    "innings1_df = pd.read_csv('P9 - T20 Ontology based Analytics/Raw data/1st Innings T20.csv')\n"
   ]
  },
  {
   "cell_type": "code",
   "execution_count": 4,
   "metadata": {
    "colab": {
     "base_uri": "https://localhost:8080/",
     "height": 484
    },
    "id": "QkqIrBJQvKOm",
    "outputId": "0cacf5e6-5b3d-4710-fd65-cb6b9c9f2aa6"
   },
   "outputs": [
    {
     "data": {
      "text/html": [
       "<div>\n",
       "<style scoped>\n",
       "    .dataframe tbody tr th:only-of-type {\n",
       "        vertical-align: middle;\n",
       "    }\n",
       "\n",
       "    .dataframe tbody tr th {\n",
       "        vertical-align: top;\n",
       "    }\n",
       "\n",
       "    .dataframe thead th {\n",
       "        text-align: right;\n",
       "    }\n",
       "</style>\n",
       "<table border=\"1\" class=\"dataframe\">\n",
       "  <thead>\n",
       "    <tr style=\"text-align: right;\">\n",
       "      <th></th>\n",
       "      <th>Unnamed: 0</th>\n",
       "      <th>matchId</th>\n",
       "      <th>balls</th>\n",
       "      <th>runs</th>\n",
       "      <th>tossWinner</th>\n",
       "      <th>battingTeam</th>\n",
       "      <th>bowlingTeam</th>\n",
       "      <th>player_out</th>\n",
       "      <th>city</th>\n",
       "      <th>venue</th>\n",
       "    </tr>\n",
       "  </thead>\n",
       "  <tbody>\n",
       "    <tr>\n",
       "      <th>0</th>\n",
       "      <td>0</td>\n",
       "      <td>5_1</td>\n",
       "      <td>0.1</td>\n",
       "      <td>0.0</td>\n",
       "      <td>India</td>\n",
       "      <td>West Indies</td>\n",
       "      <td>India</td>\n",
       "      <td>0.0</td>\n",
       "      <td>Lauderhill</td>\n",
       "      <td>Central Broward Regional Park Stadium Turf Ground</td>\n",
       "    </tr>\n",
       "    <tr>\n",
       "      <th>1</th>\n",
       "      <td>1</td>\n",
       "      <td>5_1</td>\n",
       "      <td>0.2</td>\n",
       "      <td>0.0</td>\n",
       "      <td>India</td>\n",
       "      <td>West Indies</td>\n",
       "      <td>India</td>\n",
       "      <td>1.0</td>\n",
       "      <td>Lauderhill</td>\n",
       "      <td>Central Broward Regional Park Stadium Turf Ground</td>\n",
       "    </tr>\n",
       "    <tr>\n",
       "      <th>2</th>\n",
       "      <td>2</td>\n",
       "      <td>5_1</td>\n",
       "      <td>0.3</td>\n",
       "      <td>0.0</td>\n",
       "      <td>India</td>\n",
       "      <td>West Indies</td>\n",
       "      <td>India</td>\n",
       "      <td>0.0</td>\n",
       "      <td>Lauderhill</td>\n",
       "      <td>Central Broward Regional Park Stadium Turf Ground</td>\n",
       "    </tr>\n",
       "    <tr>\n",
       "      <th>3</th>\n",
       "      <td>3</td>\n",
       "      <td>5_1</td>\n",
       "      <td>0.4</td>\n",
       "      <td>1.0</td>\n",
       "      <td>India</td>\n",
       "      <td>West Indies</td>\n",
       "      <td>India</td>\n",
       "      <td>0.0</td>\n",
       "      <td>Lauderhill</td>\n",
       "      <td>Central Broward Regional Park Stadium Turf Ground</td>\n",
       "    </tr>\n",
       "    <tr>\n",
       "      <th>4</th>\n",
       "      <td>4</td>\n",
       "      <td>5_1</td>\n",
       "      <td>0.5</td>\n",
       "      <td>0.0</td>\n",
       "      <td>India</td>\n",
       "      <td>West Indies</td>\n",
       "      <td>India</td>\n",
       "      <td>0.0</td>\n",
       "      <td>Lauderhill</td>\n",
       "      <td>Central Broward Regional Park Stadium Turf Ground</td>\n",
       "    </tr>\n",
       "  </tbody>\n",
       "</table>\n",
       "</div>"
      ],
      "text/plain": [
       "   Unnamed: 0 matchId  balls  runs tossWinner  battingTeam bowlingTeam  \\\n",
       "0           0     5_1    0.1   0.0      India  West Indies       India   \n",
       "1           1     5_1    0.2   0.0      India  West Indies       India   \n",
       "2           2     5_1    0.3   0.0      India  West Indies       India   \n",
       "3           3     5_1    0.4   1.0      India  West Indies       India   \n",
       "4           4     5_1    0.5   0.0      India  West Indies       India   \n",
       "\n",
       "   player_out        city                                              venue  \n",
       "0         0.0  Lauderhill  Central Broward Regional Park Stadium Turf Ground  \n",
       "1         1.0  Lauderhill  Central Broward Regional Park Stadium Turf Ground  \n",
       "2         0.0  Lauderhill  Central Broward Regional Park Stadium Turf Ground  \n",
       "3         0.0  Lauderhill  Central Broward Regional Park Stadium Turf Ground  \n",
       "4         0.0  Lauderhill  Central Broward Regional Park Stadium Turf Ground  "
      ]
     },
     "execution_count": 4,
     "metadata": {},
     "output_type": "execute_result"
    }
   ],
   "source": [
    "innings1_df.head()"
   ]
  },
  {
   "cell_type": "code",
   "execution_count": 5,
   "metadata": {
    "colab": {
     "base_uri": "https://localhost:8080/"
    },
    "id": "f_wsPOid2EgD",
    "outputId": "c39c01be-85e6-4180-85bc-3adbd49dfbda"
   },
   "outputs": [
    {
     "name": "stdout",
     "output_type": "stream",
     "text": [
      "<class 'pandas.core.frame.DataFrame'>\n",
      "RangeIndex: 13115 entries, 0 to 13114\n",
      "Data columns (total 10 columns):\n",
      " #   Column       Non-Null Count  Dtype  \n",
      "---  ------       --------------  -----  \n",
      " 0   Unnamed: 0   13115 non-null  int64  \n",
      " 1   matchId      13115 non-null  object \n",
      " 2   balls        13114 non-null  float64\n",
      " 3   runs         13114 non-null  float64\n",
      " 4   tossWinner   12411 non-null  object \n",
      " 5   battingTeam  13114 non-null  object \n",
      " 6   bowlingTeam  13114 non-null  object \n",
      " 7   player_out   13114 non-null  float64\n",
      " 8   city         13114 non-null  object \n",
      " 9   venue        13114 non-null  object \n",
      "dtypes: float64(3), int64(1), object(6)\n",
      "memory usage: 1.0+ MB\n"
     ]
    }
   ],
   "source": [
    "innings1_df.info()"
   ]
  },
  {
   "cell_type": "code",
   "execution_count": 6,
   "metadata": {
    "colab": {
     "base_uri": "https://localhost:8080/",
     "height": 300
    },
    "id": "uGvdE3B32G7m",
    "outputId": "decbc84a-34bc-484b-ec0c-296f03f5b922"
   },
   "outputs": [
    {
     "data": {
      "text/html": [
       "<div>\n",
       "<style scoped>\n",
       "    .dataframe tbody tr th:only-of-type {\n",
       "        vertical-align: middle;\n",
       "    }\n",
       "\n",
       "    .dataframe tbody tr th {\n",
       "        vertical-align: top;\n",
       "    }\n",
       "\n",
       "    .dataframe thead th {\n",
       "        text-align: right;\n",
       "    }\n",
       "</style>\n",
       "<table border=\"1\" class=\"dataframe\">\n",
       "  <thead>\n",
       "    <tr style=\"text-align: right;\">\n",
       "      <th></th>\n",
       "      <th>Unnamed: 0</th>\n",
       "      <th>balls</th>\n",
       "      <th>runs</th>\n",
       "      <th>player_out</th>\n",
       "    </tr>\n",
       "  </thead>\n",
       "  <tbody>\n",
       "    <tr>\n",
       "      <th>count</th>\n",
       "      <td>13115.000000</td>\n",
       "      <td>13114.000000</td>\n",
       "      <td>13114.000000</td>\n",
       "      <td>13114.000000</td>\n",
       "    </tr>\n",
       "    <tr>\n",
       "      <th>mean</th>\n",
       "      <td>60.555776</td>\n",
       "      <td>9.710251</td>\n",
       "      <td>1.281760</td>\n",
       "      <td>0.053912</td>\n",
       "    </tr>\n",
       "    <tr>\n",
       "      <th>std</th>\n",
       "      <td>35.653996</td>\n",
       "      <td>5.749040</td>\n",
       "      <td>1.561029</td>\n",
       "      <td>0.225852</td>\n",
       "    </tr>\n",
       "    <tr>\n",
       "      <th>min</th>\n",
       "      <td>0.000000</td>\n",
       "      <td>0.100000</td>\n",
       "      <td>0.000000</td>\n",
       "      <td>0.000000</td>\n",
       "    </tr>\n",
       "    <tr>\n",
       "      <th>25%</th>\n",
       "      <td>30.000000</td>\n",
       "      <td>4.600000</td>\n",
       "      <td>0.000000</td>\n",
       "      <td>0.000000</td>\n",
       "    </tr>\n",
       "    <tr>\n",
       "      <th>50%</th>\n",
       "      <td>60.000000</td>\n",
       "      <td>9.500000</td>\n",
       "      <td>1.000000</td>\n",
       "      <td>0.000000</td>\n",
       "    </tr>\n",
       "    <tr>\n",
       "      <th>75%</th>\n",
       "      <td>91.000000</td>\n",
       "      <td>14.500000</td>\n",
       "      <td>1.000000</td>\n",
       "      <td>0.000000</td>\n",
       "    </tr>\n",
       "    <tr>\n",
       "      <th>max</th>\n",
       "      <td>131.000000</td>\n",
       "      <td>19.800000</td>\n",
       "      <td>7.000000</td>\n",
       "      <td>1.000000</td>\n",
       "    </tr>\n",
       "  </tbody>\n",
       "</table>\n",
       "</div>"
      ],
      "text/plain": [
       "         Unnamed: 0         balls          runs    player_out\n",
       "count  13115.000000  13114.000000  13114.000000  13114.000000\n",
       "mean      60.555776      9.710251      1.281760      0.053912\n",
       "std       35.653996      5.749040      1.561029      0.225852\n",
       "min        0.000000      0.100000      0.000000      0.000000\n",
       "25%       30.000000      4.600000      0.000000      0.000000\n",
       "50%       60.000000      9.500000      1.000000      0.000000\n",
       "75%       91.000000     14.500000      1.000000      0.000000\n",
       "max      131.000000     19.800000      7.000000      1.000000"
      ]
     },
     "execution_count": 6,
     "metadata": {},
     "output_type": "execute_result"
    }
   ],
   "source": [
    "innings1_df.describe()"
   ]
  },
  {
   "cell_type": "code",
   "execution_count": 7,
   "metadata": {
    "colab": {
     "base_uri": "https://localhost:8080/"
    },
    "id": "gAIPK1QU2JSn",
    "outputId": "19ef5a7e-ad8f-4433-cbdd-069ab87d88ca"
   },
   "outputs": [
    {
     "data": {
      "text/plain": [
       "(13115, 10)"
      ]
     },
     "execution_count": 7,
     "metadata": {},
     "output_type": "execute_result"
    }
   ],
   "source": [
    "innings1_df.shape"
   ]
  },
  {
   "cell_type": "code",
   "execution_count": 8,
   "metadata": {
    "colab": {
     "base_uri": "https://localhost:8080/"
    },
    "id": "mDJYKULn2LQo",
    "outputId": "778e0246-4c2e-4b76-964e-7944e9874d75"
   },
   "outputs": [
    {
     "name": "stdout",
     "output_type": "stream",
     "text": [
      "The empty records are (array([ 1988,  1989,  1990,  1991,  1992,  1993,  1994,  1995,  1996,\n",
      "        1997,  1998,  1999,  2000,  2001,  2002,  2003,  2004,  2005,\n",
      "        2006,  2007,  2008,  2009,  2010,  2011,  2012,  2013,  2014,\n",
      "        2015,  2016,  2017,  2018,  2019,  2020,  2021,  2022,  2023,\n",
      "        2024,  2025,  2026,  2027,  2028,  2029,  2030,  2031,  2032,\n",
      "        2033,  2034,  2035,  2036,  2037,  2038,  2039,  2040,  2041,\n",
      "        2042,  2043,  2044,  2045,  2046,  2047,  2048,  2049,  2050,\n",
      "        2051,  2052,  2053,  2054,  2055,  2056,  2057,  2058,  2059,\n",
      "        2060,  2061,  2062,  2063,  2064,  2065,  2066,  2067,  2068,\n",
      "        2069,  2070,  2071,  2072,  2073,  2074,  2075,  5044,  5045,\n",
      "        5046,  5047,  5048,  5049,  5050,  5051,  5052,  5053,  5054,\n",
      "        5055,  5056,  5057,  5058,  5059,  5060,  5061,  5062,  5063,\n",
      "        5064,  5065,  5066,  5067,  5068,  5069,  5070,  5071,  5072,\n",
      "        5073,  5074,  5075,  5076,  5077,  5078,  5079,  5080,  5081,\n",
      "        5082,  5083,  5084,  5085,  5086,  5087,  5088,  5089,  5090,\n",
      "        5091,  5092,  5093,  5094,  5095,  5096,  5097,  5098,  5099,\n",
      "        5100,  5101,  5102,  5103,  5104,  5105,  5106,  5107,  5108,\n",
      "        5109,  5845,  5846,  5847,  5848,  5849,  5850,  5851,  5852,\n",
      "        5853,  5854,  5855,  5856,  5857,  5858,  5859,  5860,  5861,\n",
      "        5862,  5863,  5864,  5865,  5866,  5867,  5868,  5869,  5870,\n",
      "        5871,  5872,  5873,  5874,  5875,  5876,  5877,  5878,  5879,\n",
      "        5880,  5881,  5882,  5883,  5884,  5885,  5886,  5887,  5888,\n",
      "        5889,  5890,  5891,  5892,  5893,  5894,  5895,  5896,  5897,\n",
      "        5898,  5899,  5900,  5901,  5902,  5903,  5904,  5905,  5906,\n",
      "        5907,  5908,  5909,  5910,  5911,  5912,  5913,  5914,  5915,\n",
      "        5916,  5917,  5918,  5919,  5920,  5921,  5922,  5923,  5924,\n",
      "        5925,  5926,  5927,  5928,  5929,  5930,  5931,  5932,  5933,\n",
      "        5934,  5935,  5936,  5937,  5938,  5939,  5940,  5941,  5942,\n",
      "        5943,  5944,  5945,  5946,  5947,  5948,  5949,  5950,  5951,\n",
      "        5952,  5953,  5954,  5955,  5956,  5957,  5958,  5959,  5960,\n",
      "        5961,  6087,  6088,  6089,  6090,  6091,  6092,  6093,  6094,\n",
      "        6095,  6096,  6097,  6098,  6099,  6100,  6101,  6102,  6103,\n",
      "        6104,  6105,  6106,  6107,  6108,  6109,  6110,  6111,  6112,\n",
      "        6113,  6114,  6115,  6116,  6117,  6118,  6119,  6120,  6121,\n",
      "        6122,  6123,  6124,  6125,  6126,  6127,  6128,  6129,  6130,\n",
      "        6131,  6132,  6133,  6134,  6135,  6136,  6137,  6138,  6139,\n",
      "        6140,  6141,  6142,  6143,  6144,  6145,  6146,  6147,  6148,\n",
      "        6149,  6150,  6151,  6152,  6153,  6154,  6155,  6156,  6157,\n",
      "        6158,  6159,  6160,  6161,  6162,  6163,  6164,  6165,  6166,\n",
      "        6167,  6168,  6169,  6170,  6171,  6172,  6173,  6174,  6175,\n",
      "        6176,  6177,  6178,  6179,  6180,  6181,  6182,  6183,  6184,\n",
      "        6185,  6186,  6187,  6188,  6189,  6190,  6191,  6192,  6193,\n",
      "        6194,  6195,  6196,  6197,  6198,  6199,  6200,  6201,  6202,\n",
      "        6203,  6204,  6205,  6206,  6207,  6208, 10138, 10139, 10140,\n",
      "       10141, 10142, 10143, 10144, 10145, 10146, 10147, 10148, 10149,\n",
      "       10150, 10151, 10152, 10153, 10277, 10278, 10279, 10280, 10281,\n",
      "       10282, 10283, 10284, 10285, 10286, 10287, 10288, 10289, 10290,\n",
      "       10291, 10292, 10293, 10294, 10295, 10296, 10297, 10298, 10299,\n",
      "       10300, 10301, 10302, 10303, 10304, 10305, 10306, 10307, 10308,\n",
      "       10309, 10310, 10311, 10312, 10313, 10314, 10315, 10316, 10317,\n",
      "       10318, 10319, 10320, 10321, 10322, 10323, 10324, 10325, 10326,\n",
      "       10327, 10328, 10329, 10330, 10331, 10332, 10333, 10334, 10335,\n",
      "       10336, 10337, 10338, 10339, 10340, 10341, 10342, 10343, 10344,\n",
      "       10345, 10346, 10347, 10348, 10349, 10350, 10351, 10352, 10353,\n",
      "       10354, 10355, 10356, 10357, 10358, 10359, 10360, 10361, 10362,\n",
      "       10363, 10364, 10365, 10366, 10367, 10368, 10369, 10370, 10371,\n",
      "       10372, 10373, 10374, 10375, 10376, 10377, 10378, 10379, 10380,\n",
      "       10381, 10382, 10383, 10384, 10385, 10386, 10387, 10388, 10389,\n",
      "       10390, 10391, 10392, 10393, 10394, 10395, 10396, 10397, 10398,\n",
      "       10399, 11376, 11377, 11378, 11379, 11380, 11381, 11382, 11383,\n",
      "       11384, 11385, 11386, 11387, 11388, 11389, 11390, 11391, 11392,\n",
      "       11393, 11394, 11395, 11396, 11397, 11398, 11399, 11400, 11401,\n",
      "       11402, 11403, 11404, 11405, 11406, 11407, 11408, 11409, 11410,\n",
      "       11411, 11412, 11413, 11414, 11415, 11416, 11417, 11418, 11419,\n",
      "       11420, 11421, 11422, 11423, 11424, 11425, 11426, 11427, 11428,\n",
      "       11429, 11430, 11431, 12418, 12419, 12420, 12421, 12422, 12423,\n",
      "       12424, 12425, 12426, 12427, 12428, 12429, 12430, 12431, 12432,\n",
      "       12433, 12434, 12435, 12436, 12437, 12438, 12439, 12440, 12441,\n",
      "       12442, 12443, 12444, 12445, 12446, 12447, 12448, 12449, 12450,\n",
      "       12451, 12452, 12453, 12454, 12455, 12456, 12457, 12458, 12459,\n",
      "       12460, 12461, 12462, 12463, 12464, 12465, 12466, 12467, 12468,\n",
      "       12469, 12470, 12471, 12472, 12473, 12474, 12475, 12476, 12477,\n",
      "       12478, 12479, 12480, 12481, 12482, 12483, 12484, 12485, 12486,\n",
      "       12487, 12488, 12489, 12490, 12491, 12492, 12493, 12494, 12495,\n",
      "       12496, 12497, 12498, 12499, 12500, 12501, 12502, 12503, 12504,\n",
      "       12505, 12506, 12507, 12508, 12509, 12510, 12511, 12512, 12513,\n",
      "       12514, 12515, 12516, 12517, 12518, 12519, 12520, 12521, 12522,\n",
      "       12523, 12524, 12525, 12526, 12527, 12528, 12529, 12530, 12531,\n",
      "       12532, 13114, 13114, 13114, 13114, 13114, 13114, 13114, 13114],\n",
      "      dtype=int64), array([4, 4, 4, 4, 4, 4, 4, 4, 4, 4, 4, 4, 4, 4, 4, 4, 4, 4, 4, 4, 4, 4,\n",
      "       4, 4, 4, 4, 4, 4, 4, 4, 4, 4, 4, 4, 4, 4, 4, 4, 4, 4, 4, 4, 4, 4,\n",
      "       4, 4, 4, 4, 4, 4, 4, 4, 4, 4, 4, 4, 4, 4, 4, 4, 4, 4, 4, 4, 4, 4,\n",
      "       4, 4, 4, 4, 4, 4, 4, 4, 4, 4, 4, 4, 4, 4, 4, 4, 4, 4, 4, 4, 4, 4,\n",
      "       4, 4, 4, 4, 4, 4, 4, 4, 4, 4, 4, 4, 4, 4, 4, 4, 4, 4, 4, 4, 4, 4,\n",
      "       4, 4, 4, 4, 4, 4, 4, 4, 4, 4, 4, 4, 4, 4, 4, 4, 4, 4, 4, 4, 4, 4,\n",
      "       4, 4, 4, 4, 4, 4, 4, 4, 4, 4, 4, 4, 4, 4, 4, 4, 4, 4, 4, 4, 4, 4,\n",
      "       4, 4, 4, 4, 4, 4, 4, 4, 4, 4, 4, 4, 4, 4, 4, 4, 4, 4, 4, 4, 4, 4,\n",
      "       4, 4, 4, 4, 4, 4, 4, 4, 4, 4, 4, 4, 4, 4, 4, 4, 4, 4, 4, 4, 4, 4,\n",
      "       4, 4, 4, 4, 4, 4, 4, 4, 4, 4, 4, 4, 4, 4, 4, 4, 4, 4, 4, 4, 4, 4,\n",
      "       4, 4, 4, 4, 4, 4, 4, 4, 4, 4, 4, 4, 4, 4, 4, 4, 4, 4, 4, 4, 4, 4,\n",
      "       4, 4, 4, 4, 4, 4, 4, 4, 4, 4, 4, 4, 4, 4, 4, 4, 4, 4, 4, 4, 4, 4,\n",
      "       4, 4, 4, 4, 4, 4, 4, 4, 4, 4, 4, 4, 4, 4, 4, 4, 4, 4, 4, 4, 4, 4,\n",
      "       4, 4, 4, 4, 4, 4, 4, 4, 4, 4, 4, 4, 4, 4, 4, 4, 4, 4, 4, 4, 4, 4,\n",
      "       4, 4, 4, 4, 4, 4, 4, 4, 4, 4, 4, 4, 4, 4, 4, 4, 4, 4, 4, 4, 4, 4,\n",
      "       4, 4, 4, 4, 4, 4, 4, 4, 4, 4, 4, 4, 4, 4, 4, 4, 4, 4, 4, 4, 4, 4,\n",
      "       4, 4, 4, 4, 4, 4, 4, 4, 4, 4, 4, 4, 4, 4, 4, 4, 4, 4, 4, 4, 4, 4,\n",
      "       4, 4, 4, 4, 4, 4, 4, 4, 4, 4, 4, 4, 4, 4, 4, 4, 4, 4, 4, 4, 4, 4,\n",
      "       4, 4, 4, 4, 4, 4, 4, 4, 4, 4, 4, 4, 4, 4, 4, 4, 4, 4, 4, 4, 4, 4,\n",
      "       4, 4, 4, 4, 4, 4, 4, 4, 4, 4, 4, 4, 4, 4, 4, 4, 4, 4, 4, 4, 4, 4,\n",
      "       4, 4, 4, 4, 4, 4, 4, 4, 4, 4, 4, 4, 4, 4, 4, 4, 4, 4, 4, 4, 4, 4,\n",
      "       4, 4, 4, 4, 4, 4, 4, 4, 4, 4, 4, 4, 4, 4, 4, 4, 4, 4, 4, 4, 4, 4,\n",
      "       4, 4, 4, 4, 4, 4, 4, 4, 4, 4, 4, 4, 4, 4, 4, 4, 4, 4, 4, 4, 4, 4,\n",
      "       4, 4, 4, 4, 4, 4, 4, 4, 4, 4, 4, 4, 4, 4, 4, 4, 4, 4, 4, 4, 4, 4,\n",
      "       4, 4, 4, 4, 4, 4, 4, 4, 4, 4, 4, 4, 4, 4, 4, 4, 4, 4, 4, 4, 4, 4,\n",
      "       4, 4, 4, 4, 4, 4, 4, 4, 4, 4, 4, 4, 4, 4, 4, 4, 4, 4, 4, 4, 4, 4,\n",
      "       4, 4, 4, 4, 4, 4, 4, 4, 4, 4, 4, 4, 4, 4, 4, 4, 4, 4, 4, 4, 4, 4,\n",
      "       4, 4, 4, 4, 4, 4, 4, 4, 4, 4, 4, 4, 4, 4, 4, 4, 4, 4, 4, 4, 4, 4,\n",
      "       4, 4, 4, 4, 4, 4, 4, 4, 4, 4, 4, 4, 4, 4, 4, 4, 4, 4, 4, 4, 4, 4,\n",
      "       4, 4, 4, 4, 4, 4, 4, 4, 4, 4, 4, 4, 4, 4, 4, 4, 4, 4, 4, 4, 4, 4,\n",
      "       4, 4, 4, 4, 4, 4, 4, 4, 4, 4, 4, 4, 4, 4, 4, 4, 4, 4, 4, 4, 4, 4,\n",
      "       4, 4, 4, 4, 4, 4, 4, 4, 4, 4, 4, 4, 4, 4, 4, 4, 4, 4, 4, 4, 4, 2,\n",
      "       3, 4, 5, 6, 7, 8, 9], dtype=int64))\n",
      "Categorical data is ['matchId', 'tossWinner', 'battingTeam', 'bowlingTeam', 'city', 'venue'] \n",
      "Are there any duplicate values? False\n"
     ]
    }
   ],
   "source": [
    "#Checking for empty records\n",
    "print(f\"The empty records are {np.where(pd.isnull(innings1_df))}\")\n",
    "#Checking for categorical features\n",
    "print(f\"Categorical data is {innings1_df.select_dtypes(include=['object']).columns.tolist()} \")\n",
    "#Checking for duplicate values\n",
    "print(f\"Are there any duplicate values? {innings1_df.duplicated().any()}\")"
   ]
  },
  {
   "cell_type": "code",
   "execution_count": 9,
   "metadata": {
    "colab": {
     "base_uri": "https://localhost:8080/"
    },
    "id": "IGEGt__s3F8L",
    "outputId": "d39b6244-37a7-4155-e9dd-782c4bc8478b"
   },
   "outputs": [
    {
     "name": "stdout",
     "output_type": "stream",
     "text": [
      "tossWinner\n",
      "Pakistan        2215\n",
      "Australia       1735\n",
      "India           1576\n",
      "England         1568\n",
      "South Africa    1225\n",
      "Sri Lanka        989\n",
      "New Zealand      729\n",
      "NaN              704\n",
      "Afghanistan      619\n",
      "West Indies      510\n",
      "Ireland          496\n",
      "Bangladesh       255\n",
      "Netherlands      248\n",
      "Zimbabwe         246\n",
      "Name: count, dtype: int64\n"
     ]
    }
   ],
   "source": [
    "print(innings1_df['tossWinner'].value_counts(dropna=False))  #Inspecting unique values"
   ]
  },
  {
   "cell_type": "markdown",
   "metadata": {
    "id": "Y2dOmeYQ28qC"
   },
   "source": [
    "It appears that we have null values in the tosswinner column as shown by .info and .value_counts, they will need to be dealt with by dropping them."
   ]
  },
  {
   "cell_type": "code",
   "execution_count": 10,
   "metadata": {
    "id": "OyDQ9qQp3V64"
   },
   "outputs": [],
   "source": [
    "innings1_df_cleaned = innings1_df.dropna()"
   ]
  },
  {
   "cell_type": "code",
   "execution_count": 11,
   "metadata": {
    "colab": {
     "base_uri": "https://localhost:8080/"
    },
    "id": "D0HbXYtS3bNx",
    "outputId": "415f1898-7fba-4f78-d116-3d84dae9f42b"
   },
   "outputs": [
    {
     "name": "stdout",
     "output_type": "stream",
     "text": [
      "<class 'pandas.core.frame.DataFrame'>\n",
      "Index: 12411 entries, 0 to 13113\n",
      "Data columns (total 10 columns):\n",
      " #   Column       Non-Null Count  Dtype  \n",
      "---  ------       --------------  -----  \n",
      " 0   Unnamed: 0   12411 non-null  int64  \n",
      " 1   matchId      12411 non-null  object \n",
      " 2   balls        12411 non-null  float64\n",
      " 3   runs         12411 non-null  float64\n",
      " 4   tossWinner   12411 non-null  object \n",
      " 5   battingTeam  12411 non-null  object \n",
      " 6   bowlingTeam  12411 non-null  object \n",
      " 7   player_out   12411 non-null  float64\n",
      " 8   city         12411 non-null  object \n",
      " 9   venue        12411 non-null  object \n",
      "dtypes: float64(3), int64(1), object(6)\n",
      "memory usage: 1.0+ MB\n",
      "None\n",
      "Unnamed: 0     0\n",
      "matchId        0\n",
      "balls          0\n",
      "runs           0\n",
      "tossWinner     0\n",
      "battingTeam    0\n",
      "bowlingTeam    0\n",
      "player_out     0\n",
      "city           0\n",
      "venue          0\n",
      "dtype: int64\n"
     ]
    }
   ],
   "source": [
    "print(innings1_df_cleaned.info())\n",
    "print(innings1_df_cleaned.isnull().sum())#Verifying no nulls remain"
   ]
  },
  {
   "cell_type": "markdown",
   "metadata": {
    "id": "VIVQiyZD3mZ9"
   },
   "source": [
    "### Repeating steps for innings 2"
   ]
  },
  {
   "cell_type": "code",
   "execution_count": 12,
   "metadata": {
    "id": "an9eFmXIvbZv"
   },
   "outputs": [],
   "source": [
    "innings2_df = pd.read_csv('P9 - T20 Ontology based Analytics/Raw data/2nd Innings T20.csv')"
   ]
  },
  {
   "cell_type": "code",
   "execution_count": 13,
   "metadata": {
    "colab": {
     "base_uri": "https://localhost:8080/",
     "height": 484
    },
    "id": "46OQKvZm5EmK",
    "outputId": "64adb49c-c720-4c63-eb40-5675924b72f5"
   },
   "outputs": [
    {
     "data": {
      "text/html": [
       "<div>\n",
       "<style scoped>\n",
       "    .dataframe tbody tr th:only-of-type {\n",
       "        vertical-align: middle;\n",
       "    }\n",
       "\n",
       "    .dataframe tbody tr th {\n",
       "        vertical-align: top;\n",
       "    }\n",
       "\n",
       "    .dataframe thead th {\n",
       "        text-align: right;\n",
       "    }\n",
       "</style>\n",
       "<table border=\"1\" class=\"dataframe\">\n",
       "  <thead>\n",
       "    <tr style=\"text-align: right;\">\n",
       "      <th></th>\n",
       "      <th>Unnamed: 0</th>\n",
       "      <th>matchId</th>\n",
       "      <th>balls</th>\n",
       "      <th>runs</th>\n",
       "      <th>tossWinner</th>\n",
       "      <th>battingTeam</th>\n",
       "      <th>bowlingTeam</th>\n",
       "      <th>player_out</th>\n",
       "      <th>city</th>\n",
       "      <th>venue</th>\n",
       "    </tr>\n",
       "  </thead>\n",
       "  <tbody>\n",
       "    <tr>\n",
       "      <th>0</th>\n",
       "      <td>0</td>\n",
       "      <td>5_2</td>\n",
       "      <td>0.1</td>\n",
       "      <td>0</td>\n",
       "      <td>India</td>\n",
       "      <td>India</td>\n",
       "      <td>West Indies</td>\n",
       "      <td>0.0</td>\n",
       "      <td>Lauderhill</td>\n",
       "      <td>Central Broward Regional Park Stadium Turf Ground</td>\n",
       "    </tr>\n",
       "    <tr>\n",
       "      <th>1</th>\n",
       "      <td>1</td>\n",
       "      <td>5_2</td>\n",
       "      <td>0.2</td>\n",
       "      <td>0</td>\n",
       "      <td>India</td>\n",
       "      <td>India</td>\n",
       "      <td>West Indies</td>\n",
       "      <td>0.0</td>\n",
       "      <td>Lauderhill</td>\n",
       "      <td>Central Broward Regional Park Stadium Turf Ground</td>\n",
       "    </tr>\n",
       "    <tr>\n",
       "      <th>2</th>\n",
       "      <td>2</td>\n",
       "      <td>5_2</td>\n",
       "      <td>0.3</td>\n",
       "      <td>1</td>\n",
       "      <td>India</td>\n",
       "      <td>India</td>\n",
       "      <td>West Indies</td>\n",
       "      <td>0.0</td>\n",
       "      <td>Lauderhill</td>\n",
       "      <td>Central Broward Regional Park Stadium Turf Ground</td>\n",
       "    </tr>\n",
       "    <tr>\n",
       "      <th>3</th>\n",
       "      <td>3</td>\n",
       "      <td>5_2</td>\n",
       "      <td>0.4</td>\n",
       "      <td>1</td>\n",
       "      <td>India</td>\n",
       "      <td>India</td>\n",
       "      <td>West Indies</td>\n",
       "      <td>0.0</td>\n",
       "      <td>Lauderhill</td>\n",
       "      <td>Central Broward Regional Park Stadium Turf Ground</td>\n",
       "    </tr>\n",
       "    <tr>\n",
       "      <th>4</th>\n",
       "      <td>4</td>\n",
       "      <td>5_2</td>\n",
       "      <td>0.5</td>\n",
       "      <td>0</td>\n",
       "      <td>India</td>\n",
       "      <td>India</td>\n",
       "      <td>West Indies</td>\n",
       "      <td>0.0</td>\n",
       "      <td>Lauderhill</td>\n",
       "      <td>Central Broward Regional Park Stadium Turf Ground</td>\n",
       "    </tr>\n",
       "  </tbody>\n",
       "</table>\n",
       "</div>"
      ],
      "text/plain": [
       "   Unnamed: 0 matchId  balls  runs tossWinner battingTeam  bowlingTeam  \\\n",
       "0           0     5_2    0.1     0      India       India  West Indies   \n",
       "1           1     5_2    0.2     0      India       India  West Indies   \n",
       "2           2     5_2    0.3     1      India       India  West Indies   \n",
       "3           3     5_2    0.4     1      India       India  West Indies   \n",
       "4           4     5_2    0.5     0      India       India  West Indies   \n",
       "\n",
       "   player_out        city                                              venue  \n",
       "0         0.0  Lauderhill  Central Broward Regional Park Stadium Turf Ground  \n",
       "1         0.0  Lauderhill  Central Broward Regional Park Stadium Turf Ground  \n",
       "2         0.0  Lauderhill  Central Broward Regional Park Stadium Turf Ground  \n",
       "3         0.0  Lauderhill  Central Broward Regional Park Stadium Turf Ground  \n",
       "4         0.0  Lauderhill  Central Broward Regional Park Stadium Turf Ground  "
      ]
     },
     "execution_count": 13,
     "metadata": {},
     "output_type": "execute_result"
    }
   ],
   "source": [
    "innings2_df.head()"
   ]
  },
  {
   "cell_type": "code",
   "execution_count": 14,
   "metadata": {
    "colab": {
     "base_uri": "https://localhost:8080/"
    },
    "id": "9GjIPsoV5FyM",
    "outputId": "3ef1e14f-8b71-439c-afee-8aba74e07159"
   },
   "outputs": [
    {
     "name": "stdout",
     "output_type": "stream",
     "text": [
      "<class 'pandas.core.frame.DataFrame'>\n",
      "RangeIndex: 13067 entries, 0 to 13066\n",
      "Data columns (total 10 columns):\n",
      " #   Column       Non-Null Count  Dtype  \n",
      "---  ------       --------------  -----  \n",
      " 0   Unnamed: 0   13067 non-null  int64  \n",
      " 1   matchId      13067 non-null  object \n",
      " 2   balls        13067 non-null  float64\n",
      " 3   runs         13067 non-null  int64  \n",
      " 4   tossWinner   12719 non-null  object \n",
      " 5   battingTeam  13067 non-null  object \n",
      " 6   bowlingTeam  13067 non-null  object \n",
      " 7   player_out   13066 non-null  float64\n",
      " 8   city         13066 non-null  object \n",
      " 9   venue        13066 non-null  object \n",
      "dtypes: float64(2), int64(2), object(6)\n",
      "memory usage: 1021.0+ KB\n"
     ]
    }
   ],
   "source": [
    "innings2_df.info()"
   ]
  },
  {
   "cell_type": "code",
   "execution_count": 15,
   "metadata": {
    "colab": {
     "base_uri": "https://localhost:8080/",
     "height": 300
    },
    "id": "Mir2PijM5NGX",
    "outputId": "20f7be79-a085-4bf9-91a6-8d7eb72fe17a"
   },
   "outputs": [
    {
     "data": {
      "text/html": [
       "<div>\n",
       "<style scoped>\n",
       "    .dataframe tbody tr th:only-of-type {\n",
       "        vertical-align: middle;\n",
       "    }\n",
       "\n",
       "    .dataframe tbody tr th {\n",
       "        vertical-align: top;\n",
       "    }\n",
       "\n",
       "    .dataframe thead th {\n",
       "        text-align: right;\n",
       "    }\n",
       "</style>\n",
       "<table border=\"1\" class=\"dataframe\">\n",
       "  <thead>\n",
       "    <tr style=\"text-align: right;\">\n",
       "      <th></th>\n",
       "      <th>Unnamed: 0</th>\n",
       "      <th>balls</th>\n",
       "      <th>runs</th>\n",
       "      <th>player_out</th>\n",
       "    </tr>\n",
       "  </thead>\n",
       "  <tbody>\n",
       "    <tr>\n",
       "      <th>count</th>\n",
       "      <td>13067.000000</td>\n",
       "      <td>13067.000000</td>\n",
       "      <td>13067.000000</td>\n",
       "      <td>13066.000000</td>\n",
       "    </tr>\n",
       "    <tr>\n",
       "      <th>mean</th>\n",
       "      <td>56.317058</td>\n",
       "      <td>9.005809</td>\n",
       "      <td>1.241907</td>\n",
       "      <td>0.055564</td>\n",
       "    </tr>\n",
       "    <tr>\n",
       "      <th>std</th>\n",
       "      <td>33.999441</td>\n",
       "      <td>5.486113</td>\n",
       "      <td>1.563893</td>\n",
       "      <td>0.229087</td>\n",
       "    </tr>\n",
       "    <tr>\n",
       "      <th>min</th>\n",
       "      <td>0.000000</td>\n",
       "      <td>0.100000</td>\n",
       "      <td>0.000000</td>\n",
       "      <td>0.000000</td>\n",
       "    </tr>\n",
       "    <tr>\n",
       "      <th>25%</th>\n",
       "      <td>27.000000</td>\n",
       "      <td>4.300000</td>\n",
       "      <td>0.000000</td>\n",
       "      <td>0.000000</td>\n",
       "    </tr>\n",
       "    <tr>\n",
       "      <th>50%</th>\n",
       "      <td>55.000000</td>\n",
       "      <td>8.600000</td>\n",
       "      <td>1.000000</td>\n",
       "      <td>0.000000</td>\n",
       "    </tr>\n",
       "    <tr>\n",
       "      <th>75%</th>\n",
       "      <td>84.000000</td>\n",
       "      <td>13.500000</td>\n",
       "      <td>1.000000</td>\n",
       "      <td>0.000000</td>\n",
       "    </tr>\n",
       "    <tr>\n",
       "      <th>max</th>\n",
       "      <td>129.000000</td>\n",
       "      <td>19.800000</td>\n",
       "      <td>7.000000</td>\n",
       "      <td>1.000000</td>\n",
       "    </tr>\n",
       "  </tbody>\n",
       "</table>\n",
       "</div>"
      ],
      "text/plain": [
       "         Unnamed: 0         balls          runs    player_out\n",
       "count  13067.000000  13067.000000  13067.000000  13066.000000\n",
       "mean      56.317058      9.005809      1.241907      0.055564\n",
       "std       33.999441      5.486113      1.563893      0.229087\n",
       "min        0.000000      0.100000      0.000000      0.000000\n",
       "25%       27.000000      4.300000      0.000000      0.000000\n",
       "50%       55.000000      8.600000      1.000000      0.000000\n",
       "75%       84.000000     13.500000      1.000000      0.000000\n",
       "max      129.000000     19.800000      7.000000      1.000000"
      ]
     },
     "execution_count": 15,
     "metadata": {},
     "output_type": "execute_result"
    }
   ],
   "source": [
    "innings2_df.describe()"
   ]
  },
  {
   "cell_type": "code",
   "execution_count": 16,
   "metadata": {
    "colab": {
     "base_uri": "https://localhost:8080/"
    },
    "id": "epyXSFrK5Oqa",
    "outputId": "65a9d042-c69f-464b-d132-a50fe998179d"
   },
   "outputs": [
    {
     "data": {
      "text/plain": [
       "(13067, 10)"
      ]
     },
     "execution_count": 16,
     "metadata": {},
     "output_type": "execute_result"
    }
   ],
   "source": [
    "innings2_df.shape"
   ]
  },
  {
   "cell_type": "code",
   "execution_count": 17,
   "metadata": {
    "colab": {
     "base_uri": "https://localhost:8080/"
    },
    "id": "JW4A74z55V7k",
    "outputId": "63b82933-5090-4e73-d465-d29cc8554d16"
   },
   "outputs": [
    {
     "name": "stdout",
     "output_type": "stream",
     "text": [
      "The empty records are (array([ 1737,  1738,  1739,  1740,  1741,  1742,  1743,  1744,  1745,\n",
      "        1746,  1747,  1748,  4436,  4437,  4438,  4439,  4440,  4441,\n",
      "        4442,  4443,  4444,  4445,  4446,  4447,  4448,  4449,  4450,\n",
      "        4451,  4452,  4453,  4454,  4455,  4456,  4457,  4458,  4459,\n",
      "        4460,  4461,  4462,  4463,  4464,  4465,  4466,  4467,  4468,\n",
      "        4469,  4470,  4471,  4472,  4473,  4474,  4475,  4476,  4477,\n",
      "        4478,  4479,  4480,  4481,  4482,  4483,  4484,  4485,  4486,\n",
      "        4487,  4488,  4489,  4490,  4491,  4492,  4493,  4494,  4495,\n",
      "        4496,  4497,  4498,  4499,  4500,  4501,  4502,  4503,  4504,\n",
      "        4505,  4506,  4507,  4508,  5250,  5251,  5252,  5253,  5254,\n",
      "        5255,  5256,  5257,  5258,  5259,  5260,  5261,  5262,  5263,\n",
      "        5264,  5265,  5266,  5267,  5268,  5269,  5270,  5271,  5272,\n",
      "        5273,  5274,  5275,  5276,  5277,  5278,  5279,  5280,  5281,\n",
      "        5282,  5283,  5284,  5285,  5286,  5287,  5288,  5289,  5290,\n",
      "        5291,  5292,  5293,  5294,  5295,  5296,  5297,  5298,  5299,\n",
      "        5300,  5301,  5302,  5303,  5304,  5305,  5306,  5307,  5308,\n",
      "        5309,  5310,  5311,  5312,  5313,  5314,  5315,  5316,  5317,\n",
      "        5318,  5319,  5320,  5321,  5322,  5323,  5324,  5325,  5326,\n",
      "        5327,  5328,  5329,  5330,  5331,  5332,  5333,  5334,  5335,\n",
      "        5336,  5337,  5338,  5339,  5340,  5341,  5342,  5343,  5344,\n",
      "        5345,  5346,  5347,  5348,  5349,  5350,  5351,  5352,  5353,\n",
      "        5354,  5355,  5356,  5357,  5358,  5359,  5360,  5361,  5362,\n",
      "        5363,  5364,  5365,  5366,  5367,  5368,  5369,  5370,  5371,\n",
      "        5372,  5373,  9138,  9139,  9140,  9141,  9142,  9143,  9144,\n",
      "        9145,  9146,  9147,  9148,  9149,  9150,  9151,  9152,  9153,\n",
      "        9154,  9155,  9156,  9157,  9158,  9159,  9160,  9161,  9162,\n",
      "        9163,  9164,  9165,  9166,  9167,  9168,  9169,  9170,  9171,\n",
      "        9172,  9173,  9174,  9175,  9176,  9177,  9178,  9179,  9180,\n",
      "        9181,  9182,  9183,  9184,  9185,  9186,  9187,  9188,  9189,\n",
      "        9190,  9191,  9192,  9193,  9194,  9195,  9196,  9197,  9198,\n",
      "        9199,  9200,  9201,  9202,  9203,  9204,  9205,  9206,  9207,\n",
      "        9208,  9209,  9210,  9211,  9212,  9213,  9214,  9215,  9216,\n",
      "        9217,  9218,  9219,  9220,  9221,  9222,  9223,  9224,  9225,\n",
      "        9226,  9227,  9228,  9229,  9230,  9231,  9232,  9233,  9234,\n",
      "        9235,  9236,  9237,  9238,  9239,  9240,  9241,  9242,  9243,\n",
      "        9244,  9245,  9246,  9247,  9248,  9249,  9250,  9251,  9252,\n",
      "        9253,  9254,  9255,  9256,  9257,  9258,  9259,  9260,  9261,\n",
      "        9262,  9263, 10923, 10924, 10925, 10926, 10927, 10928, 10929,\n",
      "       10930, 10931, 10932, 10933, 10934, 10935, 13066, 13066, 13066],\n",
      "      dtype=int64), array([4, 4, 4, 4, 4, 4, 4, 4, 4, 4, 4, 4, 4, 4, 4, 4, 4, 4, 4, 4, 4, 4,\n",
      "       4, 4, 4, 4, 4, 4, 4, 4, 4, 4, 4, 4, 4, 4, 4, 4, 4, 4, 4, 4, 4, 4,\n",
      "       4, 4, 4, 4, 4, 4, 4, 4, 4, 4, 4, 4, 4, 4, 4, 4, 4, 4, 4, 4, 4, 4,\n",
      "       4, 4, 4, 4, 4, 4, 4, 4, 4, 4, 4, 4, 4, 4, 4, 4, 4, 4, 4, 4, 4, 4,\n",
      "       4, 4, 4, 4, 4, 4, 4, 4, 4, 4, 4, 4, 4, 4, 4, 4, 4, 4, 4, 4, 4, 4,\n",
      "       4, 4, 4, 4, 4, 4, 4, 4, 4, 4, 4, 4, 4, 4, 4, 4, 4, 4, 4, 4, 4, 4,\n",
      "       4, 4, 4, 4, 4, 4, 4, 4, 4, 4, 4, 4, 4, 4, 4, 4, 4, 4, 4, 4, 4, 4,\n",
      "       4, 4, 4, 4, 4, 4, 4, 4, 4, 4, 4, 4, 4, 4, 4, 4, 4, 4, 4, 4, 4, 4,\n",
      "       4, 4, 4, 4, 4, 4, 4, 4, 4, 4, 4, 4, 4, 4, 4, 4, 4, 4, 4, 4, 4, 4,\n",
      "       4, 4, 4, 4, 4, 4, 4, 4, 4, 4, 4, 4, 4, 4, 4, 4, 4, 4, 4, 4, 4, 4,\n",
      "       4, 4, 4, 4, 4, 4, 4, 4, 4, 4, 4, 4, 4, 4, 4, 4, 4, 4, 4, 4, 4, 4,\n",
      "       4, 4, 4, 4, 4, 4, 4, 4, 4, 4, 4, 4, 4, 4, 4, 4, 4, 4, 4, 4, 4, 4,\n",
      "       4, 4, 4, 4, 4, 4, 4, 4, 4, 4, 4, 4, 4, 4, 4, 4, 4, 4, 4, 4, 4, 4,\n",
      "       4, 4, 4, 4, 4, 4, 4, 4, 4, 4, 4, 4, 4, 4, 4, 4, 4, 4, 4, 4, 4, 4,\n",
      "       4, 4, 4, 4, 4, 4, 4, 4, 4, 4, 4, 4, 4, 4, 4, 4, 4, 4, 4, 4, 4, 4,\n",
      "       4, 4, 4, 4, 4, 4, 4, 4, 4, 4, 4, 4, 4, 4, 4, 4, 4, 4, 7, 8, 9],\n",
      "      dtype=int64))\n",
      "Categorical data is ['matchId', 'tossWinner', 'battingTeam', 'bowlingTeam', 'city', 'venue'] \n",
      "Are there any duplicate values? False\n"
     ]
    }
   ],
   "source": [
    "#Checking for empty records\n",
    "print(f\"The empty records are {np.where(pd.isnull(innings2_df))}\")\n",
    "#Checking for categorical features\n",
    "print(f\"Categorical data is {innings2_df.select_dtypes(include=['object']).columns.tolist()} \")\n",
    "#Checking for duplicate values\n",
    "print(f\"Are there any duplicate values? {innings2_df.duplicated().any()}\")"
   ]
  },
  {
   "cell_type": "code",
   "execution_count": 18,
   "metadata": {
    "colab": {
     "base_uri": "https://localhost:8080/"
    },
    "id": "ep1Tc-H55WMc",
    "outputId": "c02bc36e-b65b-4ce1-bf9d-0a563cc70561"
   },
   "outputs": [
    {
     "name": "stdout",
     "output_type": "stream",
     "text": [
      "tossWinner\n",
      "Pakistan        2065\n",
      "England         1833\n",
      "India           1763\n",
      "Australia       1598\n",
      "South Africa    1123\n",
      "Sri Lanka       1084\n",
      "New Zealand      674\n",
      "Afghanistan      562\n",
      "West Indies      476\n",
      "Netherlands      475\n",
      "Ireland          458\n",
      "Bangladesh       364\n",
      "NaN              348\n",
      "Zimbabwe         244\n",
      "Name: count, dtype: int64\n"
     ]
    }
   ],
   "source": [
    "print(innings2_df['tossWinner'].value_counts(dropna=False))  #Inspecting unique values"
   ]
  },
  {
   "cell_type": "code",
   "execution_count": 19,
   "metadata": {
    "id": "x-sEpxvg5cis"
   },
   "outputs": [],
   "source": [
    "innings2_df_cleaned = innings2_df.dropna()"
   ]
  },
  {
   "cell_type": "code",
   "execution_count": 20,
   "metadata": {
    "colab": {
     "base_uri": "https://localhost:8080/"
    },
    "id": "UIh2jCBH5iy7",
    "outputId": "91db00d8-1ecd-4478-a8bc-358d6c850e7b"
   },
   "outputs": [
    {
     "name": "stdout",
     "output_type": "stream",
     "text": [
      "<class 'pandas.core.frame.DataFrame'>\n",
      "Index: 12718 entries, 0 to 13065\n",
      "Data columns (total 10 columns):\n",
      " #   Column       Non-Null Count  Dtype  \n",
      "---  ------       --------------  -----  \n",
      " 0   Unnamed: 0   12718 non-null  int64  \n",
      " 1   matchId      12718 non-null  object \n",
      " 2   balls        12718 non-null  float64\n",
      " 3   runs         12718 non-null  int64  \n",
      " 4   tossWinner   12718 non-null  object \n",
      " 5   battingTeam  12718 non-null  object \n",
      " 6   bowlingTeam  12718 non-null  object \n",
      " 7   player_out   12718 non-null  float64\n",
      " 8   city         12718 non-null  object \n",
      " 9   venue        12718 non-null  object \n",
      "dtypes: float64(2), int64(2), object(6)\n",
      "memory usage: 1.1+ MB\n",
      "None\n",
      "Unnamed: 0     0\n",
      "matchId        0\n",
      "balls          0\n",
      "runs           0\n",
      "tossWinner     0\n",
      "battingTeam    0\n",
      "bowlingTeam    0\n",
      "player_out     0\n",
      "city           0\n",
      "venue          0\n",
      "dtype: int64\n"
     ]
    }
   ],
   "source": [
    "print(innings2_df_cleaned.info())\n",
    "print(innings2_df_cleaned.isnull().sum())#Verifying no nulls remain"
   ]
  },
  {
   "cell_type": "markdown",
   "metadata": {
    "id": "nNiTu-FH6m70"
   },
   "source": [
    "## Plotting the data to understand it better"
   ]
  },
  {
   "cell_type": "code",
   "execution_count": 21,
   "metadata": {
    "colab": {
     "base_uri": "https://localhost:8080/",
     "height": 641
    },
    "id": "evuvpA2K60Sm",
    "outputId": "e25a4b6b-5ee1-41df-8d75-59d8e615642a"
   },
   "outputs": [
    {
     "data": {
      "image/png": "[encoded data removed]",
      "text/plain": [
       "<Figure size 1000x600 with 1 Axes>"
      ]
     },
     "metadata": {},
     "output_type": "display_data"
    }
   ],
   "source": [
    "innings1_df_cleaned['tossWinner'].value_counts().plot(kind='bar', figsize=(10, 6))\n",
    "plt.title(\"Toss Winner Distribution Innings 1\")\n",
    "plt.ylabel(\"Count\")\n",
    "plt.xlabel(\"Teams\")\n",
    "plt.show()"
   ]
  },
  {
   "cell_type": "code",
   "execution_count": 22,
   "metadata": {
    "colab": {
     "base_uri": "https://localhost:8080/",
     "height": 564
    },
    "id": "yqBII7vt67NJ",
    "outputId": "11dfd295-d674-4067-e200-93ae9e73b7ba"
   },
   "outputs": [
    {
     "data": {
      "image/png": "[encoded data removed]",
      "text/plain": [
       "<Figure size 1000x600 with 1 Axes>"
      ]
     },
     "metadata": {},
     "output_type": "display_data"
    }
   ],
   "source": [
    "innings1_df_cleaned['runs'].hist(bins=30, color='skyblue', edgecolor='black', figsize=(10, 6))\n",
    "plt.title(\"Runs Distribution Innings 1\")\n",
    "plt.xlabel(\"Runs\")\n",
    "plt.ylabel(\"Frequency\")\n",
    "plt.show()"
   ]
  },
  {
   "cell_type": "code",
   "execution_count": 23,
   "metadata": {
    "colab": {
     "base_uri": "https://localhost:8080/",
     "height": 549
    },
    "id": "ICZKpCI-5lyO",
    "outputId": "fd9ab81b-02e9-4b8d-dd7f-92dc4650ae87"
   },
   "outputs": [
    {
     "data": {
      "image/png": "[encoded data removed]",
      "text/plain": [
       "<Figure size 640x480 with 1 Axes>"
      ]
     },
     "metadata": {},
     "output_type": "display_data"
    }
   ],
   "source": [
    "sns.boxplot(data=innings1_df_cleaned, x='battingTeam', y='runs')\n",
    "plt.xticks(rotation=90)\n",
    "plt.title(\"Runs by Batting Team per ball\")\n",
    "plt.show()"
   ]
  },
  {
   "cell_type": "code",
   "execution_count": 24,
   "metadata": {
    "colab": {
     "base_uri": "https://localhost:8080/",
     "height": 641
    },
    "id": "XCQ5wjfB8ES1",
    "outputId": "63e2f449-940e-4c0c-cc41-b937c10c5098"
   },
   "outputs": [
    {
     "data": {
      "image/png": "[encoded data removed]",
      "text/plain": [
       "<Figure size 1000x600 with 1 Axes>"
      ]
     },
     "metadata": {},
     "output_type": "display_data"
    }
   ],
   "source": [
    "innings1_df_cleaned.groupby('battingTeam')['player_out'].sum().plot(kind='bar', figsize=(10, 6), color='orange')\n",
    "plt.title(\"Total Dismissals by Batting Team\")\n",
    "plt.ylabel(\"Player Outs\")\n",
    "plt.xlabel(\"Batting Team\")\n",
    "plt.show()"
   ]
  },
  {
   "cell_type": "code",
   "execution_count": 25,
   "metadata": {
    "colab": {
     "base_uri": "https://localhost:8080/",
     "height": 564
    },
    "id": "eVH4YMKc8YwK",
    "outputId": "c2560b60-a6de-4159-bed7-45fb3fad07d2"
   },
   "outputs": [
    {
     "data": {
      "image/png": "[encoded data removed]",
      "text/plain": [
       "<Figure size 800x600 with 1 Axes>"
      ]
     },
     "metadata": {},
     "output_type": "display_data"
    }
   ],
   "source": [
    "plt.figure(figsize = (8, 6))\n",
    "plt.hist(innings1_df_cleaned['balls'], bins = 20, color = 'skyblue', edgecolor = 'black')\n",
    "plt.title(\"Distribution of Balls Played Innings 1\")\n",
    "plt.xlabel(\"Balls played\")\n",
    "plt.ylabel(\"Frequency\")\n",
    "plt.show()"
   ]
  },
  {
   "cell_type": "code",
   "execution_count": 26,
   "metadata": {
    "colab": {
     "base_uri": "https://localhost:8080/",
     "height": 564
    },
    "id": "SF71JBU4-Dmp",
    "outputId": "98624033-70cb-417f-d6e0-e29770a4f057"
   },
   "outputs": [
    {
     "data": {
      "image/png": "[encoded data removed]",
      "text/plain": [
       "<Figure size 800x600 with 1 Axes>"
      ]
     },
     "metadata": {},
     "output_type": "display_data"
    }
   ],
   "source": [
    "plt.figure(figsize = (8, 6))\n",
    "plt.hist(innings2_df_cleaned['balls'], bins = 20, color = 'orange', edgecolor = 'black')\n",
    "plt.title(\"Distribution of Balls Played Innings 2\")\n",
    "plt.xlabel(\"Balls played\")\n",
    "plt.ylabel(\"Frequency\")\n",
    "plt.show()"
   ]
  },
  {
   "cell_type": "code",
   "execution_count": 27,
   "metadata": {
    "colab": {
     "base_uri": "https://localhost:8080/",
     "height": 821
    },
    "id": "4jukfPYf-T3j",
    "outputId": "f7033597-081d-4a5e-d61b-07f0ca13a150"
   },
   "outputs": [
    {
     "data": {
      "image/png": "[encoded data removed]",
      "text/plain": [
       "<Figure size 1000x600 with 1 Axes>"
      ]
     },
     "metadata": {},
     "output_type": "display_data"
    }
   ],
   "source": [
    "# Checking match venues\n",
    "venue_counts = innings1_df_cleaned['venue'].value_counts().head(5)\n",
    "venue_counts.plot(kind = 'bar', color = 'black', figsize = (10, 6))\n",
    "plt.title(\"Top 5 Venues for Innings 1\")\n",
    "plt.xlabel(\"Venue\")\n",
    "plt.ylabel(\"Match Count\")\n",
    "plt.show()"
   ]
  },
  {
   "cell_type": "code",
   "execution_count": 28,
   "metadata": {
    "colab": {
     "base_uri": "https://localhost:8080/",
     "height": 821
    },
    "id": "J0VIf8Kk-ug2",
    "outputId": "89137d11-595a-474e-a64a-9ae86b5f5edd"
   },
   "outputs": [
    {
     "data": {
      "image/png": "[encoded data removed]",
      "text/plain": [
       "<Figure size 1000x600 with 1 Axes>"
      ]
     },
     "metadata": {},
     "output_type": "display_data"
    }
   ],
   "source": [
    "# Checking match venues\n",
    "venue_counts = innings2_df_cleaned['venue'].value_counts().head(5)\n",
    "venue_counts.plot(kind = 'bar', color = 'black', figsize = (10, 6))\n",
    "plt.title(\"Top 5 Venues for Innings 2\")\n",
    "plt.xlabel(\"Venue\")\n",
    "plt.ylabel(\"Match Count\")\n",
    "plt.show()"
   ]
  },
  {
   "cell_type": "code",
   "execution_count": 29,
   "metadata": {
    "colab": {
     "base_uri": "https://localhost:8080/"
    },
    "id": "44WQrRdG_CQl",
    "outputId": "54065b08-7a73-4a24-900d-3e8e6e374fd3"
   },
   "outputs": [
    {
     "data": {
      "text/plain": [
       "Index(['Unnamed: 0', 'matchId', 'balls', 'runs', 'tossWinner', 'battingTeam',\n",
       "       'bowlingTeam', 'player_out', 'city', 'venue'],\n",
       "      dtype='object')"
      ]
     },
     "execution_count": 29,
     "metadata": {},
     "output_type": "execute_result"
    }
   ],
   "source": [
    "innings1_df_cleaned.columns"
   ]
  },
  {
   "cell_type": "code",
   "execution_count": 30,
   "metadata": {
    "id": "8u6G0MDZ_MBu"
   },
   "outputs": [],
   "source": [
    "innings1_df = innings1_df_cleaned.drop('Unnamed: 0', axis = 1)\n",
    "innings2_df = innings2_df_cleaned.drop('Unnamed: 0', axis = 1)\n",
    "#Unnamed : 0 is an irrelevant column so dropped it"
   ]
  },
  {
   "cell_type": "code",
   "execution_count": 31,
   "metadata": {
    "id": "QkOEfpvDlUJi"
   },
   "outputs": [],
   "source": [
    "innings1_df['runs'] = innings1_df['runs'].astype(int)\n",
    "innings1_df['player_out'] = innings1_df['player_out'].astype(int)\n",
    "\n",
    "innings2_df['runs'] = innings2_df['runs'].astype(int)\n",
    "innings2_df['player_out'] = innings2_df['player_out'].astype(int)"
   ]
  },
  {
   "cell_type": "code",
   "execution_count": 32,
   "metadata": {
    "colab": {
     "base_uri": "https://localhost:8080/",
     "height": 780
    },
    "id": "oi4_61brdDZ5",
    "outputId": "6171a79a-5283-4265-fa7e-bc8df01fc4af"
   },
   "outputs": [
    {
     "data": {
      "text/html": [
       "<div>\n",
       "<style scoped>\n",
       "    .dataframe tbody tr th:only-of-type {\n",
       "        vertical-align: middle;\n",
       "    }\n",
       "\n",
       "    .dataframe tbody tr th {\n",
       "        vertical-align: top;\n",
       "    }\n",
       "\n",
       "    .dataframe thead th {\n",
       "        text-align: right;\n",
       "    }\n",
       "</style>\n",
       "<table border=\"1\" class=\"dataframe\">\n",
       "  <thead>\n",
       "    <tr style=\"text-align: right;\">\n",
       "      <th></th>\n",
       "      <th>matchId</th>\n",
       "      <th>balls</th>\n",
       "      <th>runs</th>\n",
       "      <th>tossWinner</th>\n",
       "      <th>battingTeam</th>\n",
       "      <th>bowlingTeam</th>\n",
       "      <th>player_out</th>\n",
       "      <th>city</th>\n",
       "      <th>venue</th>\n",
       "    </tr>\n",
       "  </thead>\n",
       "  <tbody>\n",
       "    <tr>\n",
       "      <th>0</th>\n",
       "      <td>5_1</td>\n",
       "      <td>0.1</td>\n",
       "      <td>0</td>\n",
       "      <td>India</td>\n",
       "      <td>West Indies</td>\n",
       "      <td>India</td>\n",
       "      <td>0</td>\n",
       "      <td>Lauderhill</td>\n",
       "      <td>Central Broward Regional Park Stadium Turf Ground</td>\n",
       "    </tr>\n",
       "    <tr>\n",
       "      <th>1</th>\n",
       "      <td>5_1</td>\n",
       "      <td>0.2</td>\n",
       "      <td>0</td>\n",
       "      <td>India</td>\n",
       "      <td>West Indies</td>\n",
       "      <td>India</td>\n",
       "      <td>1</td>\n",
       "      <td>Lauderhill</td>\n",
       "      <td>Central Broward Regional Park Stadium Turf Ground</td>\n",
       "    </tr>\n",
       "    <tr>\n",
       "      <th>2</th>\n",
       "      <td>5_1</td>\n",
       "      <td>0.3</td>\n",
       "      <td>0</td>\n",
       "      <td>India</td>\n",
       "      <td>West Indies</td>\n",
       "      <td>India</td>\n",
       "      <td>0</td>\n",
       "      <td>Lauderhill</td>\n",
       "      <td>Central Broward Regional Park Stadium Turf Ground</td>\n",
       "    </tr>\n",
       "    <tr>\n",
       "      <th>3</th>\n",
       "      <td>5_1</td>\n",
       "      <td>0.4</td>\n",
       "      <td>1</td>\n",
       "      <td>India</td>\n",
       "      <td>West Indies</td>\n",
       "      <td>India</td>\n",
       "      <td>0</td>\n",
       "      <td>Lauderhill</td>\n",
       "      <td>Central Broward Regional Park Stadium Turf Ground</td>\n",
       "    </tr>\n",
       "    <tr>\n",
       "      <th>4</th>\n",
       "      <td>5_1</td>\n",
       "      <td>0.5</td>\n",
       "      <td>0</td>\n",
       "      <td>India</td>\n",
       "      <td>West Indies</td>\n",
       "      <td>India</td>\n",
       "      <td>0</td>\n",
       "      <td>Lauderhill</td>\n",
       "      <td>Central Broward Regional Park Stadium Turf Ground</td>\n",
       "    </tr>\n",
       "    <tr>\n",
       "      <th>5</th>\n",
       "      <td>5_1</td>\n",
       "      <td>0.6</td>\n",
       "      <td>5</td>\n",
       "      <td>India</td>\n",
       "      <td>West Indies</td>\n",
       "      <td>India</td>\n",
       "      <td>0</td>\n",
       "      <td>Lauderhill</td>\n",
       "      <td>Central Broward Regional Park Stadium Turf Ground</td>\n",
       "    </tr>\n",
       "    <tr>\n",
       "      <th>6</th>\n",
       "      <td>5_1</td>\n",
       "      <td>0.7</td>\n",
       "      <td>0</td>\n",
       "      <td>India</td>\n",
       "      <td>West Indies</td>\n",
       "      <td>India</td>\n",
       "      <td>0</td>\n",
       "      <td>Lauderhill</td>\n",
       "      <td>Central Broward Regional Park Stadium Turf Ground</td>\n",
       "    </tr>\n",
       "    <tr>\n",
       "      <th>7</th>\n",
       "      <td>5_1</td>\n",
       "      <td>1.1</td>\n",
       "      <td>0</td>\n",
       "      <td>India</td>\n",
       "      <td>West Indies</td>\n",
       "      <td>India</td>\n",
       "      <td>0</td>\n",
       "      <td>Lauderhill</td>\n",
       "      <td>Central Broward Regional Park Stadium Turf Ground</td>\n",
       "    </tr>\n",
       "    <tr>\n",
       "      <th>8</th>\n",
       "      <td>5_1</td>\n",
       "      <td>1.2</td>\n",
       "      <td>1</td>\n",
       "      <td>India</td>\n",
       "      <td>West Indies</td>\n",
       "      <td>India</td>\n",
       "      <td>0</td>\n",
       "      <td>Lauderhill</td>\n",
       "      <td>Central Broward Regional Park Stadium Turf Ground</td>\n",
       "    </tr>\n",
       "    <tr>\n",
       "      <th>9</th>\n",
       "      <td>5_1</td>\n",
       "      <td>1.3</td>\n",
       "      <td>0</td>\n",
       "      <td>India</td>\n",
       "      <td>West Indies</td>\n",
       "      <td>India</td>\n",
       "      <td>0</td>\n",
       "      <td>Lauderhill</td>\n",
       "      <td>Central Broward Regional Park Stadium Turf Ground</td>\n",
       "    </tr>\n",
       "    <tr>\n",
       "      <th>10</th>\n",
       "      <td>5_1</td>\n",
       "      <td>1.4</td>\n",
       "      <td>0</td>\n",
       "      <td>India</td>\n",
       "      <td>West Indies</td>\n",
       "      <td>India</td>\n",
       "      <td>0</td>\n",
       "      <td>Lauderhill</td>\n",
       "      <td>Central Broward Regional Park Stadium Turf Ground</td>\n",
       "    </tr>\n",
       "    <tr>\n",
       "      <th>11</th>\n",
       "      <td>5_1</td>\n",
       "      <td>1.5</td>\n",
       "      <td>1</td>\n",
       "      <td>India</td>\n",
       "      <td>West Indies</td>\n",
       "      <td>India</td>\n",
       "      <td>0</td>\n",
       "      <td>Lauderhill</td>\n",
       "      <td>Central Broward Regional Park Stadium Turf Ground</td>\n",
       "    </tr>\n",
       "    <tr>\n",
       "      <th>12</th>\n",
       "      <td>5_1</td>\n",
       "      <td>1.6</td>\n",
       "      <td>0</td>\n",
       "      <td>India</td>\n",
       "      <td>West Indies</td>\n",
       "      <td>India</td>\n",
       "      <td>0</td>\n",
       "      <td>Lauderhill</td>\n",
       "      <td>Central Broward Regional Park Stadium Turf Ground</td>\n",
       "    </tr>\n",
       "    <tr>\n",
       "      <th>13</th>\n",
       "      <td>5_1</td>\n",
       "      <td>1.7</td>\n",
       "      <td>0</td>\n",
       "      <td>India</td>\n",
       "      <td>West Indies</td>\n",
       "      <td>India</td>\n",
       "      <td>1</td>\n",
       "      <td>Lauderhill</td>\n",
       "      <td>Central Broward Regional Park Stadium Turf Ground</td>\n",
       "    </tr>\n",
       "    <tr>\n",
       "      <th>14</th>\n",
       "      <td>5_1</td>\n",
       "      <td>2.1</td>\n",
       "      <td>4</td>\n",
       "      <td>India</td>\n",
       "      <td>West Indies</td>\n",
       "      <td>India</td>\n",
       "      <td>0</td>\n",
       "      <td>Lauderhill</td>\n",
       "      <td>Central Broward Regional Park Stadium Turf Ground</td>\n",
       "    </tr>\n",
       "  </tbody>\n",
       "</table>\n",
       "</div>"
      ],
      "text/plain": [
       "   matchId  balls  runs tossWinner  battingTeam bowlingTeam  player_out  \\\n",
       "0      5_1    0.1     0      India  West Indies       India           0   \n",
       "1      5_1    0.2     0      India  West Indies       India           1   \n",
       "2      5_1    0.3     0      India  West Indies       India           0   \n",
       "3      5_1    0.4     1      India  West Indies       India           0   \n",
       "4      5_1    0.5     0      India  West Indies       India           0   \n",
       "5      5_1    0.6     5      India  West Indies       India           0   \n",
       "6      5_1    0.7     0      India  West Indies       India           0   \n",
       "7      5_1    1.1     0      India  West Indies       India           0   \n",
       "8      5_1    1.2     1      India  West Indies       India           0   \n",
       "9      5_1    1.3     0      India  West Indies       India           0   \n",
       "10     5_1    1.4     0      India  West Indies       India           0   \n",
       "11     5_1    1.5     1      India  West Indies       India           0   \n",
       "12     5_1    1.6     0      India  West Indies       India           0   \n",
       "13     5_1    1.7     0      India  West Indies       India           1   \n",
       "14     5_1    2.1     4      India  West Indies       India           0   \n",
       "\n",
       "          city                                              venue  \n",
       "0   Lauderhill  Central Broward Regional Park Stadium Turf Ground  \n",
       "1   Lauderhill  Central Broward Regional Park Stadium Turf Ground  \n",
       "2   Lauderhill  Central Broward Regional Park Stadium Turf Ground  \n",
       "3   Lauderhill  Central Broward Regional Park Stadium Turf Ground  \n",
       "4   Lauderhill  Central Broward Regional Park Stadium Turf Ground  \n",
       "5   Lauderhill  Central Broward Regional Park Stadium Turf Ground  \n",
       "6   Lauderhill  Central Broward Regional Park Stadium Turf Ground  \n",
       "7   Lauderhill  Central Broward Regional Park Stadium Turf Ground  \n",
       "8   Lauderhill  Central Broward Regional Park Stadium Turf Ground  \n",
       "9   Lauderhill  Central Broward Regional Park Stadium Turf Ground  \n",
       "10  Lauderhill  Central Broward Regional Park Stadium Turf Ground  \n",
       "11  Lauderhill  Central Broward Regional Park Stadium Turf Ground  \n",
       "12  Lauderhill  Central Broward Regional Park Stadium Turf Ground  \n",
       "13  Lauderhill  Central Broward Regional Park Stadium Turf Ground  \n",
       "14  Lauderhill  Central Broward Regional Park Stadium Turf Ground  "
      ]
     },
     "execution_count": 32,
     "metadata": {},
     "output_type": "execute_result"
    }
   ],
   "source": [
    "innings1_df.head(15)"
   ]
  },
  {
   "cell_type": "code",
   "execution_count": 33,
   "metadata": {
    "colab": {
     "base_uri": "https://localhost:8080/"
    },
    "id": "4BBV3y82OXUQ",
    "outputId": "b2dcf141-1d8f-45d6-9927-a4d7bbf1f8dc"
   },
   "outputs": [
    {
     "data": {
      "text/plain": [
       "(12411, 9)"
      ]
     },
     "execution_count": 33,
     "metadata": {},
     "output_type": "execute_result"
    }
   ],
   "source": [
    "innings1_df.shape"
   ]
  },
  {
   "cell_type": "code",
   "execution_count": 35,
   "metadata": {
    "colab": {
     "base_uri": "https://localhost:8080/",
     "height": 388
    },
    "id": "8UJhtRAV_5FX",
    "outputId": "41c68e7f-7175-4adb-dbdc-1380217786ed"
   },
   "outputs": [
    {
     "name": "stdout",
     "output_type": "stream",
     "text": [
      "Graph loaded with 1923410 triples.\n",
      "Time taken to load the RDF file: 164.01 seconds\n"
     ]
    }
   ],
   "source": [
    "import time\n",
    "from rdflib import Graph\n",
    "\n",
    "start_time = time.time()\n",
    "\n",
    "rdf_file = \"P9 - T20 Ontology based Analytics/T20.rdf\"\n",
    "g = Graph()\n",
    "g.parse(rdf_file, format=\"xml\")\n",
    "\n",
    "end_time = time.time()\n",
    "\n",
    "total_time = end_time - start_time\n",
    "\n",
    "print(f\"Graph loaded with {len(g)} triples.\")\n",
    "print(f\"Time taken to load the RDF file: {total_time:.2f} seconds\")\n"
   ]
  },
  {
   "cell_type": "markdown",
   "metadata": {
    "id": "MZPFQI--h4MO"
   },
   "source": [
    "The given RDF is very large and needs significant computational power for any sort of queries.\n",
    "\n",
    "So we have decided to create our own RDF using the given dataframes in order to improve computational time and have greater control over the structure of the RDF."
   ]
  },
  {
   "cell_type": "markdown",
   "metadata": {
    "id": "-d_AqUZZ_9R-"
   },
   "source": [
    "## Creating RDF File"
   ]
  },
  {
   "cell_type": "code",
   "execution_count": 36,
   "metadata": {
    "id": "4rehxrHNO_ti"
   },
   "outputs": [],
   "source": [
    "#Creating namespace for my ontology\n",
    "onto = Namespace(\"http://www.semanticweb.org/aarib/ontologies/2024/t20-cricket#\")\n",
    "\n",
    "g = Graph()\n",
    "\n",
    "g.bind(\"owl\", OWL)\n",
    "g.bind(\"xsd\", XSD)\n",
    "\n",
    "g.bind(\"onto\", onto)\n",
    "\n",
    "def create_rdf_triples(dataframe, innings):\n",
    "  for index, row in dataframe.iterrows():\n",
    "    match_id = row['matchId']\n",
    "    balls = row['balls']\n",
    "    runs = row['runs']\n",
    "    batting_team = row['battingTeam']\n",
    "    toss_winner = row['tossWinner']\n",
    "    bowling_team = row['bowlingTeam']\n",
    "    player_dismissed = row['player_out']\n",
    "    city = row['city']\n",
    "    venue = row['venue']\n",
    "\n",
    "    match_uri = onto[f\"match_{innings}_{match_id}\"] #Dynamically generating URI's\n",
    "    inning_uri = onto[f\"inning_{innings}\"]\n",
    "\n",
    "    #Adding triples to the graph\n",
    "    g.add((match_uri, RDF.type, inning_uri)) #Makes match a specific type of inning\n",
    "    g.add((match_uri, onto.hasID, Literal(match_id)))\n",
    "    g.add((match_uri, onto.hasBall, Literal(balls, datatype=XSD.float)))\n",
    "    g.add((match_uri, onto.hasRuns, Literal(runs, datatype=XSD.int))) #Defining types as RDF doesn't inherently know if float or int\n",
    "    g.add((match_uri, onto.hasBattingTeam, Literal(batting_team))) #Strings dont need to be defined explicitly knwon\n",
    "    g.add((match_uri, onto.hasTossWinner, Literal(toss_winner)))\n",
    "    g.add((match_uri, onto.hasBowlingTeam, Literal(bowling_team)))\n",
    "    g.add((match_uri, onto.hasPlayerDismissed, Literal(player_dismissed, datatype = XSD.int)))\n",
    "    g.add((match_uri, onto.hasCity, Literal(city)))\n",
    "    g.add((match_uri, onto.hasVenue, Literal(venue)))"
   ]
  },
  {
   "cell_type": "code",
   "execution_count": 37,
   "metadata": {
    "id": "ei0JIGOSt_AE"
   },
   "outputs": [],
   "source": [
    "create_rdf_triples(innings1_df, \"1st\")\n",
    "create_rdf_triples(innings2_df, \"2nd\")"
   ]
  },
  {
   "cell_type": "code",
   "execution_count": 39,
   "metadata": {
    "colab": {
     "base_uri": "https://localhost:8080/"
    },
    "id": "P92KKGvFuHjc",
    "outputId": "82641214-feba-4f82-91f1-357ac223f626"
   },
   "outputs": [
    {
     "data": {
      "text/plain": [
       "<Graph identifier=N543218b265594581af900cdc953b20d2 (<class 'rdflib.graph.Graph'>)>"
      ]
     },
     "execution_count": 39,
     "metadata": {},
     "output_type": "execute_result"
    }
   ],
   "source": [
    "g.serialize(destination=\"Aarib_t20_cricket_ontology.rdf\", format=\"xml\")"
   ]
  },
  {
   "cell_type": "code",
   "execution_count": 38,
   "metadata": {
    "colab": {
     "base_uri": "https://localhost:8080/"
    },
    "id": "FnhGYTcbvJRO",
    "outputId": "23371051-119f-4b2c-c5a4-cb30cbb7c7d3"
   },
   "outputs": [
    {
     "name": "stdout",
     "output_type": "stream",
     "text": [
      "The total number of triples in the graph I have created myself are 28279\n"
     ]
    }
   ],
   "source": [
    "print(f\"The total number of triples in the graph I have created myself are {len(g)}\")"
   ]
  },
  {
   "cell_type": "markdown",
   "metadata": {
    "id": "0Y5mKdzovrNk"
   },
   "source": [
    "## Checking classes, relations and instances in the graph"
   ]
  },
  {
   "cell_type": "code",
   "execution_count": 41,
   "metadata": {
    "colab": {
     "base_uri": "https://localhost:8080/"
    },
    "id": "ryzO7SEyvJgp",
    "outputId": "f4d78eed-ba3c-4e74-a41e-aba76ae6cb09"
   },
   "outputs": [
    {
     "name": "stdout",
     "output_type": "stream",
     "text": [
      "Distinct Classes:\n",
      "http://www.semanticweb.org/aarib/ontologies/2024/t20-cricket#inning_1st\n",
      "http://www.semanticweb.org/aarib/ontologies/2024/t20-cricket#inning_2nd\n"
     ]
    }
   ],
   "source": [
    "#query to get distinct classes from the RDF graph\n",
    "class_query = \"\"\"\n",
    "  SELECT DISTINCT ?class\n",
    "  WHERE {\n",
    "    ?subject a ?class\n",
    "  }\n",
    "\"\"\"\n",
    "\n",
    "classes = g.query(class_query)\n",
    "\n",
    "print(\"Distinct Classes:\")\n",
    "for class_uri, in classes:\n",
    "    print(class_uri)"
   ]
  },
  {
   "cell_type": "code",
   "execution_count": 42,
   "metadata": {
    "colab": {
     "base_uri": "https://localhost:8080/"
    },
    "id": "0jS0PI6zweTS",
    "outputId": "d4418a0d-69ff-47d7-ec84-dda261228f07"
   },
   "outputs": [
    {
     "name": "stdout",
     "output_type": "stream",
     "text": [
      "Distinct Relations (Predicates):\n",
      "http://www.semanticweb.org/aarib/ontologies/2024/t20-cricket#hasBall\n",
      "http://www.semanticweb.org/aarib/ontologies/2024/t20-cricket#hasRuns\n",
      "http://www.semanticweb.org/aarib/ontologies/2024/t20-cricket#hasPlayerDismissed\n",
      "http://www.semanticweb.org/aarib/ontologies/2024/t20-cricket#hasCity\n",
      "http://www.semanticweb.org/aarib/ontologies/2024/t20-cricket#hasBattingTeam\n",
      "http://www.semanticweb.org/aarib/ontologies/2024/t20-cricket#hasVenue\n",
      "http://www.semanticweb.org/aarib/ontologies/2024/t20-cricket#hasBowlingTeam\n",
      "http://www.semanticweb.org/aarib/ontologies/2024/t20-cricket#hasTossWinner\n",
      "http://www.semanticweb.org/aarib/ontologies/2024/t20-cricket#hasID\n",
      "http://www.w3.org/1999/02/22-rdf-syntax-ns#type\n"
     ]
    }
   ],
   "source": [
    "#Query to get distinct relations/properties from the RDF graph\n",
    "relation_query = \"\"\"\n",
    "  SELECT DISTINCT ?relation\n",
    "  WHERE {\n",
    "    ?subject ?relation ?object\n",
    "  }\n",
    "\"\"\"\n",
    "\n",
    "relations = g.query(relation_query)\n",
    "\n",
    "print(\"Distinct Relations (Predicates):\")\n",
    "for relation_uri, in relations:\n",
    "    print(relation_uri)\n"
   ]
  },
  {
   "cell_type": "code",
   "execution_count": 43,
   "metadata": {
    "colab": {
     "base_uri": "https://localhost:8080/"
    },
    "collapsed": true,
    "id": "Ls8FEuODPDOZ",
    "jupyter": {
     "outputs_hidden": true
    },
    "outputId": "e949445f-5ebe-4fa7-ceb0-711d6a21e1ed"
   },
   "outputs": [
    {
     "name": "stdout",
     "output_type": "stream",
     "text": [
      "Instances:\n",
      "http://www.semanticweb.org/aarib/ontologies/2024/t20-cricket#match_1st_5_1\n",
      "http://www.semanticweb.org/aarib/ontologies/2024/t20-cricket#match_1st_7_1\n",
      "http://www.semanticweb.org/aarib/ontologies/2024/t20-cricket#match_1st_9_1\n",
      "http://www.semanticweb.org/aarib/ontologies/2024/t20-cricket#match_1st_10_1\n",
      "http://www.semanticweb.org/aarib/ontologies/2024/t20-cricket#match_1st_11_1\n",
      "http://www.semanticweb.org/aarib/ontologies/2024/t20-cricket#match_1st_13_1\n",
      "http://www.semanticweb.org/aarib/ontologies/2024/t20-cricket#match_1st_19_1\n",
      "http://www.semanticweb.org/aarib/ontologies/2024/t20-cricket#match_1st_24_1\n",
      "http://www.semanticweb.org/aarib/ontologies/2024/t20-cricket#match_1st_25_1\n",
      "http://www.semanticweb.org/aarib/ontologies/2024/t20-cricket#match_1st_32_1\n",
      "http://www.semanticweb.org/aarib/ontologies/2024/t20-cricket#match_1st_34_1\n",
      "http://www.semanticweb.org/aarib/ontologies/2024/t20-cricket#match_1st_35_1\n",
      "http://www.semanticweb.org/aarib/ontologies/2024/t20-cricket#match_1st_39_1\n",
      "http://www.semanticweb.org/aarib/ontologies/2024/t20-cricket#match_1st_42_1\n",
      "http://www.semanticweb.org/aarib/ontologies/2024/t20-cricket#match_1st_43_1\n",
      "http://www.semanticweb.org/aarib/ontologies/2024/t20-cricket#match_1st_44_1\n",
      "http://www.semanticweb.org/aarib/ontologies/2024/t20-cricket#match_1st_49_1\n",
      "http://www.semanticweb.org/aarib/ontologies/2024/t20-cricket#match_1st_51_1\n",
      "http://www.semanticweb.org/aarib/ontologies/2024/t20-cricket#match_1st_52_1\n",
      "http://www.semanticweb.org/aarib/ontologies/2024/t20-cricket#match_1st_53_1\n",
      "http://www.semanticweb.org/aarib/ontologies/2024/t20-cricket#match_1st_54_1\n",
      "http://www.semanticweb.org/aarib/ontologies/2024/t20-cricket#match_1st_55_1\n",
      "http://www.semanticweb.org/aarib/ontologies/2024/t20-cricket#match_1st_56_1\n",
      "http://www.semanticweb.org/aarib/ontologies/2024/t20-cricket#match_1st_60_1\n",
      "http://www.semanticweb.org/aarib/ontologies/2024/t20-cricket#match_1st_61_1\n",
      "http://www.semanticweb.org/aarib/ontologies/2024/t20-cricket#match_1st_63_1\n",
      "http://www.semanticweb.org/aarib/ontologies/2024/t20-cricket#match_1st_66_1\n",
      "http://www.semanticweb.org/aarib/ontologies/2024/t20-cricket#match_1st_68_1\n",
      "http://www.semanticweb.org/aarib/ontologies/2024/t20-cricket#match_1st_71_1\n",
      "http://www.semanticweb.org/aarib/ontologies/2024/t20-cricket#match_1st_77_1\n",
      "http://www.semanticweb.org/aarib/ontologies/2024/t20-cricket#match_1st_79_1\n",
      "http://www.semanticweb.org/aarib/ontologies/2024/t20-cricket#match_1st_81_1\n",
      "http://www.semanticweb.org/aarib/ontologies/2024/t20-cricket#match_1st_83_1\n",
      "http://www.semanticweb.org/aarib/ontologies/2024/t20-cricket#match_1st_84_1\n",
      "http://www.semanticweb.org/aarib/ontologies/2024/t20-cricket#match_1st_85_1\n",
      "http://www.semanticweb.org/aarib/ontologies/2024/t20-cricket#match_1st_90_1\n",
      "http://www.semanticweb.org/aarib/ontologies/2024/t20-cricket#match_1st_94_1\n",
      "http://www.semanticweb.org/aarib/ontologies/2024/t20-cricket#match_1st_95_1\n",
      "http://www.semanticweb.org/aarib/ontologies/2024/t20-cricket#match_1st_99_1\n",
      "http://www.semanticweb.org/aarib/ontologies/2024/t20-cricket#match_1st_100_1\n",
      "http://www.semanticweb.org/aarib/ontologies/2024/t20-cricket#match_1st_110_1\n",
      "http://www.semanticweb.org/aarib/ontologies/2024/t20-cricket#match_1st_111_1\n",
      "http://www.semanticweb.org/aarib/ontologies/2024/t20-cricket#match_1st_115_1\n",
      "http://www.semanticweb.org/aarib/ontologies/2024/t20-cricket#match_1st_116_1\n",
      "http://www.semanticweb.org/aarib/ontologies/2024/t20-cricket#match_1st_118_1\n",
      "http://www.semanticweb.org/aarib/ontologies/2024/t20-cricket#match_1st_120_1\n",
      "http://www.semanticweb.org/aarib/ontologies/2024/t20-cricket#match_1st_131_1\n",
      "http://www.semanticweb.org/aarib/ontologies/2024/t20-cricket#match_1st_139_1\n",
      "http://www.semanticweb.org/aarib/ontologies/2024/t20-cricket#match_1st_144_1\n",
      "http://www.semanticweb.org/aarib/ontologies/2024/t20-cricket#match_1st_148_1\n",
      "http://www.semanticweb.org/aarib/ontologies/2024/t20-cricket#match_1st_149_1\n",
      "http://www.semanticweb.org/aarib/ontologies/2024/t20-cricket#match_1st_150_1\n",
      "http://www.semanticweb.org/aarib/ontologies/2024/t20-cricket#match_1st_153_1\n",
      "http://www.semanticweb.org/aarib/ontologies/2024/t20-cricket#match_1st_154_1\n",
      "http://www.semanticweb.org/aarib/ontologies/2024/t20-cricket#match_1st_156_1\n",
      "http://www.semanticweb.org/aarib/ontologies/2024/t20-cricket#match_1st_157_1\n",
      "http://www.semanticweb.org/aarib/ontologies/2024/t20-cricket#match_1st_162_1\n",
      "http://www.semanticweb.org/aarib/ontologies/2024/t20-cricket#match_1st_165_1\n",
      "http://www.semanticweb.org/aarib/ontologies/2024/t20-cricket#match_1st_167_1\n",
      "http://www.semanticweb.org/aarib/ontologies/2024/t20-cricket#match_1st_169_1\n",
      "http://www.semanticweb.org/aarib/ontologies/2024/t20-cricket#match_1st_170_1\n",
      "http://www.semanticweb.org/aarib/ontologies/2024/t20-cricket#match_1st_173_1\n",
      "http://www.semanticweb.org/aarib/ontologies/2024/t20-cricket#match_1st_175_1\n",
      "http://www.semanticweb.org/aarib/ontologies/2024/t20-cricket#match_1st_177_1\n",
      "http://www.semanticweb.org/aarib/ontologies/2024/t20-cricket#match_1st_180_1\n",
      "http://www.semanticweb.org/aarib/ontologies/2024/t20-cricket#match_1st_181_1\n",
      "http://www.semanticweb.org/aarib/ontologies/2024/t20-cricket#match_1st_182_1\n",
      "http://www.semanticweb.org/aarib/ontologies/2024/t20-cricket#match_1st_183_1\n",
      "http://www.semanticweb.org/aarib/ontologies/2024/t20-cricket#match_1st_187_1\n",
      "http://www.semanticweb.org/aarib/ontologies/2024/t20-cricket#match_1st_191_1\n",
      "http://www.semanticweb.org/aarib/ontologies/2024/t20-cricket#match_1st_192_1\n",
      "http://www.semanticweb.org/aarib/ontologies/2024/t20-cricket#match_1st_195_1\n",
      "http://www.semanticweb.org/aarib/ontologies/2024/t20-cricket#match_1st_196_1\n",
      "http://www.semanticweb.org/aarib/ontologies/2024/t20-cricket#match_1st_204_1\n",
      "http://www.semanticweb.org/aarib/ontologies/2024/t20-cricket#match_1st_206_1\n",
      "http://www.semanticweb.org/aarib/ontologies/2024/t20-cricket#match_1st_207_1\n",
      "http://www.semanticweb.org/aarib/ontologies/2024/t20-cricket#match_1st_208_1\n",
      "http://www.semanticweb.org/aarib/ontologies/2024/t20-cricket#match_1st_209_1\n",
      "http://www.semanticweb.org/aarib/ontologies/2024/t20-cricket#match_1st_210_1\n",
      "http://www.semanticweb.org/aarib/ontologies/2024/t20-cricket#match_1st_213_1\n",
      "http://www.semanticweb.org/aarib/ontologies/2024/t20-cricket#match_1st_217_1\n",
      "http://www.semanticweb.org/aarib/ontologies/2024/t20-cricket#match_1st_221_1\n",
      "http://www.semanticweb.org/aarib/ontologies/2024/t20-cricket#match_1st_222_1\n",
      "http://www.semanticweb.org/aarib/ontologies/2024/t20-cricket#match_1st_223_1\n",
      "http://www.semanticweb.org/aarib/ontologies/2024/t20-cricket#match_1st_225_1\n",
      "http://www.semanticweb.org/aarib/ontologies/2024/t20-cricket#match_1st_227_1\n",
      "http://www.semanticweb.org/aarib/ontologies/2024/t20-cricket#match_1st_229_1\n",
      "http://www.semanticweb.org/aarib/ontologies/2024/t20-cricket#match_1st_234_1\n",
      "http://www.semanticweb.org/aarib/ontologies/2024/t20-cricket#match_1st_238_1\n",
      "http://www.semanticweb.org/aarib/ontologies/2024/t20-cricket#match_1st_241_1\n",
      "http://www.semanticweb.org/aarib/ontologies/2024/t20-cricket#match_1st_242_1\n",
      "http://www.semanticweb.org/aarib/ontologies/2024/t20-cricket#match_1st_243_1\n",
      "http://www.semanticweb.org/aarib/ontologies/2024/t20-cricket#match_1st_248_1\n",
      "http://www.semanticweb.org/aarib/ontologies/2024/t20-cricket#match_1st_249_1\n",
      "http://www.semanticweb.org/aarib/ontologies/2024/t20-cricket#match_1st_252_1\n",
      "http://www.semanticweb.org/aarib/ontologies/2024/t20-cricket#match_1st_254_1\n",
      "http://www.semanticweb.org/aarib/ontologies/2024/t20-cricket#match_1st_256_1\n",
      "http://www.semanticweb.org/aarib/ontologies/2024/t20-cricket#match_1st_257_1\n",
      "http://www.semanticweb.org/aarib/ontologies/2024/t20-cricket#match_1st_258_1\n",
      "http://www.semanticweb.org/aarib/ontologies/2024/t20-cricket#match_1st_259_1\n",
      "http://www.semanticweb.org/aarib/ontologies/2024/t20-cricket#match_1st_261_1\n",
      "http://www.semanticweb.org/aarib/ontologies/2024/t20-cricket#match_2nd_5_2\n",
      "http://www.semanticweb.org/aarib/ontologies/2024/t20-cricket#match_2nd_7_2\n",
      "http://www.semanticweb.org/aarib/ontologies/2024/t20-cricket#match_2nd_9_2\n",
      "http://www.semanticweb.org/aarib/ontologies/2024/t20-cricket#match_2nd_10_2\n",
      "http://www.semanticweb.org/aarib/ontologies/2024/t20-cricket#match_2nd_11_2\n",
      "http://www.semanticweb.org/aarib/ontologies/2024/t20-cricket#match_2nd_13_2\n",
      "http://www.semanticweb.org/aarib/ontologies/2024/t20-cricket#match_2nd_19_2\n",
      "http://www.semanticweb.org/aarib/ontologies/2024/t20-cricket#match_2nd_24_2\n",
      "http://www.semanticweb.org/aarib/ontologies/2024/t20-cricket#match_2nd_25_2\n",
      "http://www.semanticweb.org/aarib/ontologies/2024/t20-cricket#match_2nd_32_2\n",
      "http://www.semanticweb.org/aarib/ontologies/2024/t20-cricket#match_2nd_34_2\n",
      "http://www.semanticweb.org/aarib/ontologies/2024/t20-cricket#match_2nd_35_2\n",
      "http://www.semanticweb.org/aarib/ontologies/2024/t20-cricket#match_2nd_39_2\n",
      "http://www.semanticweb.org/aarib/ontologies/2024/t20-cricket#match_2nd_42_2\n",
      "http://www.semanticweb.org/aarib/ontologies/2024/t20-cricket#match_2nd_43_2\n",
      "http://www.semanticweb.org/aarib/ontologies/2024/t20-cricket#match_2nd_44_2\n",
      "http://www.semanticweb.org/aarib/ontologies/2024/t20-cricket#match_2nd_49_2\n",
      "http://www.semanticweb.org/aarib/ontologies/2024/t20-cricket#match_2nd_51_2\n",
      "http://www.semanticweb.org/aarib/ontologies/2024/t20-cricket#match_2nd_52_2\n",
      "http://www.semanticweb.org/aarib/ontologies/2024/t20-cricket#match_2nd_53_2\n",
      "http://www.semanticweb.org/aarib/ontologies/2024/t20-cricket#match_2nd_54_2\n",
      "http://www.semanticweb.org/aarib/ontologies/2024/t20-cricket#match_2nd_55_2\n",
      "http://www.semanticweb.org/aarib/ontologies/2024/t20-cricket#match_2nd_56_2\n",
      "http://www.semanticweb.org/aarib/ontologies/2024/t20-cricket#match_2nd_60_2\n",
      "http://www.semanticweb.org/aarib/ontologies/2024/t20-cricket#match_2nd_61_2\n",
      "http://www.semanticweb.org/aarib/ontologies/2024/t20-cricket#match_2nd_63_2\n",
      "http://www.semanticweb.org/aarib/ontologies/2024/t20-cricket#match_2nd_66_2\n",
      "http://www.semanticweb.org/aarib/ontologies/2024/t20-cricket#match_2nd_68_2\n",
      "http://www.semanticweb.org/aarib/ontologies/2024/t20-cricket#match_2nd_71_2\n",
      "http://www.semanticweb.org/aarib/ontologies/2024/t20-cricket#match_2nd_77_2\n",
      "http://www.semanticweb.org/aarib/ontologies/2024/t20-cricket#match_2nd_79_2\n",
      "http://www.semanticweb.org/aarib/ontologies/2024/t20-cricket#match_2nd_81_2\n",
      "http://www.semanticweb.org/aarib/ontologies/2024/t20-cricket#match_2nd_83_2\n",
      "http://www.semanticweb.org/aarib/ontologies/2024/t20-cricket#match_2nd_84_2\n",
      "http://www.semanticweb.org/aarib/ontologies/2024/t20-cricket#match_2nd_85_2\n",
      "http://www.semanticweb.org/aarib/ontologies/2024/t20-cricket#match_2nd_90_2\n",
      "http://www.semanticweb.org/aarib/ontologies/2024/t20-cricket#match_2nd_94_2\n",
      "http://www.semanticweb.org/aarib/ontologies/2024/t20-cricket#match_2nd_95_2\n",
      "http://www.semanticweb.org/aarib/ontologies/2024/t20-cricket#match_2nd_99_2\n",
      "http://www.semanticweb.org/aarib/ontologies/2024/t20-cricket#match_2nd_100_2\n",
      "http://www.semanticweb.org/aarib/ontologies/2024/t20-cricket#match_2nd_110_2\n",
      "http://www.semanticweb.org/aarib/ontologies/2024/t20-cricket#match_2nd_111_2\n",
      "http://www.semanticweb.org/aarib/ontologies/2024/t20-cricket#match_2nd_115_2\n",
      "http://www.semanticweb.org/aarib/ontologies/2024/t20-cricket#match_2nd_116_2\n",
      "http://www.semanticweb.org/aarib/ontologies/2024/t20-cricket#match_2nd_118_2\n",
      "http://www.semanticweb.org/aarib/ontologies/2024/t20-cricket#match_2nd_120_2\n",
      "http://www.semanticweb.org/aarib/ontologies/2024/t20-cricket#match_2nd_131_2\n",
      "http://www.semanticweb.org/aarib/ontologies/2024/t20-cricket#match_2nd_139_2\n",
      "http://www.semanticweb.org/aarib/ontologies/2024/t20-cricket#match_2nd_144_2\n",
      "http://www.semanticweb.org/aarib/ontologies/2024/t20-cricket#match_2nd_148_2\n",
      "http://www.semanticweb.org/aarib/ontologies/2024/t20-cricket#match_2nd_149_2\n",
      "http://www.semanticweb.org/aarib/ontologies/2024/t20-cricket#match_2nd_150_2\n",
      "http://www.semanticweb.org/aarib/ontologies/2024/t20-cricket#match_2nd_153_2\n",
      "http://www.semanticweb.org/aarib/ontologies/2024/t20-cricket#match_2nd_154_2\n",
      "http://www.semanticweb.org/aarib/ontologies/2024/t20-cricket#match_2nd_156_2\n",
      "http://www.semanticweb.org/aarib/ontologies/2024/t20-cricket#match_2nd_157_2\n",
      "http://www.semanticweb.org/aarib/ontologies/2024/t20-cricket#match_2nd_162_2\n",
      "http://www.semanticweb.org/aarib/ontologies/2024/t20-cricket#match_2nd_165_2\n",
      "http://www.semanticweb.org/aarib/ontologies/2024/t20-cricket#match_2nd_167_2\n",
      "http://www.semanticweb.org/aarib/ontologies/2024/t20-cricket#match_2nd_169_2\n",
      "http://www.semanticweb.org/aarib/ontologies/2024/t20-cricket#match_2nd_170_2\n",
      "http://www.semanticweb.org/aarib/ontologies/2024/t20-cricket#match_2nd_173_2\n",
      "http://www.semanticweb.org/aarib/ontologies/2024/t20-cricket#match_2nd_175_2\n",
      "http://www.semanticweb.org/aarib/ontologies/2024/t20-cricket#match_2nd_177_2\n",
      "http://www.semanticweb.org/aarib/ontologies/2024/t20-cricket#match_2nd_180_2\n",
      "http://www.semanticweb.org/aarib/ontologies/2024/t20-cricket#match_2nd_181_2\n",
      "http://www.semanticweb.org/aarib/ontologies/2024/t20-cricket#match_2nd_182_2\n",
      "http://www.semanticweb.org/aarib/ontologies/2024/t20-cricket#match_2nd_183_2\n",
      "http://www.semanticweb.org/aarib/ontologies/2024/t20-cricket#match_2nd_187_2\n",
      "http://www.semanticweb.org/aarib/ontologies/2024/t20-cricket#match_2nd_191_2\n",
      "http://www.semanticweb.org/aarib/ontologies/2024/t20-cricket#match_2nd_192_2\n",
      "http://www.semanticweb.org/aarib/ontologies/2024/t20-cricket#match_2nd_195_2\n",
      "http://www.semanticweb.org/aarib/ontologies/2024/t20-cricket#match_2nd_196_2\n",
      "http://www.semanticweb.org/aarib/ontologies/2024/t20-cricket#match_2nd_204_2\n",
      "http://www.semanticweb.org/aarib/ontologies/2024/t20-cricket#match_2nd_206_2\n",
      "http://www.semanticweb.org/aarib/ontologies/2024/t20-cricket#match_2nd_207_2\n",
      "http://www.semanticweb.org/aarib/ontologies/2024/t20-cricket#match_2nd_208_2\n",
      "http://www.semanticweb.org/aarib/ontologies/2024/t20-cricket#match_2nd_209_2\n",
      "http://www.semanticweb.org/aarib/ontologies/2024/t20-cricket#match_2nd_210_2\n",
      "http://www.semanticweb.org/aarib/ontologies/2024/t20-cricket#match_2nd_213_2\n",
      "http://www.semanticweb.org/aarib/ontologies/2024/t20-cricket#match_2nd_217_2\n",
      "http://www.semanticweb.org/aarib/ontologies/2024/t20-cricket#match_2nd_221_2\n",
      "http://www.semanticweb.org/aarib/ontologies/2024/t20-cricket#match_2nd_222_2\n",
      "http://www.semanticweb.org/aarib/ontologies/2024/t20-cricket#match_2nd_223_2\n",
      "http://www.semanticweb.org/aarib/ontologies/2024/t20-cricket#match_2nd_225_2\n",
      "http://www.semanticweb.org/aarib/ontologies/2024/t20-cricket#match_2nd_227_2\n",
      "http://www.semanticweb.org/aarib/ontologies/2024/t20-cricket#match_2nd_229_2\n",
      "http://www.semanticweb.org/aarib/ontologies/2024/t20-cricket#match_2nd_234_2\n",
      "http://www.semanticweb.org/aarib/ontologies/2024/t20-cricket#match_2nd_238_2\n",
      "http://www.semanticweb.org/aarib/ontologies/2024/t20-cricket#match_2nd_241_2\n",
      "http://www.semanticweb.org/aarib/ontologies/2024/t20-cricket#match_2nd_242_2\n",
      "http://www.semanticweb.org/aarib/ontologies/2024/t20-cricket#match_2nd_243_2\n",
      "http://www.semanticweb.org/aarib/ontologies/2024/t20-cricket#match_2nd_248_2\n",
      "http://www.semanticweb.org/aarib/ontologies/2024/t20-cricket#match_2nd_249_2\n",
      "http://www.semanticweb.org/aarib/ontologies/2024/t20-cricket#match_2nd_252_2\n",
      "http://www.semanticweb.org/aarib/ontologies/2024/t20-cricket#match_2nd_254_2\n",
      "http://www.semanticweb.org/aarib/ontologies/2024/t20-cricket#match_2nd_256_2\n",
      "http://www.semanticweb.org/aarib/ontologies/2024/t20-cricket#match_2nd_257_2\n",
      "http://www.semanticweb.org/aarib/ontologies/2024/t20-cricket#match_2nd_258_2\n",
      "http://www.semanticweb.org/aarib/ontologies/2024/t20-cricket#match_2nd_259_2\n",
      "http://www.semanticweb.org/aarib/ontologies/2024/t20-cricket#match_2nd_261_2\n",
      "http://www.semanticweb.org/aarib/ontologies/2024/t20-cricket#match_2nd_262_2\n",
      "http://www.semanticweb.org/aarib/ontologies/2024/t20-cricket#match_2nd_263_2\n",
      "http://www.semanticweb.org/aarib/ontologies/2024/t20-cricket#match_2nd_269_2\n",
      "http://www.semanticweb.org/aarib/ontologies/2024/t20-cricket#match_2nd_270_2\n",
      "http://www.semanticweb.org/aarib/ontologies/2024/t20-cricket#match_2nd_273_2\n",
      "http://www.semanticweb.org/aarib/ontologies/2024/t20-cricket#match_2nd_274_2\n",
      "http://www.semanticweb.org/aarib/ontologies/2024/t20-cricket#match_2nd_276_2\n",
      "http://www.semanticweb.org/aarib/ontologies/2024/t20-cricket#match_2nd_277_2\n",
      "http://www.semanticweb.org/aarib/ontologies/2024/t20-cricket#match_2nd_278_2\n",
      "http://www.semanticweb.org/aarib/ontologies/2024/t20-cricket#match_2nd_279_2\n",
      "http://www.semanticweb.org/aarib/ontologies/2024/t20-cricket#match_2nd_286_2\n",
      "http://www.semanticweb.org/aarib/ontologies/2024/t20-cricket#match_2nd_289_2\n",
      "http://www.semanticweb.org/aarib/ontologies/2024/t20-cricket#match_2nd_291_2\n",
      "http://www.semanticweb.org/aarib/ontologies/2024/t20-cricket#match_2nd_294_2\n"
     ]
    }
   ],
   "source": [
    "#Query to get instances from the graph\n",
    "instances_query = \"\"\"\n",
    "SELECT DISTINCT ?instance\n",
    "WHERE {\n",
    "  ?instance a ?class .\n",
    "}\n",
    "\"\"\"\n",
    "\n",
    "instances = g.query(instances_query)\n",
    "\n",
    "print(\"Instances:\")\n",
    "for instance_uri, in instances:\n",
    "    print(instance_uri)"
   ]
  },
  {
   "cell_type": "markdown",
   "metadata": {
    "id": "hVNjV7dmThxa"
   },
   "source": [
    "## Querrying the RDF"
   ]
  },
  {
   "cell_type": "markdown",
   "metadata": {
    "id": "Ws4pSy6utAQx"
   },
   "source": [
    "### Total runs scored by each batting team across all matches"
   ]
  },
  {
   "cell_type": "code",
   "execution_count": 114,
   "metadata": {
    "colab": {
     "base_uri": "https://localhost:8080/"
    },
    "collapsed": true,
    "id": "ThlrUYnJiqn9",
    "jupyter": {
     "outputs_hidden": true
    },
    "outputId": "134a9e3e-2076-4f17-e3a6-29f975cfc991"
   },
   "outputs": [
    {
     "name": "stdout",
     "output_type": "stream",
     "text": [
      "Batting Team: Pakistan, Total Runs: 456\n",
      "Batting Team: Australia, Total Runs: 389\n",
      "Batting Team: England, Total Runs: 358\n",
      "Batting Team: India, Total Runs: 317\n",
      "Batting Team: Sri Lanka, Total Runs: 257\n",
      "Batting Team: South Africa, Total Runs: 257\n",
      "Batting Team: New Zealand, Total Runs: 253\n",
      "Batting Team: West Indies, Total Runs: 237\n",
      "Batting Team: Bangladesh, Total Runs: 221\n",
      "Batting Team: Zimbabwe, Total Runs: 161\n",
      "Batting Team: Netherlands, Total Runs: 133\n",
      "Batting Team: Afghanistan, Total Runs: 122\n",
      "Batting Team: Ireland, Total Runs: 113\n"
     ]
    }
   ],
   "source": [
    "query_top_run_scorers = \"\"\"\n",
    "    SELECT ?batting_team (SUM(xsd:integer(?runs)) AS ?totalRuns)\n",
    "    WHERE {\n",
    "        ?match onto:hasRuns ?runs .\n",
    "        ?match onto:hasBattingTeam ?batting_team .\n",
    "    }\n",
    "    GROUP BY ?batting_team\n",
    "    ORDER BY DESC(?totalRuns)\n",
    "\"\"\"\n",
    "\n",
    "# Execute the query\n",
    "result = g.query(query_top_run_scorers)\n",
    "\n",
    "# Print the results\n",
    "for row in result:\n",
    "    print(f\"Batting Team: {row['batting_team']}, Total Runs: {row['totalRuns']}\")"
   ]
  },
  {
   "cell_type": "markdown",
   "metadata": {
    "id": "i0UskgadtQ3N"
   },
   "source": [
    "Could be used in various analytical contexts, such as identifying strong teams in T20 cricket or comparing historical performance."
   ]
  },
  {
   "cell_type": "markdown",
   "metadata": {
    "id": "t1LCFdhRaT80"
   },
   "source": [
    "### Finding match winners\n",
    "based on match_id for example match_id 5_1 represents innings 1 of match 5 and match_id 5_2 represents innings 2 of match 5 according to the dataframes given."
   ]
  },
  {
   "cell_type": "code",
   "execution_count": 45,
   "metadata": {
    "colab": {
     "base_uri": "https://localhost:8080/"
    },
    "id": "HR4ZSV29yGiG",
    "outputId": "6e9166e3-cc7a-4c38-b75b-d7f291e6a5da"
   },
   "outputs": [
    {
     "name": "stdout",
     "output_type": "stream",
     "text": [
      "Match ID: 243_1\n",
      "Match ID: 222_1\n",
      "Match ID: 115_2\n",
      "Match ID: 131_1\n",
      "Match ID: 131_2\n",
      "Match ID: 273_2\n",
      "Match ID: 227_2\n",
      "Match ID: 11_2\n",
      "Match ID: 183_2\n",
      "Match ID: 286_2\n"
     ]
    }
   ],
   "source": [
    "query = \"\"\"\n",
    "SELECT ?match ?id\n",
    "WHERE {\n",
    "  ?match onto:hasID ?id.\n",
    "}\n",
    "LIMIT 10\n",
    "\"\"\"\n",
    "result = g.query(query)\n",
    "for row in result:\n",
    "    print(f\"Match ID: {row['id']}\")"
   ]
  },
  {
   "cell_type": "code",
   "execution_count": 46,
   "metadata": {
    "colab": {
     "base_uri": "https://localhost:8080/"
    },
    "id": "TLZ47I4SWw47",
    "outputId": "e788629d-c0ab-43b5-c672-ca1664fe49d6"
   },
   "outputs": [
    {
     "name": "stdout",
     "output_type": "stream",
     "text": [
      "First Inning Batting Team: West Indies\n",
      "First Inning Score: 108\n",
      "Second Inning Batting Team: India\n",
      "Second Inning Score: 96\n",
      "Winner: West Indies\n"
     ]
    }
   ],
   "source": [
    "winner_query = \"\"\"\n",
    "SELECT\n",
    "  (?battingTeam AS ?firstInningBattingTeam)\n",
    "  (SUM(xsd:integer(?runs)) AS ?firstInningScore)\n",
    "  (?bowlingTeam AS ?secondInningBattingTeam)\n",
    "  (SUM(xsd:integer(?runs2)) AS ?secondInningScore)\n",
    "  (IF(SUM(xsd:integer(?runs)) > SUM(xsd:integer(?runs2)), ?battingTeam, ?bowlingTeam) AS ?winner)\n",
    "WHERE {\n",
    "  # First inning\n",
    "  ?match onto:hasRuns ?runs.\n",
    "  ?match onto:hasBattingTeam ?battingTeam.\n",
    "  ?match onto:hasBowlingTeam ?bowlingTeam.\n",
    "  ?match onto:hasID ?matchID1.\n",
    "  FILTER(?matchID1 = \"5_1\").\n",
    "\n",
    "  # Second inning\n",
    "  ?match2 onto:hasRuns ?runs2.\n",
    "  ?match2 onto:hasBattingTeam ?battingTeam2.\n",
    "  ?match2 onto:hasBowlingTeam ?bowlingTeam2.\n",
    "  ?match2 onto:hasID ?matchID2.\n",
    "  FILTER(?matchID2 = \"5_2\").\n",
    "}\n",
    "GROUP BY ?battingTeam ?bowlingTeam\n",
    "\"\"\"\n",
    "\n",
    "# Execute the query\n",
    "results = g.query(winner_query)\n",
    "\n",
    "# Process and print the results\n",
    "for row in results:\n",
    "    print(f\"First Inning Batting Team: {row.firstInningBattingTeam}\")\n",
    "    print(f\"First Inning Score: {row.firstInningScore}\")\n",
    "    print(f\"Second Inning Batting Team: {row.secondInningBattingTeam}\")\n",
    "    print(f\"Second Inning Score: {row.secondInningScore}\")\n",
    "    print(f\"Winner: {row.winner}\")"
   ]
  },
  {
   "cell_type": "markdown",
   "metadata": {
    "id": "HPf_rMMo1F02"
   },
   "source": [
    "Due to the complexity of the query it took 4 minutes 35 seconds to run. But gave the correct output which was as follows\n",
    "\n",
    "First Inning Batting Team: West Indies\n",
    "\n",
    "First Inning Score: 108\n",
    "\n",
    "Second Inning Batting Team: India\n",
    "\n",
    "Second Inning Score: 96\n",
    "\n",
    "Winner: West Indies\n",
    "\n",
    "Logic:- Whichever team has the higher score is the winner."
   ]
  },
  {
   "cell_type": "markdown",
   "metadata": {
    "id": "bkKRATRsbDY4"
   },
   "source": [
    "### Finding the most popular venues for matches"
   ]
  },
  {
   "cell_type": "code",
   "execution_count": 51,
   "metadata": {
    "colab": {
     "base_uri": "https://localhost:8080/"
    },
    "id": "TTtGM8Pxafa5",
    "outputId": "432f88c1-cea9-457b-b2a0-babf4d9a835e"
   },
   "outputs": [
    {
     "name": "stdout",
     "output_type": "stream",
     "text": [
      "Venue: Newlands, Matches Played: 10\n",
      "Venue: Dubai International Cricket Stadium, Matches Played: 9\n",
      "Venue: R Premadasa Stadium, Matches Played: 9\n",
      "Venue: Shere Bangla National Stadium, Matches Played: 8\n",
      "Venue: Kensington Oval, Bridgetown, Matches Played: 7\n"
     ]
    }
   ],
   "source": [
    "query_popular_venues = \"\"\"\n",
    "SELECT ?venue (COUNT(?match) AS ?matches_played)\n",
    "WHERE {\n",
    "  ?match onto:hasVenue ?venue.\n",
    "}\n",
    "GROUP BY ?venue\n",
    "ORDER BY DESC(?matches_played)\n",
    "LIMIT 5\n",
    "\"\"\"\n",
    "results = g.query(query_popular_venues)\n",
    "\n",
    "for row in results:\n",
    "    print(f\"Venue: {row['venue']}, Matches Played: {row['matches_played']}\")\n"
   ]
  },
  {
   "cell_type": "markdown",
   "metadata": {
    "id": "1o1YKVTydmaB"
   },
   "source": [
    "### Matches played per city"
   ]
  },
  {
   "cell_type": "code",
   "execution_count": 52,
   "metadata": {
    "colab": {
     "base_uri": "https://localhost:8080/"
    },
    "id": "UuQHKX6NcURv",
    "outputId": "db0d5713-129e-4e39-e74e-2837de92d3e8"
   },
   "outputs": [
    {
     "name": "stdout",
     "output_type": "stream",
     "text": [
      "City: Colombo, Matches Played: 11\n",
      "City: Johannesburg, Matches Played: 10\n",
      "City: Cape Town, Matches Played: 10\n",
      "City: Dubai, Matches Played: 9\n",
      "City: Dhaka, Matches Played: 9\n"
     ]
    }
   ],
   "source": [
    "query_matches_per_city = \"\"\"\n",
    "SELECT ?city (COUNT(?match) AS ?matches_played)\n",
    "WHERE {\n",
    "  ?match onto:hasCity ?city.\n",
    "}\n",
    "GROUP BY ?city\n",
    "ORDER BY DESC(?matches_played)\n",
    "LIMIT 5\n",
    "\"\"\"\n",
    "\n",
    "result = g.query(query_matches_per_city)\n",
    "\n",
    "for row in result:\n",
    "    print(f\"City: {row['city']}, Matches Played: {row['matches_played']}\")"
   ]
  },
  {
   "cell_type": "markdown",
   "metadata": {
    "id": "KKFKluw0d1M-"
   },
   "source": [
    "###Most wickets taken in an over"
   ]
  },
  {
   "cell_type": "code",
   "execution_count": 70,
   "metadata": {
    "colab": {
     "base_uri": "https://localhost:8080/"
    },
    "id": "0At-vC79euoM",
    "outputId": "75c963bd-ce5a-4c14-9cb8-497c7ea5e6e9"
   },
   "outputs": [
    {
     "name": "stdout",
     "output_type": "stream",
     "text": [
      "Over: 0, Match ID: 243_1, Batting Team: Australia, Bowling Team: England, Wickets in Over: 1\n",
      "Over: 0, Match ID: 222_1, Batting Team: New Zealand, Bowling Team: Sri Lanka, Wickets in Over: 1\n",
      "Over: 0, Match ID: 115_2, Batting Team: Pakistan, Bowling Team: New Zealand, Wickets in Over: 1\n",
      "Over: 0, Match ID: 131_1, Batting Team: India, Bowling Team: Sri Lanka, Wickets in Over: 1\n",
      "Over: 0, Match ID: 131_2, Batting Team: Sri Lanka, Bowling Team: India, Wickets in Over: 1\n",
      "Over: 0, Match ID: 273_2, Batting Team: Netherlands, Bowling Team: Ireland, Wickets in Over: 1\n",
      "Over: 0, Match ID: 227_2, Batting Team: Pakistan, Bowling Team: Sri Lanka, Wickets in Over: 1\n",
      "Over: 0, Match ID: 11_2, Batting Team: England, Bowling Team: South Africa, Wickets in Over: 1\n",
      "Over: 0, Match ID: 183_2, Batting Team: England, Bowling Team: Australia, Wickets in Over: 1\n",
      "Over: 0, Match ID: 286_2, Batting Team: India, Bowling Team: Australia, Wickets in Over: 1\n"
     ]
    }
   ],
   "source": [
    "query_most_wickets_in_over = \"\"\"\n",
    "SELECT ?over ?matchID ?battingTeam ?bowlingTeam (SUM(DISTINCT xsd:integer(?playerOut)) AS ?wicketsInOver)\n",
    "WHERE {\n",
    "  ?match onto:hasID ?matchID.\n",
    "  ?match onto:hasRuns ?runs.\n",
    "  ?match onto:hasBattingTeam ?battingTeam.\n",
    "  ?match onto:hasBall ?balls.\n",
    "  ?match onto:hasBowlingTeam ?bowlingTeam.\n",
    "  ?match onto:hasPlayerDismissed ?playerOut.\n",
    "\n",
    "  #Extracting the over number from the 'balls' field\n",
    "  BIND(STRBEFORE(STR(?balls), \".\") AS ?over)\n",
    "}\n",
    "GROUP BY ?over ?matchID ?battingTeam ?bowlingTeam\n",
    "ORDER BY DESC(?wicketsInOver)\n",
    "LIMIT 10\n",
    "\"\"\"\n",
    "\n",
    "result = g.query(query_most_wickets_in_over)\n",
    "for row in result:\n",
    "    print(f\"Over: {row['over']}, Match ID: {row['matchID']}, Batting Team: {row['battingTeam']}, Bowling Team: {row['bowlingTeam']}, Wickets in Over: {row['wicketsInOver']}\")\n"
   ]
  },
  {
   "cell_type": "markdown",
   "metadata": {
    "id": "ozEOhVn5odOx"
   },
   "source": [
    "### Query to find top 5 teams that have won the most tosses"
   ]
  },
  {
   "cell_type": "code",
   "execution_count": 78,
   "metadata": {
    "colab": {
     "base_uri": "https://localhost:8080/"
    },
    "id": "4GRkwKQ1ockp",
    "outputId": "f3eb6301-e7fd-498e-fe45-551920a7ce52"
   },
   "outputs": [
    {
     "name": "stdout",
     "output_type": "stream",
     "text": [
      "Toss Winner: Pakistan, Toss Wins: 36\n",
      "Toss Winner: England, Toss Wins: 30\n",
      "Toss Winner: Australia, Toss Wins: 29\n",
      "Toss Winner: India, Toss Wins: 29\n",
      "Toss Winner: South Africa, Toss Wins: 21\n"
     ]
    }
   ],
   "source": [
    "query_top_toss_winners = \"\"\"\n",
    "    SELECT ?toss_winner (COUNT(?match) AS ?tossWins)\n",
    "    WHERE {\n",
    "        ?match onto:hasTossWinner ?toss_winner .\n",
    "    }\n",
    "    GROUP BY ?toss_winner\n",
    "    ORDER BY DESC(?tossWins)\n",
    "    LIMIT 5\n",
    "\"\"\"\n",
    "\n",
    "result = g.query(query_top_toss_winners)\n",
    "\n",
    "for row in result:\n",
    "    print(f\"Toss Winner: {row['toss_winner']}, Toss Wins: {row['tossWins']}\")"
   ]
  },
  {
   "cell_type": "markdown",
   "metadata": {
    "id": "nYUsp4rfolVk"
   },
   "source": [
    "### Query to find 5 teams that won the least amount of tosses"
   ]
  },
  {
   "cell_type": "code",
   "execution_count": 79,
   "metadata": {
    "colab": {
     "base_uri": "https://localhost:8080/"
    },
    "id": "aSgl5jR8ofxZ",
    "outputId": "18d53e6f-65fd-49df-fe3d-9fc46d7c7ae1"
   },
   "outputs": [
    {
     "name": "stdout",
     "output_type": "stream",
     "text": [
      "Toss Winner: Zimbabwe, Toss Wins: 4\n",
      "Toss Winner: Bangladesh, Toss Wins: 5\n",
      "Toss Winner: Netherlands, Toss Wins: 6\n",
      "Toss Winner: West Indies, Toss Wins: 8\n",
      "Toss Winner: Ireland, Toss Wins: 8\n"
     ]
    }
   ],
   "source": [
    "query_least_toss_winners = \"\"\"\n",
    "    SELECT ?toss_winner (COUNT(?match) AS ?tossWins)\n",
    "    WHERE {\n",
    "        ?match onto:hasTossWinner ?toss_winner .\n",
    "    }\n",
    "    GROUP BY ?toss_winner\n",
    "    ORDER BY ASC(?tossWins)\n",
    "    LIMIT 5\n",
    "\"\"\"\n",
    "\n",
    "result = g.query(query_least_toss_winners)\n",
    "\n",
    "for row in result:\n",
    "    print(f\"Toss Winner: {row['toss_winner']}, Toss Wins: {row['tossWins']}\")"
   ]
  },
  {
   "cell_type": "markdown",
   "metadata": {
    "id": "PVER8YEJpqyI"
   },
   "source": [
    "### Average runs per ball"
   ]
  },
  {
   "cell_type": "code",
   "execution_count": 85,
   "metadata": {
    "colab": {
     "base_uri": "https://localhost:8080/"
    },
    "id": "hDzKDuEGovIV",
    "outputId": "adf90d67-0d41-427e-8e48-42aba5cf0cde"
   },
   "outputs": [
    {
     "name": "stdout",
     "output_type": "stream",
     "text": [
      "Batting Team: Pakistan, Average Runs Per Ball: 2.7804878048780486\n",
      "Batting Team: England, Average Runs Per Ball: 2.7751937984496124\n",
      "Batting Team: Afghanistan, Average Runs Per Ball: 2.772727272727273\n",
      "Batting Team: Australia, Average Runs Per Ball: 2.73943661971831\n",
      "Batting Team: West Indies, Average Runs Per Ball: 2.7241379310344827\n",
      "Batting Team: India, Average Runs Per Ball: 2.7094017094017095\n",
      "Batting Team: Sri Lanka, Average Runs Per Ball: 2.705263157894737\n",
      "Batting Team: South Africa, Average Runs Per Ball: 2.705263157894737\n",
      "Batting Team: New Zealand, Average Runs Per Ball: 2.663157894736842\n",
      "Batting Team: Netherlands, Average Runs Per Ball: 2.66\n",
      "Batting Team: Bangladesh, Average Runs Per Ball: 2.630952380952381\n",
      "Batting Team: Zimbabwe, Average Runs Per Ball: 2.5555555555555554\n",
      "Batting Team: Ireland, Average Runs Per Ball: 2.511111111111111\n"
     ]
    }
   ],
   "source": [
    "query_avg_runs_per_ball = \"\"\"\n",
    "    SELECT ?batting_team (AVG(xsd:float(?runs)) AS ?avgRuns)\n",
    "    WHERE {\n",
    "        ?match onto:hasRuns ?runs .\n",
    "        ?match onto:hasBattingTeam ?batting_team .\n",
    "    }\n",
    "    GROUP BY ?batting_team\n",
    "    ORDER BY DESC(?avgRuns)\n",
    "\"\"\"\n",
    "\n",
    "result = g.query(query_avg_runs_per_ball)\n",
    "\n",
    "for row in result:\n",
    "    print(f\"Batting Team: {row['batting_team']}, Average Runs Per Ball: {row['avgRuns']}\")\n"
   ]
  },
  {
   "cell_type": "markdown",
   "metadata": {
    "id": "DKualRhXpYLh"
   },
   "source": [
    "### Teams that have played the most number of matches"
   ]
  },
  {
   "cell_type": "code",
   "execution_count": 94,
   "metadata": {
    "colab": {
     "base_uri": "https://localhost:8080/"
    },
    "id": "92kEPDrNpFga",
    "outputId": "1c95271d-44a9-4ed2-de8c-70096a70834c"
   },
   "outputs": [
    {
     "name": "stdout",
     "output_type": "stream",
     "text": [
      "Batting Team: Pakistan, Matches Played: 28\n",
      "Batting Team: Australia, Matches Played: 25\n",
      "Batting Team: England, Matches Played: 22\n",
      "Batting Team: India, Matches Played: 21\n",
      "Batting Team: New Zealand, Matches Played: 17\n",
      "Batting Team: Sri Lanka, Matches Played: 17\n",
      "Batting Team: South Africa, Matches Played: 17\n",
      "Batting Team: West Indies, Matches Played: 16\n",
      "Batting Team: Bangladesh, Matches Played: 15\n",
      "Batting Team: Zimbabwe, Matches Played: 12\n",
      "Batting Team: Netherlands, Matches Played: 9\n",
      "Batting Team: Ireland, Matches Played: 9\n",
      "Batting Team: Afghanistan, Matches Played: 8\n"
     ]
    }
   ],
   "source": [
    "query_most_played_teams = \"\"\"\n",
    "    SELECT ?batting_team (COUNT(?match) AS ?matchesPlayed)\n",
    "    WHERE {\n",
    "        ?match onto:hasBattingTeam ?batting_team .\n",
    "    }\n",
    "    GROUP BY ?batting_team\n",
    "    ORDER BY DESC(?matchesPlayed)\n",
    "\"\"\"\n",
    "\n",
    "result = g.query(query_most_played_teams)\n",
    "for row in result:\n",
    "    print(f\"Batting Team: {row['batting_team']}, Matches Played: {row['matchesPlayed']}\")"
   ]
  },
  {
   "cell_type": "markdown",
   "metadata": {
    "id": "UyIPWa6vq6-D"
   },
   "source": [
    "### Most runs in an over by a team"
   ]
  },
  {
   "cell_type": "code",
   "execution_count": 105,
   "metadata": {
    "colab": {
     "base_uri": "https://localhost:8080/"
    },
    "id": "B3R220bgsOV0",
    "outputId": "0ecc19ff-f040-461b-b5bc-9784fbb04266"
   },
   "outputs": [
    {
     "name": "stdout",
     "output_type": "stream",
     "text": [
      "Runs scored in each over by a team:\n",
      "Over: 4, Batting Team: Australia, Runs in Over: 225, Match ID: 84_2\n",
      "Over: 16, Batting Team: Australia, Runs in Over: 200, Match ID: 84_2\n",
      "Over: 18, Batting Team: England, Runs in Over: 200, Match ID: 44_1\n",
      "Over: 4, Batting Team: Pakistan, Runs in Over: 189, Match ID: 32_1\n",
      "Over: 4, Batting Team: Pakistan, Runs in Over: 189, Match ID: 111_2\n",
      "Over: 10, Batting Team: West Indies, Runs in Over: 189, Match ID: 52_2\n",
      "Over: 0, Batting Team: New Zealand, Runs in Over: 184, Match ID: 84_1\n",
      "Over: 7, Batting Team: Australia, Runs in Over: 184, Match ID: 100_2\n",
      "Over: 16, Batting Team: New Zealand, Runs in Over: 184, Match ID: 84_1\n",
      "Over: 19, Batting Team: New Zealand, Runs in Over: 184, Match ID: 84_1\n"
     ]
    }
   ],
   "source": [
    "query_most_runs_in_over = \"\"\"\n",
    "SELECT ?over ?battingTeam (SUM(xsd:integer(?runs)) AS ?runsInOver) ?matchid\n",
    "WHERE {\n",
    "    ?match onto:hasID ?matchid .\n",
    "    ?match onto:hasRuns ?runs .\n",
    "    ?match onto:hasBattingTeam ?battingTeam .\n",
    "    ?match onto:hasBall ?balls .\n",
    "\n",
    "    # Extracting the over number (before the dot) from the balls field (e.g., 5.1 -> 5)\n",
    "    BIND(xsd:integer(strbefore(str(?balls), \".\")) AS ?over)\n",
    "}\n",
    "GROUP BY ?over ?battingTeam ?matchid\n",
    "ORDER BY DESC(?runsInOver)\n",
    "LIMIT 10\n",
    "\"\"\"\n",
    "\n",
    "result = g.query(query_most_runs_in_over)\n",
    "print(\"Runs scored in each over by a team:\")\n",
    "for row in result:\n",
    "    print(f\"Over: {row['over']}, Batting Team: {row['battingTeam']}, Runs in Over: {row['runsInOver']}, Match ID: {row['matchid']}\")"
   ]
  },
  {
   "cell_type": "code",
   "execution_count": null,
   "metadata": {
    "id": "tgvOJ3LsF-LM"
   },
   "outputs": [],
   "source": [
    "query_most_runs_in_over = \"\"\"\n",
    "SELECT ?over ?battingTeam (SUM(xsd:integer(?runs)) AS ?runsInOver) ?matchid\n",
    "WHERE {\n",
    "    ?match onto:hasID ?matchid .\n",
    "    ?match onto:hasRuns ?runs .\n",
    "    ?match onto:hasBattingTeam ?battingTeam .\n",
    "    ?match onto:hasBall ?balls .\n",
    "\n",
    "    # Extracting the over number (before the dot) from the balls field (e.g., 5.1 -> 5)\n",
    "    BIND(xsd:integer(strbefore(str(?balls), \".\")) AS ?over)\n",
    "\n",
    "    # Filter to include runs only for the current over\n",
    "    FILTER(?over = xsd:integer(strbefore(str(?balls), \".\")))\n",
    "}\n",
    "GROUP BY ?over ?battingTeam ?matchid\n",
    "ORDER BY DESC(?runsInOver)\n",
    "LIMIT 10\n",
    "\"\"\"\n",
    "\n",
    "result = g.query(query_most_runs_in_over)\n",
    "print(\"Runs scored in each over by a team:\")\n",
    "for row in result:\n",
    "    print(f\"Over: {row['over']}, Batting Team: {row['battingTeam']}, Runs in Over: {row['runsInOver']}, Match ID: {row['matchid']}\")"
   ]
  }
 ],
 "metadata": {
  "colab": {
   "provenance": []
  },
  "kernelspec": {
   "display_name": "Python 3 (ipykernel)",
   "language": "python",
   "name": "python3"
  },
  "language_info": {
   "codemirror_mode": {
    "name": "ipython",
    "version": 3
   },
   "file_extension": ".py",
   "mimetype": "text/x-python",
   "name": "python",
   "nbconvert_exporter": "python",
   "pygments_lexer": "ipython3",
   "version": "3.11.7"
  }
 },
 "nbformat": 4,
 "nbformat_minor": 4
}
