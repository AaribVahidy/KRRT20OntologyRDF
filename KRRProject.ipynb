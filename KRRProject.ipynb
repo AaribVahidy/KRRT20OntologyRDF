{
  "nbformat": 4,
  "nbformat_minor": 0,
  "metadata": {
    "colab": {
      "provenance": [],
      "authorship_tag": "ABX9TyPRas2v/JTm9+d98m2Emkwt",
      "include_colab_link": true
    },
    "kernelspec": {
      "name": "python3",
      "display_name": "Python 3"
    },
    "language_info": {
      "name": "python"
    }
  },
  "cells": [
    {
      "cell_type": "markdown",
      "metadata": {
        "id": "view-in-github",
        "colab_type": "text"
      },
      "source": [
        "<a href=\"https://colab.research.google.com/github/AaribVahidy/KRRT20OntologyRDF/blob/main/KRRProject.ipynb\" target=\"_parent\"><img src=\"https://colab.research.google.com/assets/colab-badge.svg\" alt=\"Open In Colab\"/></a>"
      ]
    },
    {
      "cell_type": "markdown",
      "source": [
        "# Knowledge Representation And Reasoning Project on T20 Ontology based Analytics"
      ],
      "metadata": {
        "id": "YTBJyLLPjUA-"
      }
    },
    {
      "cell_type": "markdown",
      "source": [
        "## Group Members\n",
        "\n",
        "Aarib Ahmed Vahidy 22K-4004\n",
        "\n",
        "Arham Hussain Khan 22K-4080\n",
        "\n",
        "Partham Kumar Chawla 22K-4079"
      ],
      "metadata": {
        "id": "YN-QFTdLjdND"
      }
    },
    {
      "cell_type": "code",
      "source": [
        "!pip install rdflib"
      ],
      "metadata": {
        "colab": {
          "base_uri": "https://localhost:8080/"
        },
        "id": "gpTPrvJttIP-",
        "outputId": "98bead2a-4732-446a-cea0-574ca5ed752b"
      },
      "execution_count": 1,
      "outputs": [
        {
          "output_type": "stream",
          "name": "stdout",
          "text": [
            "Collecting rdflib\n",
            "  Downloading rdflib-7.1.1-py3-none-any.whl.metadata (11 kB)\n",
            "Collecting isodate<1.0.0,>=0.7.2 (from rdflib)\n",
            "  Downloading isodate-0.7.2-py3-none-any.whl.metadata (11 kB)\n",
            "Requirement already satisfied: pyparsing<4,>=2.1.0 in /usr/local/lib/python3.10/dist-packages (from rdflib) (3.2.0)\n",
            "Downloading rdflib-7.1.1-py3-none-any.whl (562 kB)\n",
            "\u001b[2K   \u001b[90m━━━━━━━━━━━━━━━━━━━━━━━━━━━━━━━━━━━━━━━━\u001b[0m \u001b[32m562.4/562.4 kB\u001b[0m \u001b[31m7.0 MB/s\u001b[0m eta \u001b[36m0:00:00\u001b[0m\n",
            "\u001b[?25hDownloading isodate-0.7.2-py3-none-any.whl (22 kB)\n",
            "Installing collected packages: isodate, rdflib\n",
            "Successfully installed isodate-0.7.2 rdflib-7.1.1\n"
          ]
        }
      ]
    },
    {
      "cell_type": "code",
      "source": [
        "import pandas as pd\n",
        "import numpy as np\n",
        "import matplotlib.pyplot as plt\n",
        "import seaborn as sns\n",
        "from rdflib import Graph\n",
        "from rdflib.namespace import XSD\n",
        "from rdflib import URIRef, Literal, Namespace, OWL, RDF"
      ],
      "metadata": {
        "id": "rHPHAgixu2wK"
      },
      "execution_count": 2,
      "outputs": []
    },
    {
      "cell_type": "markdown",
      "source": [
        "## Exploring the data"
      ],
      "metadata": {
        "id": "gTM7Jxa61xj7"
      }
    },
    {
      "cell_type": "code",
      "source": [
        "innings1_df = pd.read_csv('/content/1st Innings T20.csv')"
      ],
      "metadata": {
        "id": "N3kRalqjtG36"
      },
      "execution_count": 3,
      "outputs": []
    },
    {
      "cell_type": "code",
      "source": [
        "innings1_df.head()"
      ],
      "metadata": {
        "colab": {
          "base_uri": "https://localhost:8080/",
          "height": 206
        },
        "id": "QkqIrBJQvKOm",
        "outputId": "e4358589-3500-4200-997c-669a56ecedc3"
      },
      "execution_count": 4,
      "outputs": [
        {
          "output_type": "execute_result",
          "data": {
            "text/plain": [
              "   Unnamed: 0 matchId  balls  runs tossWinner  battingTeam bowlingTeam  \\\n",
              "0           0     5_1    0.1   0.0      India  West Indies       India   \n",
              "1           1     5_1    0.2   0.0      India  West Indies       India   \n",
              "2           2     5_1    0.3   0.0      India  West Indies       India   \n",
              "3           3     5_1    0.4   1.0      India  West Indies       India   \n",
              "4           4     5_1    0.5   0.0      India  West Indies       India   \n",
              "\n",
              "   player_out        city                                              venue  \n",
              "0         0.0  Lauderhill  Central Broward Regional Park Stadium Turf Ground  \n",
              "1         1.0  Lauderhill  Central Broward Regional Park Stadium Turf Ground  \n",
              "2         0.0  Lauderhill  Central Broward Regional Park Stadium Turf Ground  \n",
              "3         0.0  Lauderhill  Central Broward Regional Park Stadium Turf Ground  \n",
              "4         0.0  Lauderhill  Central Broward Regional Park Stadium Turf Ground  "
            ],
            "text/html": [
              "\n",
              "  <div id=\"df-ac55fffa-df7e-46e0-9c18-19ccb6a0b02c\" class=\"colab-df-container\">\n",
              "    <div>\n",
              "<style scoped>\n",
              "    .dataframe tbody tr th:only-of-type {\n",
              "        vertical-align: middle;\n",
              "    }\n",
              "\n",
              "    .dataframe tbody tr th {\n",
              "        vertical-align: top;\n",
              "    }\n",
              "\n",
              "    .dataframe thead th {\n",
              "        text-align: right;\n",
              "    }\n",
              "</style>\n",
              "<table border=\"1\" class=\"dataframe\">\n",
              "  <thead>\n",
              "    <tr style=\"text-align: right;\">\n",
              "      <th></th>\n",
              "      <th>Unnamed: 0</th>\n",
              "      <th>matchId</th>\n",
              "      <th>balls</th>\n",
              "      <th>runs</th>\n",
              "      <th>tossWinner</th>\n",
              "      <th>battingTeam</th>\n",
              "      <th>bowlingTeam</th>\n",
              "      <th>player_out</th>\n",
              "      <th>city</th>\n",
              "      <th>venue</th>\n",
              "    </tr>\n",
              "  </thead>\n",
              "  <tbody>\n",
              "    <tr>\n",
              "      <th>0</th>\n",
              "      <td>0</td>\n",
              "      <td>5_1</td>\n",
              "      <td>0.1</td>\n",
              "      <td>0.0</td>\n",
              "      <td>India</td>\n",
              "      <td>West Indies</td>\n",
              "      <td>India</td>\n",
              "      <td>0.0</td>\n",
              "      <td>Lauderhill</td>\n",
              "      <td>Central Broward Regional Park Stadium Turf Ground</td>\n",
              "    </tr>\n",
              "    <tr>\n",
              "      <th>1</th>\n",
              "      <td>1</td>\n",
              "      <td>5_1</td>\n",
              "      <td>0.2</td>\n",
              "      <td>0.0</td>\n",
              "      <td>India</td>\n",
              "      <td>West Indies</td>\n",
              "      <td>India</td>\n",
              "      <td>1.0</td>\n",
              "      <td>Lauderhill</td>\n",
              "      <td>Central Broward Regional Park Stadium Turf Ground</td>\n",
              "    </tr>\n",
              "    <tr>\n",
              "      <th>2</th>\n",
              "      <td>2</td>\n",
              "      <td>5_1</td>\n",
              "      <td>0.3</td>\n",
              "      <td>0.0</td>\n",
              "      <td>India</td>\n",
              "      <td>West Indies</td>\n",
              "      <td>India</td>\n",
              "      <td>0.0</td>\n",
              "      <td>Lauderhill</td>\n",
              "      <td>Central Broward Regional Park Stadium Turf Ground</td>\n",
              "    </tr>\n",
              "    <tr>\n",
              "      <th>3</th>\n",
              "      <td>3</td>\n",
              "      <td>5_1</td>\n",
              "      <td>0.4</td>\n",
              "      <td>1.0</td>\n",
              "      <td>India</td>\n",
              "      <td>West Indies</td>\n",
              "      <td>India</td>\n",
              "      <td>0.0</td>\n",
              "      <td>Lauderhill</td>\n",
              "      <td>Central Broward Regional Park Stadium Turf Ground</td>\n",
              "    </tr>\n",
              "    <tr>\n",
              "      <th>4</th>\n",
              "      <td>4</td>\n",
              "      <td>5_1</td>\n",
              "      <td>0.5</td>\n",
              "      <td>0.0</td>\n",
              "      <td>India</td>\n",
              "      <td>West Indies</td>\n",
              "      <td>India</td>\n",
              "      <td>0.0</td>\n",
              "      <td>Lauderhill</td>\n",
              "      <td>Central Broward Regional Park Stadium Turf Ground</td>\n",
              "    </tr>\n",
              "  </tbody>\n",
              "</table>\n",
              "</div>\n",
              "    <div class=\"colab-df-buttons\">\n",
              "\n",
              "  <div class=\"colab-df-container\">\n",
              "    <button class=\"colab-df-convert\" onclick=\"convertToInteractive('df-ac55fffa-df7e-46e0-9c18-19ccb6a0b02c')\"\n",
              "            title=\"Convert this dataframe to an interactive table.\"\n",
              "            style=\"display:none;\">\n",
              "\n",
              "  <svg xmlns=\"http://www.w3.org/2000/svg\" height=\"24px\" viewBox=\"0 -960 960 960\">\n",
              "    <path d=\"M120-120v-720h720v720H120Zm60-500h600v-160H180v160Zm220 220h160v-160H400v160Zm0 220h160v-160H400v160ZM180-400h160v-160H180v160Zm440 0h160v-160H620v160ZM180-180h160v-160H180v160Zm440 0h160v-160H620v160Z\"/>\n",
              "  </svg>\n",
              "    </button>\n",
              "\n",
              "  <style>\n",
              "    .colab-df-container {\n",
              "      display:flex;\n",
              "      gap: 12px;\n",
              "    }\n",
              "\n",
              "    .colab-df-convert {\n",
              "      background-color: #E8F0FE;\n",
              "      border: none;\n",
              "      border-radius: 50%;\n",
              "      cursor: pointer;\n",
              "      display: none;\n",
              "      fill: #1967D2;\n",
              "      height: 32px;\n",
              "      padding: 0 0 0 0;\n",
              "      width: 32px;\n",
              "    }\n",
              "\n",
              "    .colab-df-convert:hover {\n",
              "      background-color: #E2EBFA;\n",
              "      box-shadow: 0px 1px 2px rgba(60, 64, 67, 0.3), 0px 1px 3px 1px rgba(60, 64, 67, 0.15);\n",
              "      fill: #174EA6;\n",
              "    }\n",
              "\n",
              "    .colab-df-buttons div {\n",
              "      margin-bottom: 4px;\n",
              "    }\n",
              "\n",
              "    [theme=dark] .colab-df-convert {\n",
              "      background-color: #3B4455;\n",
              "      fill: #D2E3FC;\n",
              "    }\n",
              "\n",
              "    [theme=dark] .colab-df-convert:hover {\n",
              "      background-color: #434B5C;\n",
              "      box-shadow: 0px 1px 3px 1px rgba(0, 0, 0, 0.15);\n",
              "      filter: drop-shadow(0px 1px 2px rgba(0, 0, 0, 0.3));\n",
              "      fill: #FFFFFF;\n",
              "    }\n",
              "  </style>\n",
              "\n",
              "    <script>\n",
              "      const buttonEl =\n",
              "        document.querySelector('#df-ac55fffa-df7e-46e0-9c18-19ccb6a0b02c button.colab-df-convert');\n",
              "      buttonEl.style.display =\n",
              "        google.colab.kernel.accessAllowed ? 'block' : 'none';\n",
              "\n",
              "      async function convertToInteractive(key) {\n",
              "        const element = document.querySelector('#df-ac55fffa-df7e-46e0-9c18-19ccb6a0b02c');\n",
              "        const dataTable =\n",
              "          await google.colab.kernel.invokeFunction('convertToInteractive',\n",
              "                                                    [key], {});\n",
              "        if (!dataTable) return;\n",
              "\n",
              "        const docLinkHtml = 'Like what you see? Visit the ' +\n",
              "          '<a target=\"_blank\" href=https://colab.research.google.com/notebooks/data_table.ipynb>data table notebook</a>'\n",
              "          + ' to learn more about interactive tables.';\n",
              "        element.innerHTML = '';\n",
              "        dataTable['output_type'] = 'display_data';\n",
              "        await google.colab.output.renderOutput(dataTable, element);\n",
              "        const docLink = document.createElement('div');\n",
              "        docLink.innerHTML = docLinkHtml;\n",
              "        element.appendChild(docLink);\n",
              "      }\n",
              "    </script>\n",
              "  </div>\n",
              "\n",
              "\n",
              "<div id=\"df-e8173759-ae52-4e13-9b51-06187c869e4a\">\n",
              "  <button class=\"colab-df-quickchart\" onclick=\"quickchart('df-e8173759-ae52-4e13-9b51-06187c869e4a')\"\n",
              "            title=\"Suggest charts\"\n",
              "            style=\"display:none;\">\n",
              "\n",
              "<svg xmlns=\"http://www.w3.org/2000/svg\" height=\"24px\"viewBox=\"0 0 24 24\"\n",
              "     width=\"24px\">\n",
              "    <g>\n",
              "        <path d=\"M19 3H5c-1.1 0-2 .9-2 2v14c0 1.1.9 2 2 2h14c1.1 0 2-.9 2-2V5c0-1.1-.9-2-2-2zM9 17H7v-7h2v7zm4 0h-2V7h2v10zm4 0h-2v-4h2v4z\"/>\n",
              "    </g>\n",
              "</svg>\n",
              "  </button>\n",
              "\n",
              "<style>\n",
              "  .colab-df-quickchart {\n",
              "      --bg-color: #E8F0FE;\n",
              "      --fill-color: #1967D2;\n",
              "      --hover-bg-color: #E2EBFA;\n",
              "      --hover-fill-color: #174EA6;\n",
              "      --disabled-fill-color: #AAA;\n",
              "      --disabled-bg-color: #DDD;\n",
              "  }\n",
              "\n",
              "  [theme=dark] .colab-df-quickchart {\n",
              "      --bg-color: #3B4455;\n",
              "      --fill-color: #D2E3FC;\n",
              "      --hover-bg-color: #434B5C;\n",
              "      --hover-fill-color: #FFFFFF;\n",
              "      --disabled-bg-color: #3B4455;\n",
              "      --disabled-fill-color: #666;\n",
              "  }\n",
              "\n",
              "  .colab-df-quickchart {\n",
              "    background-color: var(--bg-color);\n",
              "    border: none;\n",
              "    border-radius: 50%;\n",
              "    cursor: pointer;\n",
              "    display: none;\n",
              "    fill: var(--fill-color);\n",
              "    height: 32px;\n",
              "    padding: 0;\n",
              "    width: 32px;\n",
              "  }\n",
              "\n",
              "  .colab-df-quickchart:hover {\n",
              "    background-color: var(--hover-bg-color);\n",
              "    box-shadow: 0 1px 2px rgba(60, 64, 67, 0.3), 0 1px 3px 1px rgba(60, 64, 67, 0.15);\n",
              "    fill: var(--button-hover-fill-color);\n",
              "  }\n",
              "\n",
              "  .colab-df-quickchart-complete:disabled,\n",
              "  .colab-df-quickchart-complete:disabled:hover {\n",
              "    background-color: var(--disabled-bg-color);\n",
              "    fill: var(--disabled-fill-color);\n",
              "    box-shadow: none;\n",
              "  }\n",
              "\n",
              "  .colab-df-spinner {\n",
              "    border: 2px solid var(--fill-color);\n",
              "    border-color: transparent;\n",
              "    border-bottom-color: var(--fill-color);\n",
              "    animation:\n",
              "      spin 1s steps(1) infinite;\n",
              "  }\n",
              "\n",
              "  @keyframes spin {\n",
              "    0% {\n",
              "      border-color: transparent;\n",
              "      border-bottom-color: var(--fill-color);\n",
              "      border-left-color: var(--fill-color);\n",
              "    }\n",
              "    20% {\n",
              "      border-color: transparent;\n",
              "      border-left-color: var(--fill-color);\n",
              "      border-top-color: var(--fill-color);\n",
              "    }\n",
              "    30% {\n",
              "      border-color: transparent;\n",
              "      border-left-color: var(--fill-color);\n",
              "      border-top-color: var(--fill-color);\n",
              "      border-right-color: var(--fill-color);\n",
              "    }\n",
              "    40% {\n",
              "      border-color: transparent;\n",
              "      border-right-color: var(--fill-color);\n",
              "      border-top-color: var(--fill-color);\n",
              "    }\n",
              "    60% {\n",
              "      border-color: transparent;\n",
              "      border-right-color: var(--fill-color);\n",
              "    }\n",
              "    80% {\n",
              "      border-color: transparent;\n",
              "      border-right-color: var(--fill-color);\n",
              "      border-bottom-color: var(--fill-color);\n",
              "    }\n",
              "    90% {\n",
              "      border-color: transparent;\n",
              "      border-bottom-color: var(--fill-color);\n",
              "    }\n",
              "  }\n",
              "</style>\n",
              "\n",
              "  <script>\n",
              "    async function quickchart(key) {\n",
              "      const quickchartButtonEl =\n",
              "        document.querySelector('#' + key + ' button');\n",
              "      quickchartButtonEl.disabled = true;  // To prevent multiple clicks.\n",
              "      quickchartButtonEl.classList.add('colab-df-spinner');\n",
              "      try {\n",
              "        const charts = await google.colab.kernel.invokeFunction(\n",
              "            'suggestCharts', [key], {});\n",
              "      } catch (error) {\n",
              "        console.error('Error during call to suggestCharts:', error);\n",
              "      }\n",
              "      quickchartButtonEl.classList.remove('colab-df-spinner');\n",
              "      quickchartButtonEl.classList.add('colab-df-quickchart-complete');\n",
              "    }\n",
              "    (() => {\n",
              "      let quickchartButtonEl =\n",
              "        document.querySelector('#df-e8173759-ae52-4e13-9b51-06187c869e4a button');\n",
              "      quickchartButtonEl.style.display =\n",
              "        google.colab.kernel.accessAllowed ? 'block' : 'none';\n",
              "    })();\n",
              "  </script>\n",
              "</div>\n",
              "\n",
              "    </div>\n",
              "  </div>\n"
            ],
            "application/vnd.google.colaboratory.intrinsic+json": {
              "type": "dataframe",
              "variable_name": "innings1_df",
              "summary": "{\n  \"name\": \"innings1_df\",\n  \"rows\": 13115,\n  \"fields\": [\n    {\n      \"column\": \"Unnamed: 0\",\n      \"properties\": {\n        \"dtype\": \"number\",\n        \"std\": 35,\n        \"min\": 0,\n        \"max\": 131,\n        \"num_unique_values\": 132,\n        \"samples\": [\n          56,\n          83,\n          19\n        ],\n        \"semantic_type\": \"\",\n        \"description\": \"\"\n      }\n    },\n    {\n      \"column\": \"matchId\",\n      \"properties\": {\n        \"dtype\": \"category\",\n        \"num_unique_values\": 110,\n        \"samples\": [\n          \"206_1\",\n          \"34_1\",\n          \"11_1\"\n        ],\n        \"semantic_type\": \"\",\n        \"description\": \"\"\n      }\n    },\n    {\n      \"column\": \"balls\",\n      \"properties\": {\n        \"dtype\": \"number\",\n        \"std\": 5.7490399960849,\n        \"min\": 0.1,\n        \"max\": 19.8,\n        \"num_unique_values\": 169,\n        \"samples\": [\n          11.9,\n          4.5,\n          19.2\n        ],\n        \"semantic_type\": \"\",\n        \"description\": \"\"\n      }\n    },\n    {\n      \"column\": \"runs\",\n      \"properties\": {\n        \"dtype\": \"number\",\n        \"std\": 1.561028689090423,\n        \"min\": 0.0,\n        \"max\": 7.0,\n        \"num_unique_values\": 8,\n        \"samples\": [\n          1.0,\n          2.0,\n          0.0\n        ],\n        \"semantic_type\": \"\",\n        \"description\": \"\"\n      }\n    },\n    {\n      \"column\": \"tossWinner\",\n      \"properties\": {\n        \"dtype\": \"category\",\n        \"num_unique_values\": 13,\n        \"samples\": [\n          \"Netherlands\",\n          \"Bangladesh\",\n          \"India\"\n        ],\n        \"semantic_type\": \"\",\n        \"description\": \"\"\n      }\n    },\n    {\n      \"column\": \"battingTeam\",\n      \"properties\": {\n        \"dtype\": \"category\",\n        \"num_unique_values\": 13,\n        \"samples\": [\n          \"Bangladesh\",\n          \"Ireland\",\n          \"West Indies\"\n        ],\n        \"semantic_type\": \"\",\n        \"description\": \"\"\n      }\n    },\n    {\n      \"column\": \"bowlingTeam\",\n      \"properties\": {\n        \"dtype\": \"category\",\n        \"num_unique_values\": 13,\n        \"samples\": [\n          \"Pakistan\",\n          \"West Indies\",\n          \"India\"\n        ],\n        \"semantic_type\": \"\",\n        \"description\": \"\"\n      }\n    },\n    {\n      \"column\": \"player_out\",\n      \"properties\": {\n        \"dtype\": \"number\",\n        \"std\": 0.2258522792611544,\n        \"min\": 0.0,\n        \"max\": 1.0,\n        \"num_unique_values\": 2,\n        \"samples\": [\n          1.0,\n          0.0\n        ],\n        \"semantic_type\": \"\",\n        \"description\": \"\"\n      }\n    },\n    {\n      \"column\": \"city\",\n      \"properties\": {\n        \"dtype\": \"category\",\n        \"num_unique_values\": 60,\n        \"samples\": [\n          \"Lauderhill\",\n          \"Dubai\"\n        ],\n        \"semantic_type\": \"\",\n        \"description\": \"\"\n      }\n    },\n    {\n      \"column\": \"venue\",\n      \"properties\": {\n        \"dtype\": \"category\",\n        \"num_unique_values\": 67,\n        \"samples\": [\n          \"Hazelaarweg\",\n          \"Sheikh Zayed Stadium\"\n        ],\n        \"semantic_type\": \"\",\n        \"description\": \"\"\n      }\n    }\n  ]\n}"
            }
          },
          "metadata": {},
          "execution_count": 4
        }
      ]
    },
    {
      "cell_type": "code",
      "source": [
        "innings1_df.info()"
      ],
      "metadata": {
        "colab": {
          "base_uri": "https://localhost:8080/"
        },
        "id": "f_wsPOid2EgD",
        "outputId": "411bad13-e9df-4e49-e8ff-14664cd88507"
      },
      "execution_count": 5,
      "outputs": [
        {
          "output_type": "stream",
          "name": "stdout",
          "text": [
            "<class 'pandas.core.frame.DataFrame'>\n",
            "RangeIndex: 13115 entries, 0 to 13114\n",
            "Data columns (total 10 columns):\n",
            " #   Column       Non-Null Count  Dtype  \n",
            "---  ------       --------------  -----  \n",
            " 0   Unnamed: 0   13115 non-null  int64  \n",
            " 1   matchId      13115 non-null  object \n",
            " 2   balls        13114 non-null  float64\n",
            " 3   runs         13114 non-null  float64\n",
            " 4   tossWinner   12411 non-null  object \n",
            " 5   battingTeam  13114 non-null  object \n",
            " 6   bowlingTeam  13114 non-null  object \n",
            " 7   player_out   13114 non-null  float64\n",
            " 8   city         13114 non-null  object \n",
            " 9   venue        13114 non-null  object \n",
            "dtypes: float64(3), int64(1), object(6)\n",
            "memory usage: 1.0+ MB\n"
          ]
        }
      ]
    },
    {
      "cell_type": "code",
      "source": [
        "innings1_df.describe()"
      ],
      "metadata": {
        "colab": {
          "base_uri": "https://localhost:8080/",
          "height": 300
        },
        "id": "uGvdE3B32G7m",
        "outputId": "757c704d-befa-4426-a6ca-8faf7ec2274a"
      },
      "execution_count": 6,
      "outputs": [
        {
          "output_type": "execute_result",
          "data": {
            "text/plain": [
              "         Unnamed: 0         balls          runs    player_out\n",
              "count  13115.000000  13114.000000  13114.000000  13114.000000\n",
              "mean      60.555776      9.710251      1.281760      0.053912\n",
              "std       35.653996      5.749040      1.561029      0.225852\n",
              "min        0.000000      0.100000      0.000000      0.000000\n",
              "25%       30.000000      4.600000      0.000000      0.000000\n",
              "50%       60.000000      9.500000      1.000000      0.000000\n",
              "75%       91.000000     14.500000      1.000000      0.000000\n",
              "max      131.000000     19.800000      7.000000      1.000000"
            ],
            "text/html": [
              "\n",
              "  <div id=\"df-f255288a-5626-4b56-9470-ce4c196a37ba\" class=\"colab-df-container\">\n",
              "    <div>\n",
              "<style scoped>\n",
              "    .dataframe tbody tr th:only-of-type {\n",
              "        vertical-align: middle;\n",
              "    }\n",
              "\n",
              "    .dataframe tbody tr th {\n",
              "        vertical-align: top;\n",
              "    }\n",
              "\n",
              "    .dataframe thead th {\n",
              "        text-align: right;\n",
              "    }\n",
              "</style>\n",
              "<table border=\"1\" class=\"dataframe\">\n",
              "  <thead>\n",
              "    <tr style=\"text-align: right;\">\n",
              "      <th></th>\n",
              "      <th>Unnamed: 0</th>\n",
              "      <th>balls</th>\n",
              "      <th>runs</th>\n",
              "      <th>player_out</th>\n",
              "    </tr>\n",
              "  </thead>\n",
              "  <tbody>\n",
              "    <tr>\n",
              "      <th>count</th>\n",
              "      <td>13115.000000</td>\n",
              "      <td>13114.000000</td>\n",
              "      <td>13114.000000</td>\n",
              "      <td>13114.000000</td>\n",
              "    </tr>\n",
              "    <tr>\n",
              "      <th>mean</th>\n",
              "      <td>60.555776</td>\n",
              "      <td>9.710251</td>\n",
              "      <td>1.281760</td>\n",
              "      <td>0.053912</td>\n",
              "    </tr>\n",
              "    <tr>\n",
              "      <th>std</th>\n",
              "      <td>35.653996</td>\n",
              "      <td>5.749040</td>\n",
              "      <td>1.561029</td>\n",
              "      <td>0.225852</td>\n",
              "    </tr>\n",
              "    <tr>\n",
              "      <th>min</th>\n",
              "      <td>0.000000</td>\n",
              "      <td>0.100000</td>\n",
              "      <td>0.000000</td>\n",
              "      <td>0.000000</td>\n",
              "    </tr>\n",
              "    <tr>\n",
              "      <th>25%</th>\n",
              "      <td>30.000000</td>\n",
              "      <td>4.600000</td>\n",
              "      <td>0.000000</td>\n",
              "      <td>0.000000</td>\n",
              "    </tr>\n",
              "    <tr>\n",
              "      <th>50%</th>\n",
              "      <td>60.000000</td>\n",
              "      <td>9.500000</td>\n",
              "      <td>1.000000</td>\n",
              "      <td>0.000000</td>\n",
              "    </tr>\n",
              "    <tr>\n",
              "      <th>75%</th>\n",
              "      <td>91.000000</td>\n",
              "      <td>14.500000</td>\n",
              "      <td>1.000000</td>\n",
              "      <td>0.000000</td>\n",
              "    </tr>\n",
              "    <tr>\n",
              "      <th>max</th>\n",
              "      <td>131.000000</td>\n",
              "      <td>19.800000</td>\n",
              "      <td>7.000000</td>\n",
              "      <td>1.000000</td>\n",
              "    </tr>\n",
              "  </tbody>\n",
              "</table>\n",
              "</div>\n",
              "    <div class=\"colab-df-buttons\">\n",
              "\n",
              "  <div class=\"colab-df-container\">\n",
              "    <button class=\"colab-df-convert\" onclick=\"convertToInteractive('df-f255288a-5626-4b56-9470-ce4c196a37ba')\"\n",
              "            title=\"Convert this dataframe to an interactive table.\"\n",
              "            style=\"display:none;\">\n",
              "\n",
              "  <svg xmlns=\"http://www.w3.org/2000/svg\" height=\"24px\" viewBox=\"0 -960 960 960\">\n",
              "    <path d=\"M120-120v-720h720v720H120Zm60-500h600v-160H180v160Zm220 220h160v-160H400v160Zm0 220h160v-160H400v160ZM180-400h160v-160H180v160Zm440 0h160v-160H620v160ZM180-180h160v-160H180v160Zm440 0h160v-160H620v160Z\"/>\n",
              "  </svg>\n",
              "    </button>\n",
              "\n",
              "  <style>\n",
              "    .colab-df-container {\n",
              "      display:flex;\n",
              "      gap: 12px;\n",
              "    }\n",
              "\n",
              "    .colab-df-convert {\n",
              "      background-color: #E8F0FE;\n",
              "      border: none;\n",
              "      border-radius: 50%;\n",
              "      cursor: pointer;\n",
              "      display: none;\n",
              "      fill: #1967D2;\n",
              "      height: 32px;\n",
              "      padding: 0 0 0 0;\n",
              "      width: 32px;\n",
              "    }\n",
              "\n",
              "    .colab-df-convert:hover {\n",
              "      background-color: #E2EBFA;\n",
              "      box-shadow: 0px 1px 2px rgba(60, 64, 67, 0.3), 0px 1px 3px 1px rgba(60, 64, 67, 0.15);\n",
              "      fill: #174EA6;\n",
              "    }\n",
              "\n",
              "    .colab-df-buttons div {\n",
              "      margin-bottom: 4px;\n",
              "    }\n",
              "\n",
              "    [theme=dark] .colab-df-convert {\n",
              "      background-color: #3B4455;\n",
              "      fill: #D2E3FC;\n",
              "    }\n",
              "\n",
              "    [theme=dark] .colab-df-convert:hover {\n",
              "      background-color: #434B5C;\n",
              "      box-shadow: 0px 1px 3px 1px rgba(0, 0, 0, 0.15);\n",
              "      filter: drop-shadow(0px 1px 2px rgba(0, 0, 0, 0.3));\n",
              "      fill: #FFFFFF;\n",
              "    }\n",
              "  </style>\n",
              "\n",
              "    <script>\n",
              "      const buttonEl =\n",
              "        document.querySelector('#df-f255288a-5626-4b56-9470-ce4c196a37ba button.colab-df-convert');\n",
              "      buttonEl.style.display =\n",
              "        google.colab.kernel.accessAllowed ? 'block' : 'none';\n",
              "\n",
              "      async function convertToInteractive(key) {\n",
              "        const element = document.querySelector('#df-f255288a-5626-4b56-9470-ce4c196a37ba');\n",
              "        const dataTable =\n",
              "          await google.colab.kernel.invokeFunction('convertToInteractive',\n",
              "                                                    [key], {});\n",
              "        if (!dataTable) return;\n",
              "\n",
              "        const docLinkHtml = 'Like what you see? Visit the ' +\n",
              "          '<a target=\"_blank\" href=https://colab.research.google.com/notebooks/data_table.ipynb>data table notebook</a>'\n",
              "          + ' to learn more about interactive tables.';\n",
              "        element.innerHTML = '';\n",
              "        dataTable['output_type'] = 'display_data';\n",
              "        await google.colab.output.renderOutput(dataTable, element);\n",
              "        const docLink = document.createElement('div');\n",
              "        docLink.innerHTML = docLinkHtml;\n",
              "        element.appendChild(docLink);\n",
              "      }\n",
              "    </script>\n",
              "  </div>\n",
              "\n",
              "\n",
              "<div id=\"df-99b7f52b-e8af-4883-8884-21f83f22d79d\">\n",
              "  <button class=\"colab-df-quickchart\" onclick=\"quickchart('df-99b7f52b-e8af-4883-8884-21f83f22d79d')\"\n",
              "            title=\"Suggest charts\"\n",
              "            style=\"display:none;\">\n",
              "\n",
              "<svg xmlns=\"http://www.w3.org/2000/svg\" height=\"24px\"viewBox=\"0 0 24 24\"\n",
              "     width=\"24px\">\n",
              "    <g>\n",
              "        <path d=\"M19 3H5c-1.1 0-2 .9-2 2v14c0 1.1.9 2 2 2h14c1.1 0 2-.9 2-2V5c0-1.1-.9-2-2-2zM9 17H7v-7h2v7zm4 0h-2V7h2v10zm4 0h-2v-4h2v4z\"/>\n",
              "    </g>\n",
              "</svg>\n",
              "  </button>\n",
              "\n",
              "<style>\n",
              "  .colab-df-quickchart {\n",
              "      --bg-color: #E8F0FE;\n",
              "      --fill-color: #1967D2;\n",
              "      --hover-bg-color: #E2EBFA;\n",
              "      --hover-fill-color: #174EA6;\n",
              "      --disabled-fill-color: #AAA;\n",
              "      --disabled-bg-color: #DDD;\n",
              "  }\n",
              "\n",
              "  [theme=dark] .colab-df-quickchart {\n",
              "      --bg-color: #3B4455;\n",
              "      --fill-color: #D2E3FC;\n",
              "      --hover-bg-color: #434B5C;\n",
              "      --hover-fill-color: #FFFFFF;\n",
              "      --disabled-bg-color: #3B4455;\n",
              "      --disabled-fill-color: #666;\n",
              "  }\n",
              "\n",
              "  .colab-df-quickchart {\n",
              "    background-color: var(--bg-color);\n",
              "    border: none;\n",
              "    border-radius: 50%;\n",
              "    cursor: pointer;\n",
              "    display: none;\n",
              "    fill: var(--fill-color);\n",
              "    height: 32px;\n",
              "    padding: 0;\n",
              "    width: 32px;\n",
              "  }\n",
              "\n",
              "  .colab-df-quickchart:hover {\n",
              "    background-color: var(--hover-bg-color);\n",
              "    box-shadow: 0 1px 2px rgba(60, 64, 67, 0.3), 0 1px 3px 1px rgba(60, 64, 67, 0.15);\n",
              "    fill: var(--button-hover-fill-color);\n",
              "  }\n",
              "\n",
              "  .colab-df-quickchart-complete:disabled,\n",
              "  .colab-df-quickchart-complete:disabled:hover {\n",
              "    background-color: var(--disabled-bg-color);\n",
              "    fill: var(--disabled-fill-color);\n",
              "    box-shadow: none;\n",
              "  }\n",
              "\n",
              "  .colab-df-spinner {\n",
              "    border: 2px solid var(--fill-color);\n",
              "    border-color: transparent;\n",
              "    border-bottom-color: var(--fill-color);\n",
              "    animation:\n",
              "      spin 1s steps(1) infinite;\n",
              "  }\n",
              "\n",
              "  @keyframes spin {\n",
              "    0% {\n",
              "      border-color: transparent;\n",
              "      border-bottom-color: var(--fill-color);\n",
              "      border-left-color: var(--fill-color);\n",
              "    }\n",
              "    20% {\n",
              "      border-color: transparent;\n",
              "      border-left-color: var(--fill-color);\n",
              "      border-top-color: var(--fill-color);\n",
              "    }\n",
              "    30% {\n",
              "      border-color: transparent;\n",
              "      border-left-color: var(--fill-color);\n",
              "      border-top-color: var(--fill-color);\n",
              "      border-right-color: var(--fill-color);\n",
              "    }\n",
              "    40% {\n",
              "      border-color: transparent;\n",
              "      border-right-color: var(--fill-color);\n",
              "      border-top-color: var(--fill-color);\n",
              "    }\n",
              "    60% {\n",
              "      border-color: transparent;\n",
              "      border-right-color: var(--fill-color);\n",
              "    }\n",
              "    80% {\n",
              "      border-color: transparent;\n",
              "      border-right-color: var(--fill-color);\n",
              "      border-bottom-color: var(--fill-color);\n",
              "    }\n",
              "    90% {\n",
              "      border-color: transparent;\n",
              "      border-bottom-color: var(--fill-color);\n",
              "    }\n",
              "  }\n",
              "</style>\n",
              "\n",
              "  <script>\n",
              "    async function quickchart(key) {\n",
              "      const quickchartButtonEl =\n",
              "        document.querySelector('#' + key + ' button');\n",
              "      quickchartButtonEl.disabled = true;  // To prevent multiple clicks.\n",
              "      quickchartButtonEl.classList.add('colab-df-spinner');\n",
              "      try {\n",
              "        const charts = await google.colab.kernel.invokeFunction(\n",
              "            'suggestCharts', [key], {});\n",
              "      } catch (error) {\n",
              "        console.error('Error during call to suggestCharts:', error);\n",
              "      }\n",
              "      quickchartButtonEl.classList.remove('colab-df-spinner');\n",
              "      quickchartButtonEl.classList.add('colab-df-quickchart-complete');\n",
              "    }\n",
              "    (() => {\n",
              "      let quickchartButtonEl =\n",
              "        document.querySelector('#df-99b7f52b-e8af-4883-8884-21f83f22d79d button');\n",
              "      quickchartButtonEl.style.display =\n",
              "        google.colab.kernel.accessAllowed ? 'block' : 'none';\n",
              "    })();\n",
              "  </script>\n",
              "</div>\n",
              "\n",
              "    </div>\n",
              "  </div>\n"
            ],
            "application/vnd.google.colaboratory.intrinsic+json": {
              "type": "dataframe",
              "summary": "{\n  \"name\": \"innings1_df\",\n  \"rows\": 8,\n  \"fields\": [\n    {\n      \"column\": \"Unnamed: 0\",\n      \"properties\": {\n        \"dtype\": \"number\",\n        \"std\": 4616.406377473661,\n        \"min\": 0.0,\n        \"max\": 13115.0,\n        \"num_unique_values\": 8,\n        \"samples\": [\n          60.5557758292032,\n          60.0,\n          13115.0\n        ],\n        \"semantic_type\": \"\",\n        \"description\": \"\"\n      }\n    },\n    {\n      \"column\": \"balls\",\n      \"properties\": {\n        \"dtype\": \"number\",\n        \"std\": 4633.272688876848,\n        \"min\": 0.1,\n        \"max\": 13114.0,\n        \"num_unique_values\": 8,\n        \"samples\": [\n          9.710250876925423,\n          9.5,\n          13114.0\n        ],\n        \"semantic_type\": \"\",\n        \"description\": \"\"\n      }\n    },\n    {\n      \"column\": \"runs\",\n      \"properties\": {\n        \"dtype\": \"number\",\n        \"std\": 4635.901553030074,\n        \"min\": 0.0,\n        \"max\": 13114.0,\n        \"num_unique_values\": 6,\n        \"samples\": [\n          13114.0,\n          1.2817599511971938,\n          7.0\n        ],\n        \"semantic_type\": \"\",\n        \"description\": \"\"\n      }\n    },\n    {\n      \"column\": \"player_out\",\n      \"properties\": {\n        \"dtype\": \"number\",\n        \"std\": 4636.434539022625,\n        \"min\": 0.0,\n        \"max\": 13114.0,\n        \"num_unique_values\": 5,\n        \"samples\": [\n          0.053911849931371054,\n          1.0,\n          0.2258522792611544\n        ],\n        \"semantic_type\": \"\",\n        \"description\": \"\"\n      }\n    }\n  ]\n}"
            }
          },
          "metadata": {},
          "execution_count": 6
        }
      ]
    },
    {
      "cell_type": "code",
      "source": [
        "innings1_df.shape"
      ],
      "metadata": {
        "colab": {
          "base_uri": "https://localhost:8080/"
        },
        "id": "gAIPK1QU2JSn",
        "outputId": "5197af58-8d53-4c7b-e17e-8aed9a23fa29"
      },
      "execution_count": 7,
      "outputs": [
        {
          "output_type": "execute_result",
          "data": {
            "text/plain": [
              "(13115, 10)"
            ]
          },
          "metadata": {},
          "execution_count": 7
        }
      ]
    },
    {
      "cell_type": "code",
      "source": [
        "#Checking for empty records\n",
        "print(f\"The empty records are {np.where(pd.isnull(innings1_df))}\")\n",
        "#Checking for categorical features\n",
        "print(f\"Categorical data is {innings1_df.select_dtypes(include=['object']).columns.tolist()} \")\n",
        "#Checking for duplicate values\n",
        "print(f\"Are there any duplicate values? {innings1_df.duplicated().any()}\")"
      ],
      "metadata": {
        "colab": {
          "base_uri": "https://localhost:8080/"
        },
        "id": "mDJYKULn2LQo",
        "outputId": "e51cc08f-d471-4a67-c0d9-8ee6081389b9"
      },
      "execution_count": 8,
      "outputs": [
        {
          "output_type": "stream",
          "name": "stdout",
          "text": [
            "The empty records are (array([ 1988,  1989,  1990,  1991,  1992,  1993,  1994,  1995,  1996,\n",
            "        1997,  1998,  1999,  2000,  2001,  2002,  2003,  2004,  2005,\n",
            "        2006,  2007,  2008,  2009,  2010,  2011,  2012,  2013,  2014,\n",
            "        2015,  2016,  2017,  2018,  2019,  2020,  2021,  2022,  2023,\n",
            "        2024,  2025,  2026,  2027,  2028,  2029,  2030,  2031,  2032,\n",
            "        2033,  2034,  2035,  2036,  2037,  2038,  2039,  2040,  2041,\n",
            "        2042,  2043,  2044,  2045,  2046,  2047,  2048,  2049,  2050,\n",
            "        2051,  2052,  2053,  2054,  2055,  2056,  2057,  2058,  2059,\n",
            "        2060,  2061,  2062,  2063,  2064,  2065,  2066,  2067,  2068,\n",
            "        2069,  2070,  2071,  2072,  2073,  2074,  2075,  5044,  5045,\n",
            "        5046,  5047,  5048,  5049,  5050,  5051,  5052,  5053,  5054,\n",
            "        5055,  5056,  5057,  5058,  5059,  5060,  5061,  5062,  5063,\n",
            "        5064,  5065,  5066,  5067,  5068,  5069,  5070,  5071,  5072,\n",
            "        5073,  5074,  5075,  5076,  5077,  5078,  5079,  5080,  5081,\n",
            "        5082,  5083,  5084,  5085,  5086,  5087,  5088,  5089,  5090,\n",
            "        5091,  5092,  5093,  5094,  5095,  5096,  5097,  5098,  5099,\n",
            "        5100,  5101,  5102,  5103,  5104,  5105,  5106,  5107,  5108,\n",
            "        5109,  5845,  5846,  5847,  5848,  5849,  5850,  5851,  5852,\n",
            "        5853,  5854,  5855,  5856,  5857,  5858,  5859,  5860,  5861,\n",
            "        5862,  5863,  5864,  5865,  5866,  5867,  5868,  5869,  5870,\n",
            "        5871,  5872,  5873,  5874,  5875,  5876,  5877,  5878,  5879,\n",
            "        5880,  5881,  5882,  5883,  5884,  5885,  5886,  5887,  5888,\n",
            "        5889,  5890,  5891,  5892,  5893,  5894,  5895,  5896,  5897,\n",
            "        5898,  5899,  5900,  5901,  5902,  5903,  5904,  5905,  5906,\n",
            "        5907,  5908,  5909,  5910,  5911,  5912,  5913,  5914,  5915,\n",
            "        5916,  5917,  5918,  5919,  5920,  5921,  5922,  5923,  5924,\n",
            "        5925,  5926,  5927,  5928,  5929,  5930,  5931,  5932,  5933,\n",
            "        5934,  5935,  5936,  5937,  5938,  5939,  5940,  5941,  5942,\n",
            "        5943,  5944,  5945,  5946,  5947,  5948,  5949,  5950,  5951,\n",
            "        5952,  5953,  5954,  5955,  5956,  5957,  5958,  5959,  5960,\n",
            "        5961,  6087,  6088,  6089,  6090,  6091,  6092,  6093,  6094,\n",
            "        6095,  6096,  6097,  6098,  6099,  6100,  6101,  6102,  6103,\n",
            "        6104,  6105,  6106,  6107,  6108,  6109,  6110,  6111,  6112,\n",
            "        6113,  6114,  6115,  6116,  6117,  6118,  6119,  6120,  6121,\n",
            "        6122,  6123,  6124,  6125,  6126,  6127,  6128,  6129,  6130,\n",
            "        6131,  6132,  6133,  6134,  6135,  6136,  6137,  6138,  6139,\n",
            "        6140,  6141,  6142,  6143,  6144,  6145,  6146,  6147,  6148,\n",
            "        6149,  6150,  6151,  6152,  6153,  6154,  6155,  6156,  6157,\n",
            "        6158,  6159,  6160,  6161,  6162,  6163,  6164,  6165,  6166,\n",
            "        6167,  6168,  6169,  6170,  6171,  6172,  6173,  6174,  6175,\n",
            "        6176,  6177,  6178,  6179,  6180,  6181,  6182,  6183,  6184,\n",
            "        6185,  6186,  6187,  6188,  6189,  6190,  6191,  6192,  6193,\n",
            "        6194,  6195,  6196,  6197,  6198,  6199,  6200,  6201,  6202,\n",
            "        6203,  6204,  6205,  6206,  6207,  6208, 10138, 10139, 10140,\n",
            "       10141, 10142, 10143, 10144, 10145, 10146, 10147, 10148, 10149,\n",
            "       10150, 10151, 10152, 10153, 10277, 10278, 10279, 10280, 10281,\n",
            "       10282, 10283, 10284, 10285, 10286, 10287, 10288, 10289, 10290,\n",
            "       10291, 10292, 10293, 10294, 10295, 10296, 10297, 10298, 10299,\n",
            "       10300, 10301, 10302, 10303, 10304, 10305, 10306, 10307, 10308,\n",
            "       10309, 10310, 10311, 10312, 10313, 10314, 10315, 10316, 10317,\n",
            "       10318, 10319, 10320, 10321, 10322, 10323, 10324, 10325, 10326,\n",
            "       10327, 10328, 10329, 10330, 10331, 10332, 10333, 10334, 10335,\n",
            "       10336, 10337, 10338, 10339, 10340, 10341, 10342, 10343, 10344,\n",
            "       10345, 10346, 10347, 10348, 10349, 10350, 10351, 10352, 10353,\n",
            "       10354, 10355, 10356, 10357, 10358, 10359, 10360, 10361, 10362,\n",
            "       10363, 10364, 10365, 10366, 10367, 10368, 10369, 10370, 10371,\n",
            "       10372, 10373, 10374, 10375, 10376, 10377, 10378, 10379, 10380,\n",
            "       10381, 10382, 10383, 10384, 10385, 10386, 10387, 10388, 10389,\n",
            "       10390, 10391, 10392, 10393, 10394, 10395, 10396, 10397, 10398,\n",
            "       10399, 11376, 11377, 11378, 11379, 11380, 11381, 11382, 11383,\n",
            "       11384, 11385, 11386, 11387, 11388, 11389, 11390, 11391, 11392,\n",
            "       11393, 11394, 11395, 11396, 11397, 11398, 11399, 11400, 11401,\n",
            "       11402, 11403, 11404, 11405, 11406, 11407, 11408, 11409, 11410,\n",
            "       11411, 11412, 11413, 11414, 11415, 11416, 11417, 11418, 11419,\n",
            "       11420, 11421, 11422, 11423, 11424, 11425, 11426, 11427, 11428,\n",
            "       11429, 11430, 11431, 12418, 12419, 12420, 12421, 12422, 12423,\n",
            "       12424, 12425, 12426, 12427, 12428, 12429, 12430, 12431, 12432,\n",
            "       12433, 12434, 12435, 12436, 12437, 12438, 12439, 12440, 12441,\n",
            "       12442, 12443, 12444, 12445, 12446, 12447, 12448, 12449, 12450,\n",
            "       12451, 12452, 12453, 12454, 12455, 12456, 12457, 12458, 12459,\n",
            "       12460, 12461, 12462, 12463, 12464, 12465, 12466, 12467, 12468,\n",
            "       12469, 12470, 12471, 12472, 12473, 12474, 12475, 12476, 12477,\n",
            "       12478, 12479, 12480, 12481, 12482, 12483, 12484, 12485, 12486,\n",
            "       12487, 12488, 12489, 12490, 12491, 12492, 12493, 12494, 12495,\n",
            "       12496, 12497, 12498, 12499, 12500, 12501, 12502, 12503, 12504,\n",
            "       12505, 12506, 12507, 12508, 12509, 12510, 12511, 12512, 12513,\n",
            "       12514, 12515, 12516, 12517, 12518, 12519, 12520, 12521, 12522,\n",
            "       12523, 12524, 12525, 12526, 12527, 12528, 12529, 12530, 12531,\n",
            "       12532, 13114, 13114, 13114, 13114, 13114, 13114, 13114, 13114]), array([4, 4, 4, 4, 4, 4, 4, 4, 4, 4, 4, 4, 4, 4, 4, 4, 4, 4, 4, 4, 4, 4,\n",
            "       4, 4, 4, 4, 4, 4, 4, 4, 4, 4, 4, 4, 4, 4, 4, 4, 4, 4, 4, 4, 4, 4,\n",
            "       4, 4, 4, 4, 4, 4, 4, 4, 4, 4, 4, 4, 4, 4, 4, 4, 4, 4, 4, 4, 4, 4,\n",
            "       4, 4, 4, 4, 4, 4, 4, 4, 4, 4, 4, 4, 4, 4, 4, 4, 4, 4, 4, 4, 4, 4,\n",
            "       4, 4, 4, 4, 4, 4, 4, 4, 4, 4, 4, 4, 4, 4, 4, 4, 4, 4, 4, 4, 4, 4,\n",
            "       4, 4, 4, 4, 4, 4, 4, 4, 4, 4, 4, 4, 4, 4, 4, 4, 4, 4, 4, 4, 4, 4,\n",
            "       4, 4, 4, 4, 4, 4, 4, 4, 4, 4, 4, 4, 4, 4, 4, 4, 4, 4, 4, 4, 4, 4,\n",
            "       4, 4, 4, 4, 4, 4, 4, 4, 4, 4, 4, 4, 4, 4, 4, 4, 4, 4, 4, 4, 4, 4,\n",
            "       4, 4, 4, 4, 4, 4, 4, 4, 4, 4, 4, 4, 4, 4, 4, 4, 4, 4, 4, 4, 4, 4,\n",
            "       4, 4, 4, 4, 4, 4, 4, 4, 4, 4, 4, 4, 4, 4, 4, 4, 4, 4, 4, 4, 4, 4,\n",
            "       4, 4, 4, 4, 4, 4, 4, 4, 4, 4, 4, 4, 4, 4, 4, 4, 4, 4, 4, 4, 4, 4,\n",
            "       4, 4, 4, 4, 4, 4, 4, 4, 4, 4, 4, 4, 4, 4, 4, 4, 4, 4, 4, 4, 4, 4,\n",
            "       4, 4, 4, 4, 4, 4, 4, 4, 4, 4, 4, 4, 4, 4, 4, 4, 4, 4, 4, 4, 4, 4,\n",
            "       4, 4, 4, 4, 4, 4, 4, 4, 4, 4, 4, 4, 4, 4, 4, 4, 4, 4, 4, 4, 4, 4,\n",
            "       4, 4, 4, 4, 4, 4, 4, 4, 4, 4, 4, 4, 4, 4, 4, 4, 4, 4, 4, 4, 4, 4,\n",
            "       4, 4, 4, 4, 4, 4, 4, 4, 4, 4, 4, 4, 4, 4, 4, 4, 4, 4, 4, 4, 4, 4,\n",
            "       4, 4, 4, 4, 4, 4, 4, 4, 4, 4, 4, 4, 4, 4, 4, 4, 4, 4, 4, 4, 4, 4,\n",
            "       4, 4, 4, 4, 4, 4, 4, 4, 4, 4, 4, 4, 4, 4, 4, 4, 4, 4, 4, 4, 4, 4,\n",
            "       4, 4, 4, 4, 4, 4, 4, 4, 4, 4, 4, 4, 4, 4, 4, 4, 4, 4, 4, 4, 4, 4,\n",
            "       4, 4, 4, 4, 4, 4, 4, 4, 4, 4, 4, 4, 4, 4, 4, 4, 4, 4, 4, 4, 4, 4,\n",
            "       4, 4, 4, 4, 4, 4, 4, 4, 4, 4, 4, 4, 4, 4, 4, 4, 4, 4, 4, 4, 4, 4,\n",
            "       4, 4, 4, 4, 4, 4, 4, 4, 4, 4, 4, 4, 4, 4, 4, 4, 4, 4, 4, 4, 4, 4,\n",
            "       4, 4, 4, 4, 4, 4, 4, 4, 4, 4, 4, 4, 4, 4, 4, 4, 4, 4, 4, 4, 4, 4,\n",
            "       4, 4, 4, 4, 4, 4, 4, 4, 4, 4, 4, 4, 4, 4, 4, 4, 4, 4, 4, 4, 4, 4,\n",
            "       4, 4, 4, 4, 4, 4, 4, 4, 4, 4, 4, 4, 4, 4, 4, 4, 4, 4, 4, 4, 4, 4,\n",
            "       4, 4, 4, 4, 4, 4, 4, 4, 4, 4, 4, 4, 4, 4, 4, 4, 4, 4, 4, 4, 4, 4,\n",
            "       4, 4, 4, 4, 4, 4, 4, 4, 4, 4, 4, 4, 4, 4, 4, 4, 4, 4, 4, 4, 4, 4,\n",
            "       4, 4, 4, 4, 4, 4, 4, 4, 4, 4, 4, 4, 4, 4, 4, 4, 4, 4, 4, 4, 4, 4,\n",
            "       4, 4, 4, 4, 4, 4, 4, 4, 4, 4, 4, 4, 4, 4, 4, 4, 4, 4, 4, 4, 4, 4,\n",
            "       4, 4, 4, 4, 4, 4, 4, 4, 4, 4, 4, 4, 4, 4, 4, 4, 4, 4, 4, 4, 4, 4,\n",
            "       4, 4, 4, 4, 4, 4, 4, 4, 4, 4, 4, 4, 4, 4, 4, 4, 4, 4, 4, 4, 4, 4,\n",
            "       4, 4, 4, 4, 4, 4, 4, 4, 4, 4, 4, 4, 4, 4, 4, 4, 4, 4, 4, 4, 4, 2,\n",
            "       3, 4, 5, 6, 7, 8, 9]))\n",
            "Categorical data is ['matchId', 'tossWinner', 'battingTeam', 'bowlingTeam', 'city', 'venue'] \n",
            "Are there any duplicate values? False\n"
          ]
        }
      ]
    },
    {
      "cell_type": "code",
      "source": [
        "print(innings1_df['tossWinner'].value_counts(dropna=False))  #Inspecting unique values"
      ],
      "metadata": {
        "colab": {
          "base_uri": "https://localhost:8080/"
        },
        "id": "IGEGt__s3F8L",
        "outputId": "167c7a79-5fbf-4be5-91a9-5b5624f011de"
      },
      "execution_count": 9,
      "outputs": [
        {
          "output_type": "stream",
          "name": "stdout",
          "text": [
            "tossWinner\n",
            "Pakistan        2215\n",
            "Australia       1735\n",
            "India           1576\n",
            "England         1568\n",
            "South Africa    1225\n",
            "Sri Lanka        989\n",
            "New Zealand      729\n",
            "NaN              704\n",
            "Afghanistan      619\n",
            "West Indies      510\n",
            "Ireland          496\n",
            "Bangladesh       255\n",
            "Netherlands      248\n",
            "Zimbabwe         246\n",
            "Name: count, dtype: int64\n"
          ]
        }
      ]
    },
    {
      "cell_type": "markdown",
      "source": [
        "It appears that we have null values in the tosswinner column as shown by .info and .value_counts, they will need to be dealt with by dropping them."
      ],
      "metadata": {
        "id": "Y2dOmeYQ28qC"
      }
    },
    {
      "cell_type": "code",
      "source": [
        "innings1_df_cleaned = innings1_df.dropna()"
      ],
      "metadata": {
        "id": "OyDQ9qQp3V64"
      },
      "execution_count": 10,
      "outputs": []
    },
    {
      "cell_type": "code",
      "source": [
        "print(innings1_df_cleaned.info())\n",
        "print(innings1_df_cleaned.isnull().sum())#Verifying no nulls remain"
      ],
      "metadata": {
        "colab": {
          "base_uri": "https://localhost:8080/"
        },
        "id": "D0HbXYtS3bNx",
        "outputId": "2ed2391b-1f8b-4b00-e3c0-c3f3f8a681f3"
      },
      "execution_count": 11,
      "outputs": [
        {
          "output_type": "stream",
          "name": "stdout",
          "text": [
            "<class 'pandas.core.frame.DataFrame'>\n",
            "Index: 12411 entries, 0 to 13113\n",
            "Data columns (total 10 columns):\n",
            " #   Column       Non-Null Count  Dtype  \n",
            "---  ------       --------------  -----  \n",
            " 0   Unnamed: 0   12411 non-null  int64  \n",
            " 1   matchId      12411 non-null  object \n",
            " 2   balls        12411 non-null  float64\n",
            " 3   runs         12411 non-null  float64\n",
            " 4   tossWinner   12411 non-null  object \n",
            " 5   battingTeam  12411 non-null  object \n",
            " 6   bowlingTeam  12411 non-null  object \n",
            " 7   player_out   12411 non-null  float64\n",
            " 8   city         12411 non-null  object \n",
            " 9   venue        12411 non-null  object \n",
            "dtypes: float64(3), int64(1), object(6)\n",
            "memory usage: 1.0+ MB\n",
            "None\n",
            "Unnamed: 0     0\n",
            "matchId        0\n",
            "balls          0\n",
            "runs           0\n",
            "tossWinner     0\n",
            "battingTeam    0\n",
            "bowlingTeam    0\n",
            "player_out     0\n",
            "city           0\n",
            "venue          0\n",
            "dtype: int64\n"
          ]
        }
      ]
    },
    {
      "cell_type": "markdown",
      "source": [
        "### Repeating steps for innings 2"
      ],
      "metadata": {
        "id": "VIVQiyZD3mZ9"
      }
    },
    {
      "cell_type": "code",
      "source": [
        "innings2_df = pd.read_csv('/content/2nd Innings T20.csv')"
      ],
      "metadata": {
        "id": "an9eFmXIvbZv"
      },
      "execution_count": 12,
      "outputs": []
    },
    {
      "cell_type": "code",
      "source": [
        "innings2_df.head()"
      ],
      "metadata": {
        "colab": {
          "base_uri": "https://localhost:8080/",
          "height": 206
        },
        "id": "46OQKvZm5EmK",
        "outputId": "74cee73b-6f67-4cd5-af06-a398a9cc7b96"
      },
      "execution_count": 13,
      "outputs": [
        {
          "output_type": "execute_result",
          "data": {
            "text/plain": [
              "   Unnamed: 0 matchId  balls  runs tossWinner battingTeam  bowlingTeam  \\\n",
              "0           0     5_2    0.1     0      India       India  West Indies   \n",
              "1           1     5_2    0.2     0      India       India  West Indies   \n",
              "2           2     5_2    0.3     1      India       India  West Indies   \n",
              "3           3     5_2    0.4     1      India       India  West Indies   \n",
              "4           4     5_2    0.5     0      India       India  West Indies   \n",
              "\n",
              "   player_out        city                                              venue  \n",
              "0         0.0  Lauderhill  Central Broward Regional Park Stadium Turf Ground  \n",
              "1         0.0  Lauderhill  Central Broward Regional Park Stadium Turf Ground  \n",
              "2         0.0  Lauderhill  Central Broward Regional Park Stadium Turf Ground  \n",
              "3         0.0  Lauderhill  Central Broward Regional Park Stadium Turf Ground  \n",
              "4         0.0  Lauderhill  Central Broward Regional Park Stadium Turf Ground  "
            ],
            "text/html": [
              "\n",
              "  <div id=\"df-b8c30135-ef81-44fe-bdb8-f6de95012682\" class=\"colab-df-container\">\n",
              "    <div>\n",
              "<style scoped>\n",
              "    .dataframe tbody tr th:only-of-type {\n",
              "        vertical-align: middle;\n",
              "    }\n",
              "\n",
              "    .dataframe tbody tr th {\n",
              "        vertical-align: top;\n",
              "    }\n",
              "\n",
              "    .dataframe thead th {\n",
              "        text-align: right;\n",
              "    }\n",
              "</style>\n",
              "<table border=\"1\" class=\"dataframe\">\n",
              "  <thead>\n",
              "    <tr style=\"text-align: right;\">\n",
              "      <th></th>\n",
              "      <th>Unnamed: 0</th>\n",
              "      <th>matchId</th>\n",
              "      <th>balls</th>\n",
              "      <th>runs</th>\n",
              "      <th>tossWinner</th>\n",
              "      <th>battingTeam</th>\n",
              "      <th>bowlingTeam</th>\n",
              "      <th>player_out</th>\n",
              "      <th>city</th>\n",
              "      <th>venue</th>\n",
              "    </tr>\n",
              "  </thead>\n",
              "  <tbody>\n",
              "    <tr>\n",
              "      <th>0</th>\n",
              "      <td>0</td>\n",
              "      <td>5_2</td>\n",
              "      <td>0.1</td>\n",
              "      <td>0</td>\n",
              "      <td>India</td>\n",
              "      <td>India</td>\n",
              "      <td>West Indies</td>\n",
              "      <td>0.0</td>\n",
              "      <td>Lauderhill</td>\n",
              "      <td>Central Broward Regional Park Stadium Turf Ground</td>\n",
              "    </tr>\n",
              "    <tr>\n",
              "      <th>1</th>\n",
              "      <td>1</td>\n",
              "      <td>5_2</td>\n",
              "      <td>0.2</td>\n",
              "      <td>0</td>\n",
              "      <td>India</td>\n",
              "      <td>India</td>\n",
              "      <td>West Indies</td>\n",
              "      <td>0.0</td>\n",
              "      <td>Lauderhill</td>\n",
              "      <td>Central Broward Regional Park Stadium Turf Ground</td>\n",
              "    </tr>\n",
              "    <tr>\n",
              "      <th>2</th>\n",
              "      <td>2</td>\n",
              "      <td>5_2</td>\n",
              "      <td>0.3</td>\n",
              "      <td>1</td>\n",
              "      <td>India</td>\n",
              "      <td>India</td>\n",
              "      <td>West Indies</td>\n",
              "      <td>0.0</td>\n",
              "      <td>Lauderhill</td>\n",
              "      <td>Central Broward Regional Park Stadium Turf Ground</td>\n",
              "    </tr>\n",
              "    <tr>\n",
              "      <th>3</th>\n",
              "      <td>3</td>\n",
              "      <td>5_2</td>\n",
              "      <td>0.4</td>\n",
              "      <td>1</td>\n",
              "      <td>India</td>\n",
              "      <td>India</td>\n",
              "      <td>West Indies</td>\n",
              "      <td>0.0</td>\n",
              "      <td>Lauderhill</td>\n",
              "      <td>Central Broward Regional Park Stadium Turf Ground</td>\n",
              "    </tr>\n",
              "    <tr>\n",
              "      <th>4</th>\n",
              "      <td>4</td>\n",
              "      <td>5_2</td>\n",
              "      <td>0.5</td>\n",
              "      <td>0</td>\n",
              "      <td>India</td>\n",
              "      <td>India</td>\n",
              "      <td>West Indies</td>\n",
              "      <td>0.0</td>\n",
              "      <td>Lauderhill</td>\n",
              "      <td>Central Broward Regional Park Stadium Turf Ground</td>\n",
              "    </tr>\n",
              "  </tbody>\n",
              "</table>\n",
              "</div>\n",
              "    <div class=\"colab-df-buttons\">\n",
              "\n",
              "  <div class=\"colab-df-container\">\n",
              "    <button class=\"colab-df-convert\" onclick=\"convertToInteractive('df-b8c30135-ef81-44fe-bdb8-f6de95012682')\"\n",
              "            title=\"Convert this dataframe to an interactive table.\"\n",
              "            style=\"display:none;\">\n",
              "\n",
              "  <svg xmlns=\"http://www.w3.org/2000/svg\" height=\"24px\" viewBox=\"0 -960 960 960\">\n",
              "    <path d=\"M120-120v-720h720v720H120Zm60-500h600v-160H180v160Zm220 220h160v-160H400v160Zm0 220h160v-160H400v160ZM180-400h160v-160H180v160Zm440 0h160v-160H620v160ZM180-180h160v-160H180v160Zm440 0h160v-160H620v160Z\"/>\n",
              "  </svg>\n",
              "    </button>\n",
              "\n",
              "  <style>\n",
              "    .colab-df-container {\n",
              "      display:flex;\n",
              "      gap: 12px;\n",
              "    }\n",
              "\n",
              "    .colab-df-convert {\n",
              "      background-color: #E8F0FE;\n",
              "      border: none;\n",
              "      border-radius: 50%;\n",
              "      cursor: pointer;\n",
              "      display: none;\n",
              "      fill: #1967D2;\n",
              "      height: 32px;\n",
              "      padding: 0 0 0 0;\n",
              "      width: 32px;\n",
              "    }\n",
              "\n",
              "    .colab-df-convert:hover {\n",
              "      background-color: #E2EBFA;\n",
              "      box-shadow: 0px 1px 2px rgba(60, 64, 67, 0.3), 0px 1px 3px 1px rgba(60, 64, 67, 0.15);\n",
              "      fill: #174EA6;\n",
              "    }\n",
              "\n",
              "    .colab-df-buttons div {\n",
              "      margin-bottom: 4px;\n",
              "    }\n",
              "\n",
              "    [theme=dark] .colab-df-convert {\n",
              "      background-color: #3B4455;\n",
              "      fill: #D2E3FC;\n",
              "    }\n",
              "\n",
              "    [theme=dark] .colab-df-convert:hover {\n",
              "      background-color: #434B5C;\n",
              "      box-shadow: 0px 1px 3px 1px rgba(0, 0, 0, 0.15);\n",
              "      filter: drop-shadow(0px 1px 2px rgba(0, 0, 0, 0.3));\n",
              "      fill: #FFFFFF;\n",
              "    }\n",
              "  </style>\n",
              "\n",
              "    <script>\n",
              "      const buttonEl =\n",
              "        document.querySelector('#df-b8c30135-ef81-44fe-bdb8-f6de95012682 button.colab-df-convert');\n",
              "      buttonEl.style.display =\n",
              "        google.colab.kernel.accessAllowed ? 'block' : 'none';\n",
              "\n",
              "      async function convertToInteractive(key) {\n",
              "        const element = document.querySelector('#df-b8c30135-ef81-44fe-bdb8-f6de95012682');\n",
              "        const dataTable =\n",
              "          await google.colab.kernel.invokeFunction('convertToInteractive',\n",
              "                                                    [key], {});\n",
              "        if (!dataTable) return;\n",
              "\n",
              "        const docLinkHtml = 'Like what you see? Visit the ' +\n",
              "          '<a target=\"_blank\" href=https://colab.research.google.com/notebooks/data_table.ipynb>data table notebook</a>'\n",
              "          + ' to learn more about interactive tables.';\n",
              "        element.innerHTML = '';\n",
              "        dataTable['output_type'] = 'display_data';\n",
              "        await google.colab.output.renderOutput(dataTable, element);\n",
              "        const docLink = document.createElement('div');\n",
              "        docLink.innerHTML = docLinkHtml;\n",
              "        element.appendChild(docLink);\n",
              "      }\n",
              "    </script>\n",
              "  </div>\n",
              "\n",
              "\n",
              "<div id=\"df-0d1817d6-2809-4cb9-9c36-be24b295ee55\">\n",
              "  <button class=\"colab-df-quickchart\" onclick=\"quickchart('df-0d1817d6-2809-4cb9-9c36-be24b295ee55')\"\n",
              "            title=\"Suggest charts\"\n",
              "            style=\"display:none;\">\n",
              "\n",
              "<svg xmlns=\"http://www.w3.org/2000/svg\" height=\"24px\"viewBox=\"0 0 24 24\"\n",
              "     width=\"24px\">\n",
              "    <g>\n",
              "        <path d=\"M19 3H5c-1.1 0-2 .9-2 2v14c0 1.1.9 2 2 2h14c1.1 0 2-.9 2-2V5c0-1.1-.9-2-2-2zM9 17H7v-7h2v7zm4 0h-2V7h2v10zm4 0h-2v-4h2v4z\"/>\n",
              "    </g>\n",
              "</svg>\n",
              "  </button>\n",
              "\n",
              "<style>\n",
              "  .colab-df-quickchart {\n",
              "      --bg-color: #E8F0FE;\n",
              "      --fill-color: #1967D2;\n",
              "      --hover-bg-color: #E2EBFA;\n",
              "      --hover-fill-color: #174EA6;\n",
              "      --disabled-fill-color: #AAA;\n",
              "      --disabled-bg-color: #DDD;\n",
              "  }\n",
              "\n",
              "  [theme=dark] .colab-df-quickchart {\n",
              "      --bg-color: #3B4455;\n",
              "      --fill-color: #D2E3FC;\n",
              "      --hover-bg-color: #434B5C;\n",
              "      --hover-fill-color: #FFFFFF;\n",
              "      --disabled-bg-color: #3B4455;\n",
              "      --disabled-fill-color: #666;\n",
              "  }\n",
              "\n",
              "  .colab-df-quickchart {\n",
              "    background-color: var(--bg-color);\n",
              "    border: none;\n",
              "    border-radius: 50%;\n",
              "    cursor: pointer;\n",
              "    display: none;\n",
              "    fill: var(--fill-color);\n",
              "    height: 32px;\n",
              "    padding: 0;\n",
              "    width: 32px;\n",
              "  }\n",
              "\n",
              "  .colab-df-quickchart:hover {\n",
              "    background-color: var(--hover-bg-color);\n",
              "    box-shadow: 0 1px 2px rgba(60, 64, 67, 0.3), 0 1px 3px 1px rgba(60, 64, 67, 0.15);\n",
              "    fill: var(--button-hover-fill-color);\n",
              "  }\n",
              "\n",
              "  .colab-df-quickchart-complete:disabled,\n",
              "  .colab-df-quickchart-complete:disabled:hover {\n",
              "    background-color: var(--disabled-bg-color);\n",
              "    fill: var(--disabled-fill-color);\n",
              "    box-shadow: none;\n",
              "  }\n",
              "\n",
              "  .colab-df-spinner {\n",
              "    border: 2px solid var(--fill-color);\n",
              "    border-color: transparent;\n",
              "    border-bottom-color: var(--fill-color);\n",
              "    animation:\n",
              "      spin 1s steps(1) infinite;\n",
              "  }\n",
              "\n",
              "  @keyframes spin {\n",
              "    0% {\n",
              "      border-color: transparent;\n",
              "      border-bottom-color: var(--fill-color);\n",
              "      border-left-color: var(--fill-color);\n",
              "    }\n",
              "    20% {\n",
              "      border-color: transparent;\n",
              "      border-left-color: var(--fill-color);\n",
              "      border-top-color: var(--fill-color);\n",
              "    }\n",
              "    30% {\n",
              "      border-color: transparent;\n",
              "      border-left-color: var(--fill-color);\n",
              "      border-top-color: var(--fill-color);\n",
              "      border-right-color: var(--fill-color);\n",
              "    }\n",
              "    40% {\n",
              "      border-color: transparent;\n",
              "      border-right-color: var(--fill-color);\n",
              "      border-top-color: var(--fill-color);\n",
              "    }\n",
              "    60% {\n",
              "      border-color: transparent;\n",
              "      border-right-color: var(--fill-color);\n",
              "    }\n",
              "    80% {\n",
              "      border-color: transparent;\n",
              "      border-right-color: var(--fill-color);\n",
              "      border-bottom-color: var(--fill-color);\n",
              "    }\n",
              "    90% {\n",
              "      border-color: transparent;\n",
              "      border-bottom-color: var(--fill-color);\n",
              "    }\n",
              "  }\n",
              "</style>\n",
              "\n",
              "  <script>\n",
              "    async function quickchart(key) {\n",
              "      const quickchartButtonEl =\n",
              "        document.querySelector('#' + key + ' button');\n",
              "      quickchartButtonEl.disabled = true;  // To prevent multiple clicks.\n",
              "      quickchartButtonEl.classList.add('colab-df-spinner');\n",
              "      try {\n",
              "        const charts = await google.colab.kernel.invokeFunction(\n",
              "            'suggestCharts', [key], {});\n",
              "      } catch (error) {\n",
              "        console.error('Error during call to suggestCharts:', error);\n",
              "      }\n",
              "      quickchartButtonEl.classList.remove('colab-df-spinner');\n",
              "      quickchartButtonEl.classList.add('colab-df-quickchart-complete');\n",
              "    }\n",
              "    (() => {\n",
              "      let quickchartButtonEl =\n",
              "        document.querySelector('#df-0d1817d6-2809-4cb9-9c36-be24b295ee55 button');\n",
              "      quickchartButtonEl.style.display =\n",
              "        google.colab.kernel.accessAllowed ? 'block' : 'none';\n",
              "    })();\n",
              "  </script>\n",
              "</div>\n",
              "\n",
              "    </div>\n",
              "  </div>\n"
            ],
            "application/vnd.google.colaboratory.intrinsic+json": {
              "type": "dataframe",
              "variable_name": "innings2_df",
              "summary": "{\n  \"name\": \"innings2_df\",\n  \"rows\": 13067,\n  \"fields\": [\n    {\n      \"column\": \"Unnamed: 0\",\n      \"properties\": {\n        \"dtype\": \"number\",\n        \"std\": 33,\n        \"min\": 0,\n        \"max\": 129,\n        \"num_unique_values\": 130,\n        \"samples\": [\n          55,\n          40,\n          19\n        ],\n        \"semantic_type\": \"\",\n        \"description\": \"\"\n      }\n    },\n    {\n      \"column\": \"matchId\",\n      \"properties\": {\n        \"dtype\": \"category\",\n        \"num_unique_values\": 120,\n        \"samples\": [\n          \"115_2\",\n          \"120_2\",\n          \"11_2\"\n        ],\n        \"semantic_type\": \"\",\n        \"description\": \"\"\n      }\n    },\n    {\n      \"column\": \"balls\",\n      \"properties\": {\n        \"dtype\": \"number\",\n        \"std\": 5.48611252800211,\n        \"min\": 0.1,\n        \"max\": 19.8,\n        \"num_unique_values\": 166,\n        \"samples\": [\n          15.6,\n          7.8,\n          12.4\n        ],\n        \"semantic_type\": \"\",\n        \"description\": \"\"\n      }\n    },\n    {\n      \"column\": \"runs\",\n      \"properties\": {\n        \"dtype\": \"number\",\n        \"std\": 1,\n        \"min\": 0,\n        \"max\": 7,\n        \"num_unique_values\": 8,\n        \"samples\": [\n          1,\n          3,\n          0\n        ],\n        \"semantic_type\": \"\",\n        \"description\": \"\"\n      }\n    },\n    {\n      \"column\": \"tossWinner\",\n      \"properties\": {\n        \"dtype\": \"category\",\n        \"num_unique_values\": 13,\n        \"samples\": [\n          \"Netherlands\",\n          \"Bangladesh\",\n          \"India\"\n        ],\n        \"semantic_type\": \"\",\n        \"description\": \"\"\n      }\n    },\n    {\n      \"column\": \"battingTeam\",\n      \"properties\": {\n        \"dtype\": \"category\",\n        \"num_unique_values\": 13,\n        \"samples\": [\n          \"Pakistan\",\n          \"West Indies\",\n          \"India\"\n        ],\n        \"semantic_type\": \"\",\n        \"description\": \"\"\n      }\n    },\n    {\n      \"column\": \"bowlingTeam\",\n      \"properties\": {\n        \"dtype\": \"category\",\n        \"num_unique_values\": 13,\n        \"samples\": [\n          \"Bangladesh\",\n          \"Ireland\",\n          \"West Indies\"\n        ],\n        \"semantic_type\": \"\",\n        \"description\": \"\"\n      }\n    },\n    {\n      \"column\": \"player_out\",\n      \"properties\": {\n        \"dtype\": \"number\",\n        \"std\": 0.22908668944460947,\n        \"min\": 0.0,\n        \"max\": 1.0,\n        \"num_unique_values\": 2,\n        \"samples\": [\n          1.0,\n          0.0\n        ],\n        \"semantic_type\": \"\",\n        \"description\": \"\"\n      }\n    },\n    {\n      \"column\": \"city\",\n      \"properties\": {\n        \"dtype\": \"category\",\n        \"num_unique_values\": 60,\n        \"samples\": [\n          \"Lauderhill\",\n          \"Dubai\"\n        ],\n        \"semantic_type\": \"\",\n        \"description\": \"\"\n      }\n    },\n    {\n      \"column\": \"venue\",\n      \"properties\": {\n        \"dtype\": \"category\",\n        \"num_unique_values\": 68,\n        \"samples\": [\n          \"Kensington Oval, Bridgetown\",\n          \"Sheikh Zayed Stadium\"\n        ],\n        \"semantic_type\": \"\",\n        \"description\": \"\"\n      }\n    }\n  ]\n}"
            }
          },
          "metadata": {},
          "execution_count": 13
        }
      ]
    },
    {
      "cell_type": "code",
      "source": [
        "innings2_df.info()"
      ],
      "metadata": {
        "colab": {
          "base_uri": "https://localhost:8080/"
        },
        "id": "9GjIPsoV5FyM",
        "outputId": "c3780531-e8af-4f51-fd5d-f713d92b0208"
      },
      "execution_count": 14,
      "outputs": [
        {
          "output_type": "stream",
          "name": "stdout",
          "text": [
            "<class 'pandas.core.frame.DataFrame'>\n",
            "RangeIndex: 13067 entries, 0 to 13066\n",
            "Data columns (total 10 columns):\n",
            " #   Column       Non-Null Count  Dtype  \n",
            "---  ------       --------------  -----  \n",
            " 0   Unnamed: 0   13067 non-null  int64  \n",
            " 1   matchId      13067 non-null  object \n",
            " 2   balls        13067 non-null  float64\n",
            " 3   runs         13067 non-null  int64  \n",
            " 4   tossWinner   12719 non-null  object \n",
            " 5   battingTeam  13067 non-null  object \n",
            " 6   bowlingTeam  13067 non-null  object \n",
            " 7   player_out   13066 non-null  float64\n",
            " 8   city         13066 non-null  object \n",
            " 9   venue        13066 non-null  object \n",
            "dtypes: float64(2), int64(2), object(6)\n",
            "memory usage: 1021.0+ KB\n"
          ]
        }
      ]
    },
    {
      "cell_type": "code",
      "source": [
        "innings2_df.describe()"
      ],
      "metadata": {
        "colab": {
          "base_uri": "https://localhost:8080/",
          "height": 300
        },
        "id": "Mir2PijM5NGX",
        "outputId": "2423b8c2-eaa1-475c-a09a-0a264b2ad153"
      },
      "execution_count": 15,
      "outputs": [
        {
          "output_type": "execute_result",
          "data": {
            "text/plain": [
              "         Unnamed: 0         balls          runs    player_out\n",
              "count  13067.000000  13067.000000  13067.000000  13066.000000\n",
              "mean      56.317058      9.005809      1.241907      0.055564\n",
              "std       33.999441      5.486113      1.563893      0.229087\n",
              "min        0.000000      0.100000      0.000000      0.000000\n",
              "25%       27.000000      4.300000      0.000000      0.000000\n",
              "50%       55.000000      8.600000      1.000000      0.000000\n",
              "75%       84.000000     13.500000      1.000000      0.000000\n",
              "max      129.000000     19.800000      7.000000      1.000000"
            ],
            "text/html": [
              "\n",
              "  <div id=\"df-512a9c13-ce4a-4f12-9e26-502df1d4ff05\" class=\"colab-df-container\">\n",
              "    <div>\n",
              "<style scoped>\n",
              "    .dataframe tbody tr th:only-of-type {\n",
              "        vertical-align: middle;\n",
              "    }\n",
              "\n",
              "    .dataframe tbody tr th {\n",
              "        vertical-align: top;\n",
              "    }\n",
              "\n",
              "    .dataframe thead th {\n",
              "        text-align: right;\n",
              "    }\n",
              "</style>\n",
              "<table border=\"1\" class=\"dataframe\">\n",
              "  <thead>\n",
              "    <tr style=\"text-align: right;\">\n",
              "      <th></th>\n",
              "      <th>Unnamed: 0</th>\n",
              "      <th>balls</th>\n",
              "      <th>runs</th>\n",
              "      <th>player_out</th>\n",
              "    </tr>\n",
              "  </thead>\n",
              "  <tbody>\n",
              "    <tr>\n",
              "      <th>count</th>\n",
              "      <td>13067.000000</td>\n",
              "      <td>13067.000000</td>\n",
              "      <td>13067.000000</td>\n",
              "      <td>13066.000000</td>\n",
              "    </tr>\n",
              "    <tr>\n",
              "      <th>mean</th>\n",
              "      <td>56.317058</td>\n",
              "      <td>9.005809</td>\n",
              "      <td>1.241907</td>\n",
              "      <td>0.055564</td>\n",
              "    </tr>\n",
              "    <tr>\n",
              "      <th>std</th>\n",
              "      <td>33.999441</td>\n",
              "      <td>5.486113</td>\n",
              "      <td>1.563893</td>\n",
              "      <td>0.229087</td>\n",
              "    </tr>\n",
              "    <tr>\n",
              "      <th>min</th>\n",
              "      <td>0.000000</td>\n",
              "      <td>0.100000</td>\n",
              "      <td>0.000000</td>\n",
              "      <td>0.000000</td>\n",
              "    </tr>\n",
              "    <tr>\n",
              "      <th>25%</th>\n",
              "      <td>27.000000</td>\n",
              "      <td>4.300000</td>\n",
              "      <td>0.000000</td>\n",
              "      <td>0.000000</td>\n",
              "    </tr>\n",
              "    <tr>\n",
              "      <th>50%</th>\n",
              "      <td>55.000000</td>\n",
              "      <td>8.600000</td>\n",
              "      <td>1.000000</td>\n",
              "      <td>0.000000</td>\n",
              "    </tr>\n",
              "    <tr>\n",
              "      <th>75%</th>\n",
              "      <td>84.000000</td>\n",
              "      <td>13.500000</td>\n",
              "      <td>1.000000</td>\n",
              "      <td>0.000000</td>\n",
              "    </tr>\n",
              "    <tr>\n",
              "      <th>max</th>\n",
              "      <td>129.000000</td>\n",
              "      <td>19.800000</td>\n",
              "      <td>7.000000</td>\n",
              "      <td>1.000000</td>\n",
              "    </tr>\n",
              "  </tbody>\n",
              "</table>\n",
              "</div>\n",
              "    <div class=\"colab-df-buttons\">\n",
              "\n",
              "  <div class=\"colab-df-container\">\n",
              "    <button class=\"colab-df-convert\" onclick=\"convertToInteractive('df-512a9c13-ce4a-4f12-9e26-502df1d4ff05')\"\n",
              "            title=\"Convert this dataframe to an interactive table.\"\n",
              "            style=\"display:none;\">\n",
              "\n",
              "  <svg xmlns=\"http://www.w3.org/2000/svg\" height=\"24px\" viewBox=\"0 -960 960 960\">\n",
              "    <path d=\"M120-120v-720h720v720H120Zm60-500h600v-160H180v160Zm220 220h160v-160H400v160Zm0 220h160v-160H400v160ZM180-400h160v-160H180v160Zm440 0h160v-160H620v160ZM180-180h160v-160H180v160Zm440 0h160v-160H620v160Z\"/>\n",
              "  </svg>\n",
              "    </button>\n",
              "\n",
              "  <style>\n",
              "    .colab-df-container {\n",
              "      display:flex;\n",
              "      gap: 12px;\n",
              "    }\n",
              "\n",
              "    .colab-df-convert {\n",
              "      background-color: #E8F0FE;\n",
              "      border: none;\n",
              "      border-radius: 50%;\n",
              "      cursor: pointer;\n",
              "      display: none;\n",
              "      fill: #1967D2;\n",
              "      height: 32px;\n",
              "      padding: 0 0 0 0;\n",
              "      width: 32px;\n",
              "    }\n",
              "\n",
              "    .colab-df-convert:hover {\n",
              "      background-color: #E2EBFA;\n",
              "      box-shadow: 0px 1px 2px rgba(60, 64, 67, 0.3), 0px 1px 3px 1px rgba(60, 64, 67, 0.15);\n",
              "      fill: #174EA6;\n",
              "    }\n",
              "\n",
              "    .colab-df-buttons div {\n",
              "      margin-bottom: 4px;\n",
              "    }\n",
              "\n",
              "    [theme=dark] .colab-df-convert {\n",
              "      background-color: #3B4455;\n",
              "      fill: #D2E3FC;\n",
              "    }\n",
              "\n",
              "    [theme=dark] .colab-df-convert:hover {\n",
              "      background-color: #434B5C;\n",
              "      box-shadow: 0px 1px 3px 1px rgba(0, 0, 0, 0.15);\n",
              "      filter: drop-shadow(0px 1px 2px rgba(0, 0, 0, 0.3));\n",
              "      fill: #FFFFFF;\n",
              "    }\n",
              "  </style>\n",
              "\n",
              "    <script>\n",
              "      const buttonEl =\n",
              "        document.querySelector('#df-512a9c13-ce4a-4f12-9e26-502df1d4ff05 button.colab-df-convert');\n",
              "      buttonEl.style.display =\n",
              "        google.colab.kernel.accessAllowed ? 'block' : 'none';\n",
              "\n",
              "      async function convertToInteractive(key) {\n",
              "        const element = document.querySelector('#df-512a9c13-ce4a-4f12-9e26-502df1d4ff05');\n",
              "        const dataTable =\n",
              "          await google.colab.kernel.invokeFunction('convertToInteractive',\n",
              "                                                    [key], {});\n",
              "        if (!dataTable) return;\n",
              "\n",
              "        const docLinkHtml = 'Like what you see? Visit the ' +\n",
              "          '<a target=\"_blank\" href=https://colab.research.google.com/notebooks/data_table.ipynb>data table notebook</a>'\n",
              "          + ' to learn more about interactive tables.';\n",
              "        element.innerHTML = '';\n",
              "        dataTable['output_type'] = 'display_data';\n",
              "        await google.colab.output.renderOutput(dataTable, element);\n",
              "        const docLink = document.createElement('div');\n",
              "        docLink.innerHTML = docLinkHtml;\n",
              "        element.appendChild(docLink);\n",
              "      }\n",
              "    </script>\n",
              "  </div>\n",
              "\n",
              "\n",
              "<div id=\"df-e8081e91-d9f8-4ec6-84db-f8dc72de1f78\">\n",
              "  <button class=\"colab-df-quickchart\" onclick=\"quickchart('df-e8081e91-d9f8-4ec6-84db-f8dc72de1f78')\"\n",
              "            title=\"Suggest charts\"\n",
              "            style=\"display:none;\">\n",
              "\n",
              "<svg xmlns=\"http://www.w3.org/2000/svg\" height=\"24px\"viewBox=\"0 0 24 24\"\n",
              "     width=\"24px\">\n",
              "    <g>\n",
              "        <path d=\"M19 3H5c-1.1 0-2 .9-2 2v14c0 1.1.9 2 2 2h14c1.1 0 2-.9 2-2V5c0-1.1-.9-2-2-2zM9 17H7v-7h2v7zm4 0h-2V7h2v10zm4 0h-2v-4h2v4z\"/>\n",
              "    </g>\n",
              "</svg>\n",
              "  </button>\n",
              "\n",
              "<style>\n",
              "  .colab-df-quickchart {\n",
              "      --bg-color: #E8F0FE;\n",
              "      --fill-color: #1967D2;\n",
              "      --hover-bg-color: #E2EBFA;\n",
              "      --hover-fill-color: #174EA6;\n",
              "      --disabled-fill-color: #AAA;\n",
              "      --disabled-bg-color: #DDD;\n",
              "  }\n",
              "\n",
              "  [theme=dark] .colab-df-quickchart {\n",
              "      --bg-color: #3B4455;\n",
              "      --fill-color: #D2E3FC;\n",
              "      --hover-bg-color: #434B5C;\n",
              "      --hover-fill-color: #FFFFFF;\n",
              "      --disabled-bg-color: #3B4455;\n",
              "      --disabled-fill-color: #666;\n",
              "  }\n",
              "\n",
              "  .colab-df-quickchart {\n",
              "    background-color: var(--bg-color);\n",
              "    border: none;\n",
              "    border-radius: 50%;\n",
              "    cursor: pointer;\n",
              "    display: none;\n",
              "    fill: var(--fill-color);\n",
              "    height: 32px;\n",
              "    padding: 0;\n",
              "    width: 32px;\n",
              "  }\n",
              "\n",
              "  .colab-df-quickchart:hover {\n",
              "    background-color: var(--hover-bg-color);\n",
              "    box-shadow: 0 1px 2px rgba(60, 64, 67, 0.3), 0 1px 3px 1px rgba(60, 64, 67, 0.15);\n",
              "    fill: var(--button-hover-fill-color);\n",
              "  }\n",
              "\n",
              "  .colab-df-quickchart-complete:disabled,\n",
              "  .colab-df-quickchart-complete:disabled:hover {\n",
              "    background-color: var(--disabled-bg-color);\n",
              "    fill: var(--disabled-fill-color);\n",
              "    box-shadow: none;\n",
              "  }\n",
              "\n",
              "  .colab-df-spinner {\n",
              "    border: 2px solid var(--fill-color);\n",
              "    border-color: transparent;\n",
              "    border-bottom-color: var(--fill-color);\n",
              "    animation:\n",
              "      spin 1s steps(1) infinite;\n",
              "  }\n",
              "\n",
              "  @keyframes spin {\n",
              "    0% {\n",
              "      border-color: transparent;\n",
              "      border-bottom-color: var(--fill-color);\n",
              "      border-left-color: var(--fill-color);\n",
              "    }\n",
              "    20% {\n",
              "      border-color: transparent;\n",
              "      border-left-color: var(--fill-color);\n",
              "      border-top-color: var(--fill-color);\n",
              "    }\n",
              "    30% {\n",
              "      border-color: transparent;\n",
              "      border-left-color: var(--fill-color);\n",
              "      border-top-color: var(--fill-color);\n",
              "      border-right-color: var(--fill-color);\n",
              "    }\n",
              "    40% {\n",
              "      border-color: transparent;\n",
              "      border-right-color: var(--fill-color);\n",
              "      border-top-color: var(--fill-color);\n",
              "    }\n",
              "    60% {\n",
              "      border-color: transparent;\n",
              "      border-right-color: var(--fill-color);\n",
              "    }\n",
              "    80% {\n",
              "      border-color: transparent;\n",
              "      border-right-color: var(--fill-color);\n",
              "      border-bottom-color: var(--fill-color);\n",
              "    }\n",
              "    90% {\n",
              "      border-color: transparent;\n",
              "      border-bottom-color: var(--fill-color);\n",
              "    }\n",
              "  }\n",
              "</style>\n",
              "\n",
              "  <script>\n",
              "    async function quickchart(key) {\n",
              "      const quickchartButtonEl =\n",
              "        document.querySelector('#' + key + ' button');\n",
              "      quickchartButtonEl.disabled = true;  // To prevent multiple clicks.\n",
              "      quickchartButtonEl.classList.add('colab-df-spinner');\n",
              "      try {\n",
              "        const charts = await google.colab.kernel.invokeFunction(\n",
              "            'suggestCharts', [key], {});\n",
              "      } catch (error) {\n",
              "        console.error('Error during call to suggestCharts:', error);\n",
              "      }\n",
              "      quickchartButtonEl.classList.remove('colab-df-spinner');\n",
              "      quickchartButtonEl.classList.add('colab-df-quickchart-complete');\n",
              "    }\n",
              "    (() => {\n",
              "      let quickchartButtonEl =\n",
              "        document.querySelector('#df-e8081e91-d9f8-4ec6-84db-f8dc72de1f78 button');\n",
              "      quickchartButtonEl.style.display =\n",
              "        google.colab.kernel.accessAllowed ? 'block' : 'none';\n",
              "    })();\n",
              "  </script>\n",
              "</div>\n",
              "\n",
              "    </div>\n",
              "  </div>\n"
            ],
            "application/vnd.google.colaboratory.intrinsic+json": {
              "type": "dataframe",
              "summary": "{\n  \"name\": \"innings2_df\",\n  \"rows\": 8,\n  \"fields\": [\n    {\n      \"column\": \"Unnamed: 0\",\n      \"properties\": {\n        \"dtype\": \"number\",\n        \"std\": 4600.584825762436,\n        \"min\": 0.0,\n        \"max\": 13067.0,\n        \"num_unique_values\": 8,\n        \"samples\": [\n          56.317058238310246,\n          55.0,\n          13067.0\n        ],\n        \"semantic_type\": \"\",\n        \"description\": \"\"\n      }\n    },\n    {\n      \"column\": \"balls\",\n      \"properties\": {\n        \"dtype\": \"number\",\n        \"std\": 4616.815567059629,\n        \"min\": 0.1,\n        \"max\": 13067.0,\n        \"num_unique_values\": 8,\n        \"samples\": [\n          9.005808525292721,\n          8.6,\n          13067.0\n        ],\n        \"semantic_type\": \"\",\n        \"description\": \"\"\n      }\n    },\n    {\n      \"column\": \"runs\",\n      \"properties\": {\n        \"dtype\": \"number\",\n        \"std\": 4619.286414315791,\n        \"min\": 0.0,\n        \"max\": 13067.0,\n        \"num_unique_values\": 6,\n        \"samples\": [\n          13067.0,\n          1.2419070942067805,\n          7.0\n        ],\n        \"semantic_type\": \"\",\n        \"description\": \"\"\n      }\n    },\n    {\n      \"column\": \"player_out\",\n      \"properties\": {\n        \"dtype\": \"number\",\n        \"std\": 4619.4637295068615,\n        \"min\": 0.0,\n        \"max\": 13066.0,\n        \"num_unique_values\": 5,\n        \"samples\": [\n          0.05556405939078524,\n          1.0,\n          0.22908668944460947\n        ],\n        \"semantic_type\": \"\",\n        \"description\": \"\"\n      }\n    }\n  ]\n}"
            }
          },
          "metadata": {},
          "execution_count": 15
        }
      ]
    },
    {
      "cell_type": "code",
      "source": [
        "innings2_df.shape"
      ],
      "metadata": {
        "colab": {
          "base_uri": "https://localhost:8080/"
        },
        "id": "epyXSFrK5Oqa",
        "outputId": "62e9516c-995d-4318-9be1-8326be776acf"
      },
      "execution_count": 16,
      "outputs": [
        {
          "output_type": "execute_result",
          "data": {
            "text/plain": [
              "(13067, 10)"
            ]
          },
          "metadata": {},
          "execution_count": 16
        }
      ]
    },
    {
      "cell_type": "code",
      "source": [
        "#Checking for empty records\n",
        "print(f\"The empty records are {np.where(pd.isnull(innings2_df))}\")\n",
        "#Checking for categorical features\n",
        "print(f\"Categorical data is {innings2_df.select_dtypes(include=['object']).columns.tolist()} \")\n",
        "#Checking for duplicate values\n",
        "print(f\"Are there any duplicate values? {innings2_df.duplicated().any()}\")"
      ],
      "metadata": {
        "colab": {
          "base_uri": "https://localhost:8080/"
        },
        "id": "JW4A74z55V7k",
        "outputId": "d3a18d95-e5de-4409-ad30-8a370d1ddd5a"
      },
      "execution_count": 17,
      "outputs": [
        {
          "output_type": "stream",
          "name": "stdout",
          "text": [
            "The empty records are (array([ 1737,  1738,  1739,  1740,  1741,  1742,  1743,  1744,  1745,\n",
            "        1746,  1747,  1748,  4436,  4437,  4438,  4439,  4440,  4441,\n",
            "        4442,  4443,  4444,  4445,  4446,  4447,  4448,  4449,  4450,\n",
            "        4451,  4452,  4453,  4454,  4455,  4456,  4457,  4458,  4459,\n",
            "        4460,  4461,  4462,  4463,  4464,  4465,  4466,  4467,  4468,\n",
            "        4469,  4470,  4471,  4472,  4473,  4474,  4475,  4476,  4477,\n",
            "        4478,  4479,  4480,  4481,  4482,  4483,  4484,  4485,  4486,\n",
            "        4487,  4488,  4489,  4490,  4491,  4492,  4493,  4494,  4495,\n",
            "        4496,  4497,  4498,  4499,  4500,  4501,  4502,  4503,  4504,\n",
            "        4505,  4506,  4507,  4508,  5250,  5251,  5252,  5253,  5254,\n",
            "        5255,  5256,  5257,  5258,  5259,  5260,  5261,  5262,  5263,\n",
            "        5264,  5265,  5266,  5267,  5268,  5269,  5270,  5271,  5272,\n",
            "        5273,  5274,  5275,  5276,  5277,  5278,  5279,  5280,  5281,\n",
            "        5282,  5283,  5284,  5285,  5286,  5287,  5288,  5289,  5290,\n",
            "        5291,  5292,  5293,  5294,  5295,  5296,  5297,  5298,  5299,\n",
            "        5300,  5301,  5302,  5303,  5304,  5305,  5306,  5307,  5308,\n",
            "        5309,  5310,  5311,  5312,  5313,  5314,  5315,  5316,  5317,\n",
            "        5318,  5319,  5320,  5321,  5322,  5323,  5324,  5325,  5326,\n",
            "        5327,  5328,  5329,  5330,  5331,  5332,  5333,  5334,  5335,\n",
            "        5336,  5337,  5338,  5339,  5340,  5341,  5342,  5343,  5344,\n",
            "        5345,  5346,  5347,  5348,  5349,  5350,  5351,  5352,  5353,\n",
            "        5354,  5355,  5356,  5357,  5358,  5359,  5360,  5361,  5362,\n",
            "        5363,  5364,  5365,  5366,  5367,  5368,  5369,  5370,  5371,\n",
            "        5372,  5373,  9138,  9139,  9140,  9141,  9142,  9143,  9144,\n",
            "        9145,  9146,  9147,  9148,  9149,  9150,  9151,  9152,  9153,\n",
            "        9154,  9155,  9156,  9157,  9158,  9159,  9160,  9161,  9162,\n",
            "        9163,  9164,  9165,  9166,  9167,  9168,  9169,  9170,  9171,\n",
            "        9172,  9173,  9174,  9175,  9176,  9177,  9178,  9179,  9180,\n",
            "        9181,  9182,  9183,  9184,  9185,  9186,  9187,  9188,  9189,\n",
            "        9190,  9191,  9192,  9193,  9194,  9195,  9196,  9197,  9198,\n",
            "        9199,  9200,  9201,  9202,  9203,  9204,  9205,  9206,  9207,\n",
            "        9208,  9209,  9210,  9211,  9212,  9213,  9214,  9215,  9216,\n",
            "        9217,  9218,  9219,  9220,  9221,  9222,  9223,  9224,  9225,\n",
            "        9226,  9227,  9228,  9229,  9230,  9231,  9232,  9233,  9234,\n",
            "        9235,  9236,  9237,  9238,  9239,  9240,  9241,  9242,  9243,\n",
            "        9244,  9245,  9246,  9247,  9248,  9249,  9250,  9251,  9252,\n",
            "        9253,  9254,  9255,  9256,  9257,  9258,  9259,  9260,  9261,\n",
            "        9262,  9263, 10923, 10924, 10925, 10926, 10927, 10928, 10929,\n",
            "       10930, 10931, 10932, 10933, 10934, 10935, 13066, 13066, 13066]), array([4, 4, 4, 4, 4, 4, 4, 4, 4, 4, 4, 4, 4, 4, 4, 4, 4, 4, 4, 4, 4, 4,\n",
            "       4, 4, 4, 4, 4, 4, 4, 4, 4, 4, 4, 4, 4, 4, 4, 4, 4, 4, 4, 4, 4, 4,\n",
            "       4, 4, 4, 4, 4, 4, 4, 4, 4, 4, 4, 4, 4, 4, 4, 4, 4, 4, 4, 4, 4, 4,\n",
            "       4, 4, 4, 4, 4, 4, 4, 4, 4, 4, 4, 4, 4, 4, 4, 4, 4, 4, 4, 4, 4, 4,\n",
            "       4, 4, 4, 4, 4, 4, 4, 4, 4, 4, 4, 4, 4, 4, 4, 4, 4, 4, 4, 4, 4, 4,\n",
            "       4, 4, 4, 4, 4, 4, 4, 4, 4, 4, 4, 4, 4, 4, 4, 4, 4, 4, 4, 4, 4, 4,\n",
            "       4, 4, 4, 4, 4, 4, 4, 4, 4, 4, 4, 4, 4, 4, 4, 4, 4, 4, 4, 4, 4, 4,\n",
            "       4, 4, 4, 4, 4, 4, 4, 4, 4, 4, 4, 4, 4, 4, 4, 4, 4, 4, 4, 4, 4, 4,\n",
            "       4, 4, 4, 4, 4, 4, 4, 4, 4, 4, 4, 4, 4, 4, 4, 4, 4, 4, 4, 4, 4, 4,\n",
            "       4, 4, 4, 4, 4, 4, 4, 4, 4, 4, 4, 4, 4, 4, 4, 4, 4, 4, 4, 4, 4, 4,\n",
            "       4, 4, 4, 4, 4, 4, 4, 4, 4, 4, 4, 4, 4, 4, 4, 4, 4, 4, 4, 4, 4, 4,\n",
            "       4, 4, 4, 4, 4, 4, 4, 4, 4, 4, 4, 4, 4, 4, 4, 4, 4, 4, 4, 4, 4, 4,\n",
            "       4, 4, 4, 4, 4, 4, 4, 4, 4, 4, 4, 4, 4, 4, 4, 4, 4, 4, 4, 4, 4, 4,\n",
            "       4, 4, 4, 4, 4, 4, 4, 4, 4, 4, 4, 4, 4, 4, 4, 4, 4, 4, 4, 4, 4, 4,\n",
            "       4, 4, 4, 4, 4, 4, 4, 4, 4, 4, 4, 4, 4, 4, 4, 4, 4, 4, 4, 4, 4, 4,\n",
            "       4, 4, 4, 4, 4, 4, 4, 4, 4, 4, 4, 4, 4, 4, 4, 4, 4, 4, 7, 8, 9]))\n",
            "Categorical data is ['matchId', 'tossWinner', 'battingTeam', 'bowlingTeam', 'city', 'venue'] \n",
            "Are there any duplicate values? False\n"
          ]
        }
      ]
    },
    {
      "cell_type": "code",
      "source": [
        "print(innings2_df['tossWinner'].value_counts(dropna=False))  #Inspecting unique values"
      ],
      "metadata": {
        "colab": {
          "base_uri": "https://localhost:8080/"
        },
        "id": "ep1Tc-H55WMc",
        "outputId": "5ecdbcfe-44da-4279-92ab-2daba4ba2bdc"
      },
      "execution_count": 18,
      "outputs": [
        {
          "output_type": "stream",
          "name": "stdout",
          "text": [
            "tossWinner\n",
            "Pakistan        2065\n",
            "England         1833\n",
            "India           1763\n",
            "Australia       1598\n",
            "South Africa    1123\n",
            "Sri Lanka       1084\n",
            "New Zealand      674\n",
            "Afghanistan      562\n",
            "West Indies      476\n",
            "Netherlands      475\n",
            "Ireland          458\n",
            "Bangladesh       364\n",
            "NaN              348\n",
            "Zimbabwe         244\n",
            "Name: count, dtype: int64\n"
          ]
        }
      ]
    },
    {
      "cell_type": "code",
      "source": [
        "innings2_df_cleaned = innings2_df.dropna()"
      ],
      "metadata": {
        "id": "x-sEpxvg5cis"
      },
      "execution_count": 19,
      "outputs": []
    },
    {
      "cell_type": "code",
      "source": [
        "print(innings2_df_cleaned.info())\n",
        "print(innings2_df_cleaned.isnull().sum())#Verifying no nulls remain"
      ],
      "metadata": {
        "colab": {
          "base_uri": "https://localhost:8080/"
        },
        "id": "UIh2jCBH5iy7",
        "outputId": "c62411c4-ecae-4c67-de9e-f4aa9565c0e3"
      },
      "execution_count": 20,
      "outputs": [
        {
          "output_type": "stream",
          "name": "stdout",
          "text": [
            "<class 'pandas.core.frame.DataFrame'>\n",
            "Index: 12718 entries, 0 to 13065\n",
            "Data columns (total 10 columns):\n",
            " #   Column       Non-Null Count  Dtype  \n",
            "---  ------       --------------  -----  \n",
            " 0   Unnamed: 0   12718 non-null  int64  \n",
            " 1   matchId      12718 non-null  object \n",
            " 2   balls        12718 non-null  float64\n",
            " 3   runs         12718 non-null  int64  \n",
            " 4   tossWinner   12718 non-null  object \n",
            " 5   battingTeam  12718 non-null  object \n",
            " 6   bowlingTeam  12718 non-null  object \n",
            " 7   player_out   12718 non-null  float64\n",
            " 8   city         12718 non-null  object \n",
            " 9   venue        12718 non-null  object \n",
            "dtypes: float64(2), int64(2), object(6)\n",
            "memory usage: 1.1+ MB\n",
            "None\n",
            "Unnamed: 0     0\n",
            "matchId        0\n",
            "balls          0\n",
            "runs           0\n",
            "tossWinner     0\n",
            "battingTeam    0\n",
            "bowlingTeam    0\n",
            "player_out     0\n",
            "city           0\n",
            "venue          0\n",
            "dtype: int64\n"
          ]
        }
      ]
    },
    {
      "cell_type": "markdown",
      "source": [
        "## Plotting the data to understand it better"
      ],
      "metadata": {
        "id": "nNiTu-FH6m70"
      }
    },
    {
      "cell_type": "code",
      "source": [
        "innings1_df_cleaned['tossWinner'].value_counts().plot(kind='bar', figsize=(10, 6))\n",
        "plt.title(\"Toss Winner Distribution Innings 1\")\n",
        "plt.ylabel(\"Count\")\n",
        "plt.xlabel(\"Teams\")\n",
        "plt.show()"
      ],
      "metadata": {
        "colab": {
          "base_uri": "https://localhost:8080/",
          "height": 641
        },
        "id": "evuvpA2K60Sm",
        "outputId": "b3883986-9cfc-4e54-b397-b4a6390d054b"
      },
      "execution_count": 21,
      "outputs": [
        {
          "output_type": "display_data",
          "data": {
            "text/plain": [
              "<Figure size 1000x600 with 1 Axes>"
            ],
            "image/png": "[encoded data removed]"
          },
          "metadata": {}
        }
      ]
    },
    {
      "cell_type": "code",
      "source": [
        "innings1_df_cleaned['runs'].hist(bins=30, color='skyblue', edgecolor='black', figsize=(10, 6))\n",
        "plt.title(\"Runs Distribution Innings 1\")\n",
        "plt.xlabel(\"Runs\")\n",
        "plt.ylabel(\"Frequency\")\n",
        "plt.show()"
      ],
      "metadata": {
        "colab": {
          "base_uri": "https://localhost:8080/",
          "height": 564
        },
        "id": "yqBII7vt67NJ",
        "outputId": "5e408be4-dbdb-4226-f606-66f5c83d0534"
      },
      "execution_count": 22,
      "outputs": [
        {
          "output_type": "display_data",
          "data": {
            "text/plain": [
              "<Figure size 1000x600 with 1 Axes>"
            ],
            "image/png": "[encoded data removed]"
          },
          "metadata": {}
        }
      ]
    },
    {
      "cell_type": "code",
      "source": [
        "sns.boxplot(data=innings1_df_cleaned, x='battingTeam', y='runs')\n",
        "plt.xticks(rotation=90)\n",
        "plt.title(\"Runs by Batting Team per ball\")\n",
        "plt.show()"
      ],
      "metadata": {
        "colab": {
          "base_uri": "https://localhost:8080/",
          "height": 549
        },
        "id": "ICZKpCI-5lyO",
        "outputId": "63aeba41-c826-4c3c-ae4f-72bc6cc94273"
      },
      "execution_count": 23,
      "outputs": [
        {
          "output_type": "display_data",
          "data": {
            "text/plain": [
              "<Figure size 640x480 with 1 Axes>"
            ],
            "image/png": "[encoded data removed]"
          },
          "metadata": {}
        }
      ]
    },
    {
      "cell_type": "code",
      "source": [
        "innings1_df_cleaned.groupby('battingTeam')['player_out'].sum().plot(kind='bar', figsize=(10, 6), color='orange')\n",
        "plt.title(\"Total Dismissals by Batting Team\")\n",
        "plt.ylabel(\"Player Outs\")\n",
        "plt.xlabel(\"Batting Team\")\n",
        "plt.show()"
      ],
      "metadata": {
        "colab": {
          "base_uri": "https://localhost:8080/",
          "height": 641
        },
        "id": "XCQ5wjfB8ES1",
        "outputId": "d31eec45-614f-4443-dc61-5ecceea41414"
      },
      "execution_count": 24,
      "outputs": [
        {
          "output_type": "display_data",
          "data": {
            "text/plain": [
              "<Figure size 1000x600 with 1 Axes>"
            ],
            "image/png": "[encoded data removed]"
          },
          "metadata": {}
        }
      ]
    },
    {
      "cell_type": "code",
      "source": [
        "plt.figure(figsize = (8, 6))\n",
        "plt.hist(innings1_df_cleaned['balls'], bins = 20, color = 'skyblue', edgecolor = 'black')\n",
        "plt.title(\"Distribution of Balls Played Innings 1\")\n",
        "plt.xlabel(\"Balls played\")\n",
        "plt.ylabel(\"Frequency\")\n",
        "plt.show()"
      ],
      "metadata": {
        "colab": {
          "base_uri": "https://localhost:8080/",
          "height": 564
        },
        "id": "eVH4YMKc8YwK",
        "outputId": "12b0fb67-f756-42fe-dedc-c383c6cea5fa"
      },
      "execution_count": 25,
      "outputs": [
        {
          "output_type": "display_data",
          "data": {
            "text/plain": [
              "<Figure size 800x600 with 1 Axes>"
            ],
            "image/png": "[encoded data removed]"
          },
          "metadata": {}
        }
      ]
    },
    {
      "cell_type": "code",
      "source": [
        "plt.figure(figsize = (8, 6))\n",
        "plt.hist(innings2_df_cleaned['balls'], bins = 20, color = 'orange', edgecolor = 'black')\n",
        "plt.title(\"Distribution of Balls Played Innings 2\")\n",
        "plt.xlabel(\"Balls played\")\n",
        "plt.ylabel(\"Frequency\")\n",
        "plt.show()"
      ],
      "metadata": {
        "colab": {
          "base_uri": "https://localhost:8080/",
          "height": 564
        },
        "id": "SF71JBU4-Dmp",
        "outputId": "7ff22a26-c808-4f42-8c61-78393c52faf7"
      },
      "execution_count": 26,
      "outputs": [
        {
          "output_type": "display_data",
          "data": {
            "text/plain": [
              "<Figure size 800x600 with 1 Axes>"
            ],
            "image/png": "[encoded data removed]"
          },
          "metadata": {}
        }
      ]
    },
    {
      "cell_type": "code",
      "source": [
        "# Checking match venues\n",
        "venue_counts = innings1_df_cleaned['venue'].value_counts().head(5)\n",
        "venue_counts.plot(kind = 'bar', color = 'black', figsize = (10, 6))\n",
        "plt.title(\"Top 5 Venues for Innings 1\")\n",
        "plt.xlabel(\"Venue\")\n",
        "plt.ylabel(\"Match Count\")\n",
        "plt.show()"
      ],
      "metadata": {
        "colab": {
          "base_uri": "https://localhost:8080/",
          "height": 821
        },
        "id": "4jukfPYf-T3j",
        "outputId": "d9334c91-dc3f-46f7-c1c9-fbd6346a32b0"
      },
      "execution_count": 27,
      "outputs": [
        {
          "output_type": "display_data",
          "data": {
            "text/plain": [
              "<Figure size 1000x600 with 1 Axes>"
            ],
            "image/png": "[encoded data removed]"
          },
          "metadata": {}
        }
      ]
    },
    {
      "cell_type": "code",
      "source": [
        "# Checking match venues\n",
        "venue_counts = innings2_df_cleaned['venue'].value_counts().head(5)\n",
        "venue_counts.plot(kind = 'bar', color = 'black', figsize = (10, 6))\n",
        "plt.title(\"Top 5 Venues for Innings 2\")\n",
        "plt.xlabel(\"Venue\")\n",
        "plt.ylabel(\"Match Count\")\n",
        "plt.show()"
      ],
      "metadata": {
        "colab": {
          "base_uri": "https://localhost:8080/",
          "height": 821
        },
        "id": "J0VIf8Kk-ug2",
        "outputId": "4ed9f6cd-6bac-4a68-ed65-85a35c2ddf5b"
      },
      "execution_count": 28,
      "outputs": [
        {
          "output_type": "display_data",
          "data": {
            "text/plain": [
              "<Figure size 1000x600 with 1 Axes>"
            ],
            "image/png": "[encoded data removed]"
          },
          "metadata": {}
        }
      ]
    },
    {
      "cell_type": "code",
      "source": [
        "innings1_df_cleaned.columns"
      ],
      "metadata": {
        "colab": {
          "base_uri": "https://localhost:8080/"
        },
        "id": "44WQrRdG_CQl",
        "outputId": "2af575e8-b7f0-42bd-f4b3-5558497a17cd"
      },
      "execution_count": 29,
      "outputs": [
        {
          "output_type": "execute_result",
          "data": {
            "text/plain": [
              "Index(['Unnamed: 0', 'matchId', 'balls', 'runs', 'tossWinner', 'battingTeam',\n",
              "       'bowlingTeam', 'player_out', 'city', 'venue'],\n",
              "      dtype='object')"
            ]
          },
          "metadata": {},
          "execution_count": 29
        }
      ]
    },
    {
      "cell_type": "code",
      "source": [
        "innings1_df = innings1_df_cleaned.drop('Unnamed: 0', axis = 1)\n",
        "innings2_df = innings2_df_cleaned.drop('Unnamed: 0', axis = 1)\n",
        "#Unnamed : 0 is an irrelevant column so dropped it"
      ],
      "metadata": {
        "id": "8u6G0MDZ_MBu"
      },
      "execution_count": 30,
      "outputs": []
    },
    {
      "cell_type": "code",
      "source": [
        "innings1_df['runs'] = innings1_df['runs'].astype(int)\n",
        "innings1_df['player_out'] = innings1_df['player_out'].astype(int)\n",
        "\n",
        "innings2_df['runs'] = innings2_df['runs'].astype(int)\n",
        "innings2_df['player_out'] = innings2_df['player_out'].astype(int)"
      ],
      "metadata": {
        "id": "QkOEfpvDlUJi"
      },
      "execution_count": 31,
      "outputs": []
    },
    {
      "cell_type": "code",
      "source": [
        "innings1_df.head(15)"
      ],
      "metadata": {
        "colab": {
          "base_uri": "https://localhost:8080/",
          "height": 519
        },
        "id": "oi4_61brdDZ5",
        "outputId": "b66765e9-6622-467a-b451-85f6a5d619d9"
      },
      "execution_count": 32,
      "outputs": [
        {
          "output_type": "execute_result",
          "data": {
            "text/plain": [
              "   matchId  balls  runs tossWinner  battingTeam bowlingTeam  player_out  \\\n",
              "0      5_1    0.1     0      India  West Indies       India           0   \n",
              "1      5_1    0.2     0      India  West Indies       India           1   \n",
              "2      5_1    0.3     0      India  West Indies       India           0   \n",
              "3      5_1    0.4     1      India  West Indies       India           0   \n",
              "4      5_1    0.5     0      India  West Indies       India           0   \n",
              "5      5_1    0.6     5      India  West Indies       India           0   \n",
              "6      5_1    0.7     0      India  West Indies       India           0   \n",
              "7      5_1    1.1     0      India  West Indies       India           0   \n",
              "8      5_1    1.2     1      India  West Indies       India           0   \n",
              "9      5_1    1.3     0      India  West Indies       India           0   \n",
              "10     5_1    1.4     0      India  West Indies       India           0   \n",
              "11     5_1    1.5     1      India  West Indies       India           0   \n",
              "12     5_1    1.6     0      India  West Indies       India           0   \n",
              "13     5_1    1.7     0      India  West Indies       India           1   \n",
              "14     5_1    2.1     4      India  West Indies       India           0   \n",
              "\n",
              "          city                                              venue  \n",
              "0   Lauderhill  Central Broward Regional Park Stadium Turf Ground  \n",
              "1   Lauderhill  Central Broward Regional Park Stadium Turf Ground  \n",
              "2   Lauderhill  Central Broward Regional Park Stadium Turf Ground  \n",
              "3   Lauderhill  Central Broward Regional Park Stadium Turf Ground  \n",
              "4   Lauderhill  Central Broward Regional Park Stadium Turf Ground  \n",
              "5   Lauderhill  Central Broward Regional Park Stadium Turf Ground  \n",
              "6   Lauderhill  Central Broward Regional Park Stadium Turf Ground  \n",
              "7   Lauderhill  Central Broward Regional Park Stadium Turf Ground  \n",
              "8   Lauderhill  Central Broward Regional Park Stadium Turf Ground  \n",
              "9   Lauderhill  Central Broward Regional Park Stadium Turf Ground  \n",
              "10  Lauderhill  Central Broward Regional Park Stadium Turf Ground  \n",
              "11  Lauderhill  Central Broward Regional Park Stadium Turf Ground  \n",
              "12  Lauderhill  Central Broward Regional Park Stadium Turf Ground  \n",
              "13  Lauderhill  Central Broward Regional Park Stadium Turf Ground  \n",
              "14  Lauderhill  Central Broward Regional Park Stadium Turf Ground  "
            ],
            "text/html": [
              "\n",
              "  <div id=\"df-0acc59cd-a50e-4163-962d-f5d1a1e1bfec\" class=\"colab-df-container\">\n",
              "    <div>\n",
              "<style scoped>\n",
              "    .dataframe tbody tr th:only-of-type {\n",
              "        vertical-align: middle;\n",
              "    }\n",
              "\n",
              "    .dataframe tbody tr th {\n",
              "        vertical-align: top;\n",
              "    }\n",
              "\n",
              "    .dataframe thead th {\n",
              "        text-align: right;\n",
              "    }\n",
              "</style>\n",
              "<table border=\"1\" class=\"dataframe\">\n",
              "  <thead>\n",
              "    <tr style=\"text-align: right;\">\n",
              "      <th></th>\n",
              "      <th>matchId</th>\n",
              "      <th>balls</th>\n",
              "      <th>runs</th>\n",
              "      <th>tossWinner</th>\n",
              "      <th>battingTeam</th>\n",
              "      <th>bowlingTeam</th>\n",
              "      <th>player_out</th>\n",
              "      <th>city</th>\n",
              "      <th>venue</th>\n",
              "    </tr>\n",
              "  </thead>\n",
              "  <tbody>\n",
              "    <tr>\n",
              "      <th>0</th>\n",
              "      <td>5_1</td>\n",
              "      <td>0.1</td>\n",
              "      <td>0</td>\n",
              "      <td>India</td>\n",
              "      <td>West Indies</td>\n",
              "      <td>India</td>\n",
              "      <td>0</td>\n",
              "      <td>Lauderhill</td>\n",
              "      <td>Central Broward Regional Park Stadium Turf Ground</td>\n",
              "    </tr>\n",
              "    <tr>\n",
              "      <th>1</th>\n",
              "      <td>5_1</td>\n",
              "      <td>0.2</td>\n",
              "      <td>0</td>\n",
              "      <td>India</td>\n",
              "      <td>West Indies</td>\n",
              "      <td>India</td>\n",
              "      <td>1</td>\n",
              "      <td>Lauderhill</td>\n",
              "      <td>Central Broward Regional Park Stadium Turf Ground</td>\n",
              "    </tr>\n",
              "    <tr>\n",
              "      <th>2</th>\n",
              "      <td>5_1</td>\n",
              "      <td>0.3</td>\n",
              "      <td>0</td>\n",
              "      <td>India</td>\n",
              "      <td>West Indies</td>\n",
              "      <td>India</td>\n",
              "      <td>0</td>\n",
              "      <td>Lauderhill</td>\n",
              "      <td>Central Broward Regional Park Stadium Turf Ground</td>\n",
              "    </tr>\n",
              "    <tr>\n",
              "      <th>3</th>\n",
              "      <td>5_1</td>\n",
              "      <td>0.4</td>\n",
              "      <td>1</td>\n",
              "      <td>India</td>\n",
              "      <td>West Indies</td>\n",
              "      <td>India</td>\n",
              "      <td>0</td>\n",
              "      <td>Lauderhill</td>\n",
              "      <td>Central Broward Regional Park Stadium Turf Ground</td>\n",
              "    </tr>\n",
              "    <tr>\n",
              "      <th>4</th>\n",
              "      <td>5_1</td>\n",
              "      <td>0.5</td>\n",
              "      <td>0</td>\n",
              "      <td>India</td>\n",
              "      <td>West Indies</td>\n",
              "      <td>India</td>\n",
              "      <td>0</td>\n",
              "      <td>Lauderhill</td>\n",
              "      <td>Central Broward Regional Park Stadium Turf Ground</td>\n",
              "    </tr>\n",
              "    <tr>\n",
              "      <th>5</th>\n",
              "      <td>5_1</td>\n",
              "      <td>0.6</td>\n",
              "      <td>5</td>\n",
              "      <td>India</td>\n",
              "      <td>West Indies</td>\n",
              "      <td>India</td>\n",
              "      <td>0</td>\n",
              "      <td>Lauderhill</td>\n",
              "      <td>Central Broward Regional Park Stadium Turf Ground</td>\n",
              "    </tr>\n",
              "    <tr>\n",
              "      <th>6</th>\n",
              "      <td>5_1</td>\n",
              "      <td>0.7</td>\n",
              "      <td>0</td>\n",
              "      <td>India</td>\n",
              "      <td>West Indies</td>\n",
              "      <td>India</td>\n",
              "      <td>0</td>\n",
              "      <td>Lauderhill</td>\n",
              "      <td>Central Broward Regional Park Stadium Turf Ground</td>\n",
              "    </tr>\n",
              "    <tr>\n",
              "      <th>7</th>\n",
              "      <td>5_1</td>\n",
              "      <td>1.1</td>\n",
              "      <td>0</td>\n",
              "      <td>India</td>\n",
              "      <td>West Indies</td>\n",
              "      <td>India</td>\n",
              "      <td>0</td>\n",
              "      <td>Lauderhill</td>\n",
              "      <td>Central Broward Regional Park Stadium Turf Ground</td>\n",
              "    </tr>\n",
              "    <tr>\n",
              "      <th>8</th>\n",
              "      <td>5_1</td>\n",
              "      <td>1.2</td>\n",
              "      <td>1</td>\n",
              "      <td>India</td>\n",
              "      <td>West Indies</td>\n",
              "      <td>India</td>\n",
              "      <td>0</td>\n",
              "      <td>Lauderhill</td>\n",
              "      <td>Central Broward Regional Park Stadium Turf Ground</td>\n",
              "    </tr>\n",
              "    <tr>\n",
              "      <th>9</th>\n",
              "      <td>5_1</td>\n",
              "      <td>1.3</td>\n",
              "      <td>0</td>\n",
              "      <td>India</td>\n",
              "      <td>West Indies</td>\n",
              "      <td>India</td>\n",
              "      <td>0</td>\n",
              "      <td>Lauderhill</td>\n",
              "      <td>Central Broward Regional Park Stadium Turf Ground</td>\n",
              "    </tr>\n",
              "    <tr>\n",
              "      <th>10</th>\n",
              "      <td>5_1</td>\n",
              "      <td>1.4</td>\n",
              "      <td>0</td>\n",
              "      <td>India</td>\n",
              "      <td>West Indies</td>\n",
              "      <td>India</td>\n",
              "      <td>0</td>\n",
              "      <td>Lauderhill</td>\n",
              "      <td>Central Broward Regional Park Stadium Turf Ground</td>\n",
              "    </tr>\n",
              "    <tr>\n",
              "      <th>11</th>\n",
              "      <td>5_1</td>\n",
              "      <td>1.5</td>\n",
              "      <td>1</td>\n",
              "      <td>India</td>\n",
              "      <td>West Indies</td>\n",
              "      <td>India</td>\n",
              "      <td>0</td>\n",
              "      <td>Lauderhill</td>\n",
              "      <td>Central Broward Regional Park Stadium Turf Ground</td>\n",
              "    </tr>\n",
              "    <tr>\n",
              "      <th>12</th>\n",
              "      <td>5_1</td>\n",
              "      <td>1.6</td>\n",
              "      <td>0</td>\n",
              "      <td>India</td>\n",
              "      <td>West Indies</td>\n",
              "      <td>India</td>\n",
              "      <td>0</td>\n",
              "      <td>Lauderhill</td>\n",
              "      <td>Central Broward Regional Park Stadium Turf Ground</td>\n",
              "    </tr>\n",
              "    <tr>\n",
              "      <th>13</th>\n",
              "      <td>5_1</td>\n",
              "      <td>1.7</td>\n",
              "      <td>0</td>\n",
              "      <td>India</td>\n",
              "      <td>West Indies</td>\n",
              "      <td>India</td>\n",
              "      <td>1</td>\n",
              "      <td>Lauderhill</td>\n",
              "      <td>Central Broward Regional Park Stadium Turf Ground</td>\n",
              "    </tr>\n",
              "    <tr>\n",
              "      <th>14</th>\n",
              "      <td>5_1</td>\n",
              "      <td>2.1</td>\n",
              "      <td>4</td>\n",
              "      <td>India</td>\n",
              "      <td>West Indies</td>\n",
              "      <td>India</td>\n",
              "      <td>0</td>\n",
              "      <td>Lauderhill</td>\n",
              "      <td>Central Broward Regional Park Stadium Turf Ground</td>\n",
              "    </tr>\n",
              "  </tbody>\n",
              "</table>\n",
              "</div>\n",
              "    <div class=\"colab-df-buttons\">\n",
              "\n",
              "  <div class=\"colab-df-container\">\n",
              "    <button class=\"colab-df-convert\" onclick=\"convertToInteractive('df-0acc59cd-a50e-4163-962d-f5d1a1e1bfec')\"\n",
              "            title=\"Convert this dataframe to an interactive table.\"\n",
              "            style=\"display:none;\">\n",
              "\n",
              "  <svg xmlns=\"http://www.w3.org/2000/svg\" height=\"24px\" viewBox=\"0 -960 960 960\">\n",
              "    <path d=\"M120-120v-720h720v720H120Zm60-500h600v-160H180v160Zm220 220h160v-160H400v160Zm0 220h160v-160H400v160ZM180-400h160v-160H180v160Zm440 0h160v-160H620v160ZM180-180h160v-160H180v160Zm440 0h160v-160H620v160Z\"/>\n",
              "  </svg>\n",
              "    </button>\n",
              "\n",
              "  <style>\n",
              "    .colab-df-container {\n",
              "      display:flex;\n",
              "      gap: 12px;\n",
              "    }\n",
              "\n",
              "    .colab-df-convert {\n",
              "      background-color: #E8F0FE;\n",
              "      border: none;\n",
              "      border-radius: 50%;\n",
              "      cursor: pointer;\n",
              "      display: none;\n",
              "      fill: #1967D2;\n",
              "      height: 32px;\n",
              "      padding: 0 0 0 0;\n",
              "      width: 32px;\n",
              "    }\n",
              "\n",
              "    .colab-df-convert:hover {\n",
              "      background-color: #E2EBFA;\n",
              "      box-shadow: 0px 1px 2px rgba(60, 64, 67, 0.3), 0px 1px 3px 1px rgba(60, 64, 67, 0.15);\n",
              "      fill: #174EA6;\n",
              "    }\n",
              "\n",
              "    .colab-df-buttons div {\n",
              "      margin-bottom: 4px;\n",
              "    }\n",
              "\n",
              "    [theme=dark] .colab-df-convert {\n",
              "      background-color: #3B4455;\n",
              "      fill: #D2E3FC;\n",
              "    }\n",
              "\n",
              "    [theme=dark] .colab-df-convert:hover {\n",
              "      background-color: #434B5C;\n",
              "      box-shadow: 0px 1px 3px 1px rgba(0, 0, 0, 0.15);\n",
              "      filter: drop-shadow(0px 1px 2px rgba(0, 0, 0, 0.3));\n",
              "      fill: #FFFFFF;\n",
              "    }\n",
              "  </style>\n",
              "\n",
              "    <script>\n",
              "      const buttonEl =\n",
              "        document.querySelector('#df-0acc59cd-a50e-4163-962d-f5d1a1e1bfec button.colab-df-convert');\n",
              "      buttonEl.style.display =\n",
              "        google.colab.kernel.accessAllowed ? 'block' : 'none';\n",
              "\n",
              "      async function convertToInteractive(key) {\n",
              "        const element = document.querySelector('#df-0acc59cd-a50e-4163-962d-f5d1a1e1bfec');\n",
              "        const dataTable =\n",
              "          await google.colab.kernel.invokeFunction('convertToInteractive',\n",
              "                                                    [key], {});\n",
              "        if (!dataTable) return;\n",
              "\n",
              "        const docLinkHtml = 'Like what you see? Visit the ' +\n",
              "          '<a target=\"_blank\" href=https://colab.research.google.com/notebooks/data_table.ipynb>data table notebook</a>'\n",
              "          + ' to learn more about interactive tables.';\n",
              "        element.innerHTML = '';\n",
              "        dataTable['output_type'] = 'display_data';\n",
              "        await google.colab.output.renderOutput(dataTable, element);\n",
              "        const docLink = document.createElement('div');\n",
              "        docLink.innerHTML = docLinkHtml;\n",
              "        element.appendChild(docLink);\n",
              "      }\n",
              "    </script>\n",
              "  </div>\n",
              "\n",
              "\n",
              "<div id=\"df-8adef4e5-efe0-4539-8d7c-473a54ebca5a\">\n",
              "  <button class=\"colab-df-quickchart\" onclick=\"quickchart('df-8adef4e5-efe0-4539-8d7c-473a54ebca5a')\"\n",
              "            title=\"Suggest charts\"\n",
              "            style=\"display:none;\">\n",
              "\n",
              "<svg xmlns=\"http://www.w3.org/2000/svg\" height=\"24px\"viewBox=\"0 0 24 24\"\n",
              "     width=\"24px\">\n",
              "    <g>\n",
              "        <path d=\"M19 3H5c-1.1 0-2 .9-2 2v14c0 1.1.9 2 2 2h14c1.1 0 2-.9 2-2V5c0-1.1-.9-2-2-2zM9 17H7v-7h2v7zm4 0h-2V7h2v10zm4 0h-2v-4h2v4z\"/>\n",
              "    </g>\n",
              "</svg>\n",
              "  </button>\n",
              "\n",
              "<style>\n",
              "  .colab-df-quickchart {\n",
              "      --bg-color: #E8F0FE;\n",
              "      --fill-color: #1967D2;\n",
              "      --hover-bg-color: #E2EBFA;\n",
              "      --hover-fill-color: #174EA6;\n",
              "      --disabled-fill-color: #AAA;\n",
              "      --disabled-bg-color: #DDD;\n",
              "  }\n",
              "\n",
              "  [theme=dark] .colab-df-quickchart {\n",
              "      --bg-color: #3B4455;\n",
              "      --fill-color: #D2E3FC;\n",
              "      --hover-bg-color: #434B5C;\n",
              "      --hover-fill-color: #FFFFFF;\n",
              "      --disabled-bg-color: #3B4455;\n",
              "      --disabled-fill-color: #666;\n",
              "  }\n",
              "\n",
              "  .colab-df-quickchart {\n",
              "    background-color: var(--bg-color);\n",
              "    border: none;\n",
              "    border-radius: 50%;\n",
              "    cursor: pointer;\n",
              "    display: none;\n",
              "    fill: var(--fill-color);\n",
              "    height: 32px;\n",
              "    padding: 0;\n",
              "    width: 32px;\n",
              "  }\n",
              "\n",
              "  .colab-df-quickchart:hover {\n",
              "    background-color: var(--hover-bg-color);\n",
              "    box-shadow: 0 1px 2px rgba(60, 64, 67, 0.3), 0 1px 3px 1px rgba(60, 64, 67, 0.15);\n",
              "    fill: var(--button-hover-fill-color);\n",
              "  }\n",
              "\n",
              "  .colab-df-quickchart-complete:disabled,\n",
              "  .colab-df-quickchart-complete:disabled:hover {\n",
              "    background-color: var(--disabled-bg-color);\n",
              "    fill: var(--disabled-fill-color);\n",
              "    box-shadow: none;\n",
              "  }\n",
              "\n",
              "  .colab-df-spinner {\n",
              "    border: 2px solid var(--fill-color);\n",
              "    border-color: transparent;\n",
              "    border-bottom-color: var(--fill-color);\n",
              "    animation:\n",
              "      spin 1s steps(1) infinite;\n",
              "  }\n",
              "\n",
              "  @keyframes spin {\n",
              "    0% {\n",
              "      border-color: transparent;\n",
              "      border-bottom-color: var(--fill-color);\n",
              "      border-left-color: var(--fill-color);\n",
              "    }\n",
              "    20% {\n",
              "      border-color: transparent;\n",
              "      border-left-color: var(--fill-color);\n",
              "      border-top-color: var(--fill-color);\n",
              "    }\n",
              "    30% {\n",
              "      border-color: transparent;\n",
              "      border-left-color: var(--fill-color);\n",
              "      border-top-color: var(--fill-color);\n",
              "      border-right-color: var(--fill-color);\n",
              "    }\n",
              "    40% {\n",
              "      border-color: transparent;\n",
              "      border-right-color: var(--fill-color);\n",
              "      border-top-color: var(--fill-color);\n",
              "    }\n",
              "    60% {\n",
              "      border-color: transparent;\n",
              "      border-right-color: var(--fill-color);\n",
              "    }\n",
              "    80% {\n",
              "      border-color: transparent;\n",
              "      border-right-color: var(--fill-color);\n",
              "      border-bottom-color: var(--fill-color);\n",
              "    }\n",
              "    90% {\n",
              "      border-color: transparent;\n",
              "      border-bottom-color: var(--fill-color);\n",
              "    }\n",
              "  }\n",
              "</style>\n",
              "\n",
              "  <script>\n",
              "    async function quickchart(key) {\n",
              "      const quickchartButtonEl =\n",
              "        document.querySelector('#' + key + ' button');\n",
              "      quickchartButtonEl.disabled = true;  // To prevent multiple clicks.\n",
              "      quickchartButtonEl.classList.add('colab-df-spinner');\n",
              "      try {\n",
              "        const charts = await google.colab.kernel.invokeFunction(\n",
              "            'suggestCharts', [key], {});\n",
              "      } catch (error) {\n",
              "        console.error('Error during call to suggestCharts:', error);\n",
              "      }\n",
              "      quickchartButtonEl.classList.remove('colab-df-spinner');\n",
              "      quickchartButtonEl.classList.add('colab-df-quickchart-complete');\n",
              "    }\n",
              "    (() => {\n",
              "      let quickchartButtonEl =\n",
              "        document.querySelector('#df-8adef4e5-efe0-4539-8d7c-473a54ebca5a button');\n",
              "      quickchartButtonEl.style.display =\n",
              "        google.colab.kernel.accessAllowed ? 'block' : 'none';\n",
              "    })();\n",
              "  </script>\n",
              "</div>\n",
              "\n",
              "    </div>\n",
              "  </div>\n"
            ],
            "application/vnd.google.colaboratory.intrinsic+json": {
              "type": "dataframe",
              "variable_name": "innings1_df",
              "summary": "{\n  \"name\": \"innings1_df\",\n  \"rows\": 12411,\n  \"fields\": [\n    {\n      \"column\": \"matchId\",\n      \"properties\": {\n        \"dtype\": \"category\",\n        \"num_unique_values\": 101,\n        \"samples\": [\n          \"225_1\",\n          \"157_1\",\n          \"182_1\"\n        ],\n        \"semantic_type\": \"\",\n        \"description\": \"\"\n      }\n    },\n    {\n      \"column\": \"balls\",\n      \"properties\": {\n        \"dtype\": \"number\",\n        \"std\": 5.754266730997626,\n        \"min\": 0.1,\n        \"max\": 19.8,\n        \"num_unique_values\": 169,\n        \"samples\": [\n          11.9,\n          4.5,\n          19.2\n        ],\n        \"semantic_type\": \"\",\n        \"description\": \"\"\n      }\n    },\n    {\n      \"column\": \"runs\",\n      \"properties\": {\n        \"dtype\": \"number\",\n        \"std\": 1,\n        \"min\": 0,\n        \"max\": 7,\n        \"num_unique_values\": 8,\n        \"samples\": [\n          1,\n          2,\n          0\n        ],\n        \"semantic_type\": \"\",\n        \"description\": \"\"\n      }\n    },\n    {\n      \"column\": \"tossWinner\",\n      \"properties\": {\n        \"dtype\": \"category\",\n        \"num_unique_values\": 13,\n        \"samples\": [\n          \"Netherlands\",\n          \"Bangladesh\",\n          \"India\"\n        ],\n        \"semantic_type\": \"\",\n        \"description\": \"\"\n      }\n    },\n    {\n      \"column\": \"battingTeam\",\n      \"properties\": {\n        \"dtype\": \"category\",\n        \"num_unique_values\": 13,\n        \"samples\": [\n          \"Bangladesh\",\n          \"Ireland\",\n          \"West Indies\"\n        ],\n        \"semantic_type\": \"\",\n        \"description\": \"\"\n      }\n    },\n    {\n      \"column\": \"bowlingTeam\",\n      \"properties\": {\n        \"dtype\": \"category\",\n        \"num_unique_values\": 13,\n        \"samples\": [\n          \"Pakistan\",\n          \"Sri Lanka\",\n          \"India\"\n        ],\n        \"semantic_type\": \"\",\n        \"description\": \"\"\n      }\n    },\n    {\n      \"column\": \"player_out\",\n      \"properties\": {\n        \"dtype\": \"number\",\n        \"std\": 0,\n        \"min\": 0,\n        \"max\": 1,\n        \"num_unique_values\": 2,\n        \"samples\": [\n          1,\n          0\n        ],\n        \"semantic_type\": \"\",\n        \"description\": \"\"\n      }\n    },\n    {\n      \"column\": \"city\",\n      \"properties\": {\n        \"dtype\": \"category\",\n        \"num_unique_values\": 57,\n        \"samples\": [\n          \"Lauderhill\",\n          \"Dubai\"\n        ],\n        \"semantic_type\": \"\",\n        \"description\": \"\"\n      }\n    },\n    {\n      \"column\": \"venue\",\n      \"properties\": {\n        \"dtype\": \"category\",\n        \"num_unique_values\": 64,\n        \"samples\": [\n          \"National Stadium\",\n          \"Providence Stadium\"\n        ],\n        \"semantic_type\": \"\",\n        \"description\": \"\"\n      }\n    }\n  ]\n}"
            }
          },
          "metadata": {},
          "execution_count": 32
        }
      ]
    },
    {
      "cell_type": "code",
      "source": [
        "innings1_df.shape"
      ],
      "metadata": {
        "colab": {
          "base_uri": "https://localhost:8080/"
        },
        "id": "4BBV3y82OXUQ",
        "outputId": "483a3a6c-ec09-43dc-a265-e0362c5896fd"
      },
      "execution_count": 33,
      "outputs": [
        {
          "output_type": "execute_result",
          "data": {
            "text/plain": [
              "(12411, 9)"
            ]
          },
          "metadata": {},
          "execution_count": 33
        }
      ]
    },
    {
      "cell_type": "code",
      "source": [
        "import time\n",
        "from rdflib import Graph\n",
        "\n",
        "start_time = time.time()\n",
        "\n",
        "rdf_file = \"/content/T20.rdf\"\n",
        "g = Graph()\n",
        "g.parse(rdf_file, format=\"xml\")\n",
        "\n",
        "end_time = time.time()\n",
        "\n",
        "total_time = end_time - start_time\n",
        "\n",
        "print(f\"Graph loaded with {len(g)} triples.\")\n",
        "print(f\"Time taken to load the RDF file: {total_time:.2f} seconds\")\n"
      ],
      "metadata": {
        "colab": {
          "base_uri": "https://localhost:8080/",
          "height": 370
        },
        "id": "8UJhtRAV_5FX",
        "outputId": "55b2bfc2-6abf-4621-ca51-aaac8dd51172"
      },
      "execution_count": 34,
      "outputs": [
        {
          "output_type": "error",
          "ename": "FileNotFoundError",
          "evalue": "[Errno 2] No such file or directory: '/content/T20.rdf'",
          "traceback": [
            "\u001b[0;31m---------------------------------------------------------------------------\u001b[0m",
            "\u001b[0;31mFileNotFoundError\u001b[0m                         Traceback (most recent call last)",
            "\u001b[0;32m<ipython-input-34-d0fe50e66a4c>\u001b[0m in \u001b[0;36m<cell line: 8>\u001b[0;34m()\u001b[0m\n\u001b[1;32m      6\u001b[0m \u001b[0mrdf_file\u001b[0m \u001b[0;34m=\u001b[0m \u001b[0;34m\"/content/T20.rdf\"\u001b[0m\u001b[0;34m\u001b[0m\u001b[0;34m\u001b[0m\u001b[0m\n\u001b[1;32m      7\u001b[0m \u001b[0mg\u001b[0m \u001b[0;34m=\u001b[0m \u001b[0mGraph\u001b[0m\u001b[0;34m(\u001b[0m\u001b[0;34m)\u001b[0m\u001b[0;34m\u001b[0m\u001b[0;34m\u001b[0m\u001b[0m\n\u001b[0;32m----> 8\u001b[0;31m \u001b[0mg\u001b[0m\u001b[0;34m.\u001b[0m\u001b[0mparse\u001b[0m\u001b[0;34m(\u001b[0m\u001b[0mrdf_file\u001b[0m\u001b[0;34m,\u001b[0m \u001b[0mformat\u001b[0m\u001b[0;34m=\u001b[0m\u001b[0;34m\"xml\"\u001b[0m\u001b[0;34m)\u001b[0m\u001b[0;34m\u001b[0m\u001b[0;34m\u001b[0m\u001b[0m\n\u001b[0m\u001b[1;32m      9\u001b[0m \u001b[0;34m\u001b[0m\u001b[0m\n\u001b[1;32m     10\u001b[0m \u001b[0mend_time\u001b[0m \u001b[0;34m=\u001b[0m \u001b[0mtime\u001b[0m\u001b[0;34m.\u001b[0m\u001b[0mtime\u001b[0m\u001b[0;34m(\u001b[0m\u001b[0;34m)\u001b[0m\u001b[0;34m\u001b[0m\u001b[0;34m\u001b[0m\u001b[0m\n",
            "\u001b[0;32m/usr/local/lib/python3.10/dist-packages/rdflib/graph.py\u001b[0m in \u001b[0;36mparse\u001b[0;34m(self, source, publicID, format, location, file, data, **args)\u001b[0m\n\u001b[1;32m   1465\u001b[0m         \"\"\"\n\u001b[1;32m   1466\u001b[0m \u001b[0;34m\u001b[0m\u001b[0m\n\u001b[0;32m-> 1467\u001b[0;31m         source = create_input_source(\n\u001b[0m\u001b[1;32m   1468\u001b[0m             \u001b[0msource\u001b[0m\u001b[0;34m=\u001b[0m\u001b[0msource\u001b[0m\u001b[0;34m,\u001b[0m\u001b[0;34m\u001b[0m\u001b[0;34m\u001b[0m\u001b[0m\n\u001b[1;32m   1469\u001b[0m             \u001b[0mpublicID\u001b[0m\u001b[0;34m=\u001b[0m\u001b[0mpublicID\u001b[0m\u001b[0;34m,\u001b[0m\u001b[0;34m\u001b[0m\u001b[0;34m\u001b[0m\u001b[0m\n",
            "\u001b[0;32m/usr/local/lib/python3.10/dist-packages/rdflib/parser.py\u001b[0m in \u001b[0;36mcreate_input_source\u001b[0;34m(source, publicID, location, file, data, format)\u001b[0m\n\u001b[1;32m    733\u001b[0m             \u001b[0mfile\u001b[0m\u001b[0;34m,\u001b[0m\u001b[0;34m\u001b[0m\u001b[0;34m\u001b[0m\u001b[0m\n\u001b[1;32m    734\u001b[0m             \u001b[0minput_source\u001b[0m\u001b[0;34m,\u001b[0m\u001b[0;34m\u001b[0m\u001b[0;34m\u001b[0m\u001b[0m\n\u001b[0;32m--> 735\u001b[0;31m         \u001b[0;34m)\u001b[0m \u001b[0;34m=\u001b[0m \u001b[0m_create_input_source_from_location\u001b[0m\u001b[0;34m(\u001b[0m\u001b[0;34m\u001b[0m\u001b[0;34m\u001b[0m\u001b[0m\n\u001b[0m\u001b[1;32m    736\u001b[0m             \u001b[0mfile\u001b[0m\u001b[0;34m=\u001b[0m\u001b[0mfile\u001b[0m\u001b[0;34m,\u001b[0m\u001b[0;34m\u001b[0m\u001b[0;34m\u001b[0m\u001b[0m\n\u001b[1;32m    737\u001b[0m             \u001b[0mformat\u001b[0m\u001b[0;34m=\u001b[0m\u001b[0mformat\u001b[0m\u001b[0;34m,\u001b[0m\u001b[0;34m\u001b[0m\u001b[0;34m\u001b[0m\u001b[0m\n",
            "\u001b[0;32m/usr/local/lib/python3.10/dist-packages/rdflib/parser.py\u001b[0m in \u001b[0;36m_create_input_source_from_location\u001b[0;34m(file, format, input_source, location)\u001b[0m\n\u001b[1;32m    793\u001b[0m     \u001b[0;32mif\u001b[0m \u001b[0mabsolute_location\u001b[0m\u001b[0;34m.\u001b[0m\u001b[0mstartswith\u001b[0m\u001b[0;34m(\u001b[0m\u001b[0;34m\"file:///\"\u001b[0m\u001b[0;34m)\u001b[0m\u001b[0;34m:\u001b[0m\u001b[0;34m\u001b[0m\u001b[0;34m\u001b[0m\u001b[0m\n\u001b[1;32m    794\u001b[0m         \u001b[0mfilename\u001b[0m \u001b[0;34m=\u001b[0m \u001b[0murl2pathname\u001b[0m\u001b[0;34m(\u001b[0m\u001b[0mabsolute_location\u001b[0m\u001b[0;34m.\u001b[0m\u001b[0mreplace\u001b[0m\u001b[0;34m(\u001b[0m\u001b[0;34m\"file:///\"\u001b[0m\u001b[0;34m,\u001b[0m \u001b[0;34m\"/\"\u001b[0m\u001b[0;34m)\u001b[0m\u001b[0;34m)\u001b[0m\u001b[0;34m\u001b[0m\u001b[0;34m\u001b[0m\u001b[0m\n\u001b[0;32m--> 795\u001b[0;31m         \u001b[0mfile\u001b[0m \u001b[0;34m=\u001b[0m \u001b[0mopen\u001b[0m\u001b[0;34m(\u001b[0m\u001b[0mfilename\u001b[0m\u001b[0;34m,\u001b[0m \u001b[0;34m\"rb\"\u001b[0m\u001b[0;34m)\u001b[0m\u001b[0;34m\u001b[0m\u001b[0;34m\u001b[0m\u001b[0m\n\u001b[0m\u001b[1;32m    796\u001b[0m     \u001b[0;32melse\u001b[0m\u001b[0;34m:\u001b[0m\u001b[0;34m\u001b[0m\u001b[0;34m\u001b[0m\u001b[0m\n\u001b[1;32m    797\u001b[0m         \u001b[0minput_source\u001b[0m \u001b[0;34m=\u001b[0m \u001b[0mURLInputSource\u001b[0m\u001b[0;34m(\u001b[0m\u001b[0mabsolute_location\u001b[0m\u001b[0;34m,\u001b[0m \u001b[0mformat\u001b[0m\u001b[0;34m)\u001b[0m\u001b[0;34m\u001b[0m\u001b[0;34m\u001b[0m\u001b[0m\n",
            "\u001b[0;31mFileNotFoundError\u001b[0m: [Errno 2] No such file or directory: '/content/T20.rdf'"
          ]
        }
      ]
    },
    {
      "cell_type": "markdown",
      "source": [
        "The given RDF is very large and needs significant computational power for any sort of queries.\n",
        "\n",
        "So we have decided to create our own RDF using the given dataframes in order to improve computational time and have greater control over the structure of the RDF."
      ],
      "metadata": {
        "id": "MZPFQI--h4MO"
      }
    },
    {
      "cell_type": "markdown",
      "source": [
        "## Creating RDF File"
      ],
      "metadata": {
        "id": "-d_AqUZZ_9R-"
      }
    },
    {
      "cell_type": "code",
      "source": [
        "#Creating namespace for my ontology\n",
        "onto = Namespace(\"http://www.semanticweb.org/aarib/ontologies/2024/t20-cricket#\")\n",
        "\n",
        "g = Graph()\n",
        "\n",
        "g.bind(\"owl\", OWL)\n",
        "g.bind(\"xsd\", XSD)\n",
        "\n",
        "g.bind(\"onto\", onto)\n",
        "\n",
        "def create_rdf_triples(dataframe, innings):\n",
        "  for index, row in dataframe.iterrows():\n",
        "    match_id = row['matchId']\n",
        "    balls = row['balls']\n",
        "    runs = row['runs']\n",
        "    batting_team = row['battingTeam']\n",
        "    toss_winner = row['tossWinner']\n",
        "    bowling_team = row['bowlingTeam']\n",
        "    player_dismissed = row['player_out']\n",
        "    city = row['city']\n",
        "    venue = row['venue']\n",
        "\n",
        "    match_uri = onto[f\"match_{innings}_{match_id}\"] #Dynamically generating URI's\n",
        "    inning_uri = onto[f\"inning_{innings}\"]\n",
        "\n",
        "    #Adding triples to the graph\n",
        "    g.add((match_uri, RDF.type, inning_uri)) #Makes match a specific type of inning\n",
        "    g.add((match_uri, onto.hasID, Literal(match_id)))\n",
        "    g.add((match_uri, onto.hasBall, Literal(balls, datatype=XSD.float)))\n",
        "    g.add((match_uri, onto.hasRuns, Literal(runs, datatype=XSD.int))) #Defining types as RDF doesn't inherently know if float or int\n",
        "    g.add((match_uri, onto.hasBattingTeam, Literal(batting_team))) #Strings dont need to be defined explicitly knwon\n",
        "    g.add((match_uri, onto.hasTossWinner, Literal(toss_winner)))\n",
        "    g.add((match_uri, onto.hasBowlingTeam, Literal(bowling_team)))\n",
        "    g.add((match_uri, onto.hasPlayerDismissed, Literal(player_dismissed, datatype = XSD.int)))\n",
        "    g.add((match_uri, onto.hasCity, Literal(city)))\n",
        "    g.add((match_uri, onto.hasVenue, Literal(venue)))"
      ],
      "metadata": {
        "id": "4rehxrHNO_ti"
      },
      "execution_count": 35,
      "outputs": []
    },
    {
      "cell_type": "code",
      "source": [
        "create_rdf_triples(innings1_df, \"1st\")\n",
        "create_rdf_triples(innings2_df, \"2nd\")"
      ],
      "metadata": {
        "id": "ei0JIGOSt_AE"
      },
      "execution_count": 36,
      "outputs": []
    },
    {
      "cell_type": "code",
      "source": [
        "g.serialize(destination=\"Aarib_t20_cricket_ontology.rdf\", format=\"xml\")"
      ],
      "metadata": {
        "colab": {
          "base_uri": "https://localhost:8080/"
        },
        "id": "P92KKGvFuHjc",
        "outputId": "f8277227-fafd-4765-a736-66efd34d3e1b"
      },
      "execution_count": 37,
      "outputs": [
        {
          "output_type": "execute_result",
          "data": {
            "text/plain": [
              "<Graph identifier=N575bae198bf2445e81f0a0e0679ac789 (<class 'rdflib.graph.Graph'>)>"
            ]
          },
          "metadata": {},
          "execution_count": 37
        }
      ]
    },
    {
      "cell_type": "code",
      "source": [
        "print(f\"The total number of triples in the graph I have created myself are {len(g)}\")"
      ],
      "metadata": {
        "colab": {
          "base_uri": "https://localhost:8080/"
        },
        "id": "FnhGYTcbvJRO",
        "outputId": "919acce1-bf29-4845-c966-d98c26e05396"
      },
      "execution_count": 38,
      "outputs": [
        {
          "output_type": "stream",
          "name": "stdout",
          "text": [
            "The total number of triples in the graph I have created myself are 28279\n"
          ]
        }
      ]
    },
    {
      "cell_type": "markdown",
      "source": [
        "## Checking classes, relations and instances in the graph"
      ],
      "metadata": {
        "id": "0Y5mKdzovrNk"
      }
    },
    {
      "cell_type": "code",
      "source": [
        "#query to get distinct classes from the RDF graph\n",
        "class_query = \"\"\"\n",
        "  SELECT DISTINCT ?class\n",
        "  WHERE {\n",
        "    ?subject a ?class\n",
        "  }\n",
        "\"\"\"\n",
        "\n",
        "classes = g.query(class_query)\n",
        "\n",
        "print(\"Distinct Classes:\")\n",
        "for class_uri, in classes:\n",
        "    print(class_uri)"
      ],
      "metadata": {
        "colab": {
          "base_uri": "https://localhost:8080/"
        },
        "id": "ryzO7SEyvJgp",
        "outputId": "4e0a1764-6749-4c9c-cb4e-e0dfbe3974f2"
      },
      "execution_count": 39,
      "outputs": [
        {
          "output_type": "stream",
          "name": "stdout",
          "text": [
            "Distinct Classes:\n",
            "http://www.semanticweb.org/aarib/ontologies/2024/t20-cricket#inning_1st\n",
            "http://www.semanticweb.org/aarib/ontologies/2024/t20-cricket#inning_2nd\n"
          ]
        }
      ]
    },
    {
      "cell_type": "code",
      "source": [
        "#Query to get distinct relations/properties from the RDF graph\n",
        "relation_query = \"\"\"\n",
        "  SELECT DISTINCT ?relation\n",
        "  WHERE {\n",
        "    ?subject ?relation ?object\n",
        "  }\n",
        "\"\"\"\n",
        "\n",
        "relations = g.query(relation_query)\n",
        "\n",
        "print(\"Distinct Relations (Predicates):\")\n",
        "for relation_uri, in relations:\n",
        "    print(relation_uri)\n"
      ],
      "metadata": {
        "colab": {
          "base_uri": "https://localhost:8080/"
        },
        "id": "0jS0PI6zweTS",
        "outputId": "3a1e9f44-0f3d-484c-a0e2-ca56b71ff490"
      },
      "execution_count": 40,
      "outputs": [
        {
          "output_type": "stream",
          "name": "stdout",
          "text": [
            "Distinct Relations (Predicates):\n",
            "http://www.semanticweb.org/aarib/ontologies/2024/t20-cricket#hasBall\n",
            "http://www.semanticweb.org/aarib/ontologies/2024/t20-cricket#hasBowlingTeam\n",
            "http://www.semanticweb.org/aarib/ontologies/2024/t20-cricket#hasCity\n",
            "http://www.semanticweb.org/aarib/ontologies/2024/t20-cricket#hasRuns\n",
            "http://www.semanticweb.org/aarib/ontologies/2024/t20-cricket#hasPlayerDismissed\n",
            "http://www.semanticweb.org/aarib/ontologies/2024/t20-cricket#hasTossWinner\n",
            "http://www.semanticweb.org/aarib/ontologies/2024/t20-cricket#hasVenue\n",
            "http://www.semanticweb.org/aarib/ontologies/2024/t20-cricket#hasID\n",
            "http://www.w3.org/1999/02/22-rdf-syntax-ns#type\n",
            "http://www.semanticweb.org/aarib/ontologies/2024/t20-cricket#hasBattingTeam\n"
          ]
        }
      ]
    },
    {
      "cell_type": "code",
      "source": [
        "#Query to get instances from the graph\n",
        "instances_query = \"\"\"\n",
        "SELECT DISTINCT ?instance\n",
        "WHERE {\n",
        "  ?instance a ?class .\n",
        "}\n",
        "\"\"\"\n",
        "\n",
        "instances = g.query(instances_query)\n",
        "\n",
        "print(\"Instances:\")\n",
        "for instance_uri, in instances:\n",
        "    print(instance_uri)"
      ],
      "metadata": {
        "colab": {
          "base_uri": "https://localhost:8080/"
        },
        "collapsed": true,
        "id": "Ls8FEuODPDOZ",
        "outputId": "513843e7-d985-4f87-c6be-ebc9d0cd0405"
      },
      "execution_count": 41,
      "outputs": [
        {
          "output_type": "stream",
          "name": "stdout",
          "text": [
            "Instances:\n",
            "http://www.semanticweb.org/aarib/ontologies/2024/t20-cricket#match_1st_5_1\n",
            "http://www.semanticweb.org/aarib/ontologies/2024/t20-cricket#match_1st_7_1\n",
            "http://www.semanticweb.org/aarib/ontologies/2024/t20-cricket#match_1st_9_1\n",
            "http://www.semanticweb.org/aarib/ontologies/2024/t20-cricket#match_1st_10_1\n",
            "http://www.semanticweb.org/aarib/ontologies/2024/t20-cricket#match_1st_11_1\n",
            "http://www.semanticweb.org/aarib/ontologies/2024/t20-cricket#match_1st_13_1\n",
            "http://www.semanticweb.org/aarib/ontologies/2024/t20-cricket#match_1st_19_1\n",
            "http://www.semanticweb.org/aarib/ontologies/2024/t20-cricket#match_1st_24_1\n",
            "http://www.semanticweb.org/aarib/ontologies/2024/t20-cricket#match_1st_25_1\n",
            "http://www.semanticweb.org/aarib/ontologies/2024/t20-cricket#match_1st_32_1\n",
            "http://www.semanticweb.org/aarib/ontologies/2024/t20-cricket#match_1st_34_1\n",
            "http://www.semanticweb.org/aarib/ontologies/2024/t20-cricket#match_1st_35_1\n",
            "http://www.semanticweb.org/aarib/ontologies/2024/t20-cricket#match_1st_39_1\n",
            "http://www.semanticweb.org/aarib/ontologies/2024/t20-cricket#match_1st_42_1\n",
            "http://www.semanticweb.org/aarib/ontologies/2024/t20-cricket#match_1st_43_1\n",
            "http://www.semanticweb.org/aarib/ontologies/2024/t20-cricket#match_1st_44_1\n",
            "http://www.semanticweb.org/aarib/ontologies/2024/t20-cricket#match_1st_49_1\n",
            "http://www.semanticweb.org/aarib/ontologies/2024/t20-cricket#match_1st_51_1\n",
            "http://www.semanticweb.org/aarib/ontologies/2024/t20-cricket#match_1st_52_1\n",
            "http://www.semanticweb.org/aarib/ontologies/2024/t20-cricket#match_1st_53_1\n",
            "http://www.semanticweb.org/aarib/ontologies/2024/t20-cricket#match_1st_54_1\n",
            "http://www.semanticweb.org/aarib/ontologies/2024/t20-cricket#match_1st_55_1\n",
            "http://www.semanticweb.org/aarib/ontologies/2024/t20-cricket#match_1st_56_1\n",
            "http://www.semanticweb.org/aarib/ontologies/2024/t20-cricket#match_1st_60_1\n",
            "http://www.semanticweb.org/aarib/ontologies/2024/t20-cricket#match_1st_61_1\n",
            "http://www.semanticweb.org/aarib/ontologies/2024/t20-cricket#match_1st_63_1\n",
            "http://www.semanticweb.org/aarib/ontologies/2024/t20-cricket#match_1st_66_1\n",
            "http://www.semanticweb.org/aarib/ontologies/2024/t20-cricket#match_1st_68_1\n",
            "http://www.semanticweb.org/aarib/ontologies/2024/t20-cricket#match_1st_71_1\n",
            "http://www.semanticweb.org/aarib/ontologies/2024/t20-cricket#match_1st_77_1\n",
            "http://www.semanticweb.org/aarib/ontologies/2024/t20-cricket#match_1st_79_1\n",
            "http://www.semanticweb.org/aarib/ontologies/2024/t20-cricket#match_1st_81_1\n",
            "http://www.semanticweb.org/aarib/ontologies/2024/t20-cricket#match_1st_83_1\n",
            "http://www.semanticweb.org/aarib/ontologies/2024/t20-cricket#match_1st_84_1\n",
            "http://www.semanticweb.org/aarib/ontologies/2024/t20-cricket#match_1st_85_1\n",
            "http://www.semanticweb.org/aarib/ontologies/2024/t20-cricket#match_1st_90_1\n",
            "http://www.semanticweb.org/aarib/ontologies/2024/t20-cricket#match_1st_94_1\n",
            "http://www.semanticweb.org/aarib/ontologies/2024/t20-cricket#match_1st_95_1\n",
            "http://www.semanticweb.org/aarib/ontologies/2024/t20-cricket#match_1st_99_1\n",
            "http://www.semanticweb.org/aarib/ontologies/2024/t20-cricket#match_1st_100_1\n",
            "http://www.semanticweb.org/aarib/ontologies/2024/t20-cricket#match_1st_110_1\n",
            "http://www.semanticweb.org/aarib/ontologies/2024/t20-cricket#match_1st_111_1\n",
            "http://www.semanticweb.org/aarib/ontologies/2024/t20-cricket#match_1st_115_1\n",
            "http://www.semanticweb.org/aarib/ontologies/2024/t20-cricket#match_1st_116_1\n",
            "http://www.semanticweb.org/aarib/ontologies/2024/t20-cricket#match_1st_118_1\n",
            "http://www.semanticweb.org/aarib/ontologies/2024/t20-cricket#match_1st_120_1\n",
            "http://www.semanticweb.org/aarib/ontologies/2024/t20-cricket#match_1st_131_1\n",
            "http://www.semanticweb.org/aarib/ontologies/2024/t20-cricket#match_1st_139_1\n",
            "http://www.semanticweb.org/aarib/ontologies/2024/t20-cricket#match_1st_144_1\n",
            "http://www.semanticweb.org/aarib/ontologies/2024/t20-cricket#match_1st_148_1\n",
            "http://www.semanticweb.org/aarib/ontologies/2024/t20-cricket#match_1st_149_1\n",
            "http://www.semanticweb.org/aarib/ontologies/2024/t20-cricket#match_1st_150_1\n",
            "http://www.semanticweb.org/aarib/ontologies/2024/t20-cricket#match_1st_153_1\n",
            "http://www.semanticweb.org/aarib/ontologies/2024/t20-cricket#match_1st_154_1\n",
            "http://www.semanticweb.org/aarib/ontologies/2024/t20-cricket#match_1st_156_1\n",
            "http://www.semanticweb.org/aarib/ontologies/2024/t20-cricket#match_1st_157_1\n",
            "http://www.semanticweb.org/aarib/ontologies/2024/t20-cricket#match_1st_162_1\n",
            "http://www.semanticweb.org/aarib/ontologies/2024/t20-cricket#match_1st_165_1\n",
            "http://www.semanticweb.org/aarib/ontologies/2024/t20-cricket#match_1st_167_1\n",
            "http://www.semanticweb.org/aarib/ontologies/2024/t20-cricket#match_1st_169_1\n",
            "http://www.semanticweb.org/aarib/ontologies/2024/t20-cricket#match_1st_170_1\n",
            "http://www.semanticweb.org/aarib/ontologies/2024/t20-cricket#match_1st_173_1\n",
            "http://www.semanticweb.org/aarib/ontologies/2024/t20-cricket#match_1st_175_1\n",
            "http://www.semanticweb.org/aarib/ontologies/2024/t20-cricket#match_1st_177_1\n",
            "http://www.semanticweb.org/aarib/ontologies/2024/t20-cricket#match_1st_180_1\n",
            "http://www.semanticweb.org/aarib/ontologies/2024/t20-cricket#match_1st_181_1\n",
            "http://www.semanticweb.org/aarib/ontologies/2024/t20-cricket#match_1st_182_1\n",
            "http://www.semanticweb.org/aarib/ontologies/2024/t20-cricket#match_1st_183_1\n",
            "http://www.semanticweb.org/aarib/ontologies/2024/t20-cricket#match_1st_187_1\n",
            "http://www.semanticweb.org/aarib/ontologies/2024/t20-cricket#match_1st_191_1\n",
            "http://www.semanticweb.org/aarib/ontologies/2024/t20-cricket#match_1st_192_1\n",
            "http://www.semanticweb.org/aarib/ontologies/2024/t20-cricket#match_1st_195_1\n",
            "http://www.semanticweb.org/aarib/ontologies/2024/t20-cricket#match_1st_196_1\n",
            "http://www.semanticweb.org/aarib/ontologies/2024/t20-cricket#match_1st_204_1\n",
            "http://www.semanticweb.org/aarib/ontologies/2024/t20-cricket#match_1st_206_1\n",
            "http://www.semanticweb.org/aarib/ontologies/2024/t20-cricket#match_1st_207_1\n",
            "http://www.semanticweb.org/aarib/ontologies/2024/t20-cricket#match_1st_208_1\n",
            "http://www.semanticweb.org/aarib/ontologies/2024/t20-cricket#match_1st_209_1\n",
            "http://www.semanticweb.org/aarib/ontologies/2024/t20-cricket#match_1st_210_1\n",
            "http://www.semanticweb.org/aarib/ontologies/2024/t20-cricket#match_1st_213_1\n",
            "http://www.semanticweb.org/aarib/ontologies/2024/t20-cricket#match_1st_217_1\n",
            "http://www.semanticweb.org/aarib/ontologies/2024/t20-cricket#match_1st_221_1\n",
            "http://www.semanticweb.org/aarib/ontologies/2024/t20-cricket#match_1st_222_1\n",
            "http://www.semanticweb.org/aarib/ontologies/2024/t20-cricket#match_1st_223_1\n",
            "http://www.semanticweb.org/aarib/ontologies/2024/t20-cricket#match_1st_225_1\n",
            "http://www.semanticweb.org/aarib/ontologies/2024/t20-cricket#match_1st_227_1\n",
            "http://www.semanticweb.org/aarib/ontologies/2024/t20-cricket#match_1st_229_1\n",
            "http://www.semanticweb.org/aarib/ontologies/2024/t20-cricket#match_1st_234_1\n",
            "http://www.semanticweb.org/aarib/ontologies/2024/t20-cricket#match_1st_238_1\n",
            "http://www.semanticweb.org/aarib/ontologies/2024/t20-cricket#match_1st_241_1\n",
            "http://www.semanticweb.org/aarib/ontologies/2024/t20-cricket#match_1st_242_1\n",
            "http://www.semanticweb.org/aarib/ontologies/2024/t20-cricket#match_1st_243_1\n",
            "http://www.semanticweb.org/aarib/ontologies/2024/t20-cricket#match_1st_248_1\n",
            "http://www.semanticweb.org/aarib/ontologies/2024/t20-cricket#match_1st_249_1\n",
            "http://www.semanticweb.org/aarib/ontologies/2024/t20-cricket#match_1st_252_1\n",
            "http://www.semanticweb.org/aarib/ontologies/2024/t20-cricket#match_1st_254_1\n",
            "http://www.semanticweb.org/aarib/ontologies/2024/t20-cricket#match_1st_256_1\n",
            "http://www.semanticweb.org/aarib/ontologies/2024/t20-cricket#match_1st_257_1\n",
            "http://www.semanticweb.org/aarib/ontologies/2024/t20-cricket#match_1st_258_1\n",
            "http://www.semanticweb.org/aarib/ontologies/2024/t20-cricket#match_1st_259_1\n",
            "http://www.semanticweb.org/aarib/ontologies/2024/t20-cricket#match_1st_261_1\n",
            "http://www.semanticweb.org/aarib/ontologies/2024/t20-cricket#match_2nd_5_2\n",
            "http://www.semanticweb.org/aarib/ontologies/2024/t20-cricket#match_2nd_7_2\n",
            "http://www.semanticweb.org/aarib/ontologies/2024/t20-cricket#match_2nd_9_2\n",
            "http://www.semanticweb.org/aarib/ontologies/2024/t20-cricket#match_2nd_10_2\n",
            "http://www.semanticweb.org/aarib/ontologies/2024/t20-cricket#match_2nd_11_2\n",
            "http://www.semanticweb.org/aarib/ontologies/2024/t20-cricket#match_2nd_13_2\n",
            "http://www.semanticweb.org/aarib/ontologies/2024/t20-cricket#match_2nd_19_2\n",
            "http://www.semanticweb.org/aarib/ontologies/2024/t20-cricket#match_2nd_24_2\n",
            "http://www.semanticweb.org/aarib/ontologies/2024/t20-cricket#match_2nd_25_2\n",
            "http://www.semanticweb.org/aarib/ontologies/2024/t20-cricket#match_2nd_32_2\n",
            "http://www.semanticweb.org/aarib/ontologies/2024/t20-cricket#match_2nd_34_2\n",
            "http://www.semanticweb.org/aarib/ontologies/2024/t20-cricket#match_2nd_35_2\n",
            "http://www.semanticweb.org/aarib/ontologies/2024/t20-cricket#match_2nd_39_2\n",
            "http://www.semanticweb.org/aarib/ontologies/2024/t20-cricket#match_2nd_42_2\n",
            "http://www.semanticweb.org/aarib/ontologies/2024/t20-cricket#match_2nd_43_2\n",
            "http://www.semanticweb.org/aarib/ontologies/2024/t20-cricket#match_2nd_44_2\n",
            "http://www.semanticweb.org/aarib/ontologies/2024/t20-cricket#match_2nd_49_2\n",
            "http://www.semanticweb.org/aarib/ontologies/2024/t20-cricket#match_2nd_51_2\n",
            "http://www.semanticweb.org/aarib/ontologies/2024/t20-cricket#match_2nd_52_2\n",
            "http://www.semanticweb.org/aarib/ontologies/2024/t20-cricket#match_2nd_53_2\n",
            "http://www.semanticweb.org/aarib/ontologies/2024/t20-cricket#match_2nd_54_2\n",
            "http://www.semanticweb.org/aarib/ontologies/2024/t20-cricket#match_2nd_55_2\n",
            "http://www.semanticweb.org/aarib/ontologies/2024/t20-cricket#match_2nd_56_2\n",
            "http://www.semanticweb.org/aarib/ontologies/2024/t20-cricket#match_2nd_60_2\n",
            "http://www.semanticweb.org/aarib/ontologies/2024/t20-cricket#match_2nd_61_2\n",
            "http://www.semanticweb.org/aarib/ontologies/2024/t20-cricket#match_2nd_63_2\n",
            "http://www.semanticweb.org/aarib/ontologies/2024/t20-cricket#match_2nd_66_2\n",
            "http://www.semanticweb.org/aarib/ontologies/2024/t20-cricket#match_2nd_68_2\n",
            "http://www.semanticweb.org/aarib/ontologies/2024/t20-cricket#match_2nd_71_2\n",
            "http://www.semanticweb.org/aarib/ontologies/2024/t20-cricket#match_2nd_77_2\n",
            "http://www.semanticweb.org/aarib/ontologies/2024/t20-cricket#match_2nd_79_2\n",
            "http://www.semanticweb.org/aarib/ontologies/2024/t20-cricket#match_2nd_81_2\n",
            "http://www.semanticweb.org/aarib/ontologies/2024/t20-cricket#match_2nd_83_2\n",
            "http://www.semanticweb.org/aarib/ontologies/2024/t20-cricket#match_2nd_84_2\n",
            "http://www.semanticweb.org/aarib/ontologies/2024/t20-cricket#match_2nd_85_2\n",
            "http://www.semanticweb.org/aarib/ontologies/2024/t20-cricket#match_2nd_90_2\n",
            "http://www.semanticweb.org/aarib/ontologies/2024/t20-cricket#match_2nd_94_2\n",
            "http://www.semanticweb.org/aarib/ontologies/2024/t20-cricket#match_2nd_95_2\n",
            "http://www.semanticweb.org/aarib/ontologies/2024/t20-cricket#match_2nd_99_2\n",
            "http://www.semanticweb.org/aarib/ontologies/2024/t20-cricket#match_2nd_100_2\n",
            "http://www.semanticweb.org/aarib/ontologies/2024/t20-cricket#match_2nd_110_2\n",
            "http://www.semanticweb.org/aarib/ontologies/2024/t20-cricket#match_2nd_111_2\n",
            "http://www.semanticweb.org/aarib/ontologies/2024/t20-cricket#match_2nd_115_2\n",
            "http://www.semanticweb.org/aarib/ontologies/2024/t20-cricket#match_2nd_116_2\n",
            "http://www.semanticweb.org/aarib/ontologies/2024/t20-cricket#match_2nd_118_2\n",
            "http://www.semanticweb.org/aarib/ontologies/2024/t20-cricket#match_2nd_120_2\n",
            "http://www.semanticweb.org/aarib/ontologies/2024/t20-cricket#match_2nd_131_2\n",
            "http://www.semanticweb.org/aarib/ontologies/2024/t20-cricket#match_2nd_139_2\n",
            "http://www.semanticweb.org/aarib/ontologies/2024/t20-cricket#match_2nd_144_2\n",
            "http://www.semanticweb.org/aarib/ontologies/2024/t20-cricket#match_2nd_148_2\n",
            "http://www.semanticweb.org/aarib/ontologies/2024/t20-cricket#match_2nd_149_2\n",
            "http://www.semanticweb.org/aarib/ontologies/2024/t20-cricket#match_2nd_150_2\n",
            "http://www.semanticweb.org/aarib/ontologies/2024/t20-cricket#match_2nd_153_2\n",
            "http://www.semanticweb.org/aarib/ontologies/2024/t20-cricket#match_2nd_154_2\n",
            "http://www.semanticweb.org/aarib/ontologies/2024/t20-cricket#match_2nd_156_2\n",
            "http://www.semanticweb.org/aarib/ontologies/2024/t20-cricket#match_2nd_157_2\n",
            "http://www.semanticweb.org/aarib/ontologies/2024/t20-cricket#match_2nd_162_2\n",
            "http://www.semanticweb.org/aarib/ontologies/2024/t20-cricket#match_2nd_165_2\n",
            "http://www.semanticweb.org/aarib/ontologies/2024/t20-cricket#match_2nd_167_2\n",
            "http://www.semanticweb.org/aarib/ontologies/2024/t20-cricket#match_2nd_169_2\n",
            "http://www.semanticweb.org/aarib/ontologies/2024/t20-cricket#match_2nd_170_2\n",
            "http://www.semanticweb.org/aarib/ontologies/2024/t20-cricket#match_2nd_173_2\n",
            "http://www.semanticweb.org/aarib/ontologies/2024/t20-cricket#match_2nd_175_2\n",
            "http://www.semanticweb.org/aarib/ontologies/2024/t20-cricket#match_2nd_177_2\n",
            "http://www.semanticweb.org/aarib/ontologies/2024/t20-cricket#match_2nd_180_2\n",
            "http://www.semanticweb.org/aarib/ontologies/2024/t20-cricket#match_2nd_181_2\n",
            "http://www.semanticweb.org/aarib/ontologies/2024/t20-cricket#match_2nd_182_2\n",
            "http://www.semanticweb.org/aarib/ontologies/2024/t20-cricket#match_2nd_183_2\n",
            "http://www.semanticweb.org/aarib/ontologies/2024/t20-cricket#match_2nd_187_2\n",
            "http://www.semanticweb.org/aarib/ontologies/2024/t20-cricket#match_2nd_191_2\n",
            "http://www.semanticweb.org/aarib/ontologies/2024/t20-cricket#match_2nd_192_2\n",
            "http://www.semanticweb.org/aarib/ontologies/2024/t20-cricket#match_2nd_195_2\n",
            "http://www.semanticweb.org/aarib/ontologies/2024/t20-cricket#match_2nd_196_2\n",
            "http://www.semanticweb.org/aarib/ontologies/2024/t20-cricket#match_2nd_204_2\n",
            "http://www.semanticweb.org/aarib/ontologies/2024/t20-cricket#match_2nd_206_2\n",
            "http://www.semanticweb.org/aarib/ontologies/2024/t20-cricket#match_2nd_207_2\n",
            "http://www.semanticweb.org/aarib/ontologies/2024/t20-cricket#match_2nd_208_2\n",
            "http://www.semanticweb.org/aarib/ontologies/2024/t20-cricket#match_2nd_209_2\n",
            "http://www.semanticweb.org/aarib/ontologies/2024/t20-cricket#match_2nd_210_2\n",
            "http://www.semanticweb.org/aarib/ontologies/2024/t20-cricket#match_2nd_213_2\n",
            "http://www.semanticweb.org/aarib/ontologies/2024/t20-cricket#match_2nd_217_2\n",
            "http://www.semanticweb.org/aarib/ontologies/2024/t20-cricket#match_2nd_221_2\n",
            "http://www.semanticweb.org/aarib/ontologies/2024/t20-cricket#match_2nd_222_2\n",
            "http://www.semanticweb.org/aarib/ontologies/2024/t20-cricket#match_2nd_223_2\n",
            "http://www.semanticweb.org/aarib/ontologies/2024/t20-cricket#match_2nd_225_2\n",
            "http://www.semanticweb.org/aarib/ontologies/2024/t20-cricket#match_2nd_227_2\n",
            "http://www.semanticweb.org/aarib/ontologies/2024/t20-cricket#match_2nd_229_2\n",
            "http://www.semanticweb.org/aarib/ontologies/2024/t20-cricket#match_2nd_234_2\n",
            "http://www.semanticweb.org/aarib/ontologies/2024/t20-cricket#match_2nd_238_2\n",
            "http://www.semanticweb.org/aarib/ontologies/2024/t20-cricket#match_2nd_241_2\n",
            "http://www.semanticweb.org/aarib/ontologies/2024/t20-cricket#match_2nd_242_2\n",
            "http://www.semanticweb.org/aarib/ontologies/2024/t20-cricket#match_2nd_243_2\n",
            "http://www.semanticweb.org/aarib/ontologies/2024/t20-cricket#match_2nd_248_2\n",
            "http://www.semanticweb.org/aarib/ontologies/2024/t20-cricket#match_2nd_249_2\n",
            "http://www.semanticweb.org/aarib/ontologies/2024/t20-cricket#match_2nd_252_2\n",
            "http://www.semanticweb.org/aarib/ontologies/2024/t20-cricket#match_2nd_254_2\n",
            "http://www.semanticweb.org/aarib/ontologies/2024/t20-cricket#match_2nd_256_2\n",
            "http://www.semanticweb.org/aarib/ontologies/2024/t20-cricket#match_2nd_257_2\n",
            "http://www.semanticweb.org/aarib/ontologies/2024/t20-cricket#match_2nd_258_2\n",
            "http://www.semanticweb.org/aarib/ontologies/2024/t20-cricket#match_2nd_259_2\n",
            "http://www.semanticweb.org/aarib/ontologies/2024/t20-cricket#match_2nd_261_2\n",
            "http://www.semanticweb.org/aarib/ontologies/2024/t20-cricket#match_2nd_262_2\n",
            "http://www.semanticweb.org/aarib/ontologies/2024/t20-cricket#match_2nd_263_2\n",
            "http://www.semanticweb.org/aarib/ontologies/2024/t20-cricket#match_2nd_269_2\n",
            "http://www.semanticweb.org/aarib/ontologies/2024/t20-cricket#match_2nd_270_2\n",
            "http://www.semanticweb.org/aarib/ontologies/2024/t20-cricket#match_2nd_273_2\n",
            "http://www.semanticweb.org/aarib/ontologies/2024/t20-cricket#match_2nd_274_2\n",
            "http://www.semanticweb.org/aarib/ontologies/2024/t20-cricket#match_2nd_276_2\n",
            "http://www.semanticweb.org/aarib/ontologies/2024/t20-cricket#match_2nd_277_2\n",
            "http://www.semanticweb.org/aarib/ontologies/2024/t20-cricket#match_2nd_278_2\n",
            "http://www.semanticweb.org/aarib/ontologies/2024/t20-cricket#match_2nd_279_2\n",
            "http://www.semanticweb.org/aarib/ontologies/2024/t20-cricket#match_2nd_286_2\n",
            "http://www.semanticweb.org/aarib/ontologies/2024/t20-cricket#match_2nd_289_2\n",
            "http://www.semanticweb.org/aarib/ontologies/2024/t20-cricket#match_2nd_291_2\n",
            "http://www.semanticweb.org/aarib/ontologies/2024/t20-cricket#match_2nd_294_2\n"
          ]
        }
      ]
    },
    {
      "cell_type": "markdown",
      "source": [
        "## Querrying the RDF"
      ],
      "metadata": {
        "id": "hVNjV7dmThxa"
      }
    },
    {
      "cell_type": "markdown",
      "source": [
        "### Total runs scored by each batting team across all matches"
      ],
      "metadata": {
        "id": "Ws4pSy6utAQx"
      }
    },
    {
      "cell_type": "code",
      "source": [
        "query_top_run_scorers = \"\"\"\n",
        "    SELECT ?batting_team (SUM(xsd:integer(?runs)) AS ?totalRuns)\n",
        "    WHERE {\n",
        "        ?match onto:hasRuns ?runs .\n",
        "        ?match onto:hasBattingTeam ?batting_team .\n",
        "    }\n",
        "    GROUP BY ?batting_team\n",
        "    ORDER BY DESC(?totalRuns)\n",
        "\"\"\"\n",
        "\n",
        "# Execute the query\n",
        "result = g.query(query_top_run_scorers)\n",
        "\n",
        "# Print the results\n",
        "for row in result:\n",
        "    print(f\"Batting Team: {row['batting_team']}, Total Runs: {row['totalRuns']}\")"
      ],
      "metadata": {
        "colab": {
          "base_uri": "https://localhost:8080/"
        },
        "collapsed": true,
        "id": "ThlrUYnJiqn9",
        "outputId": "ba7c30ea-9ea9-46e7-acda-84d5b993d9bb"
      },
      "execution_count": 42,
      "outputs": [
        {
          "output_type": "stream",
          "name": "stdout",
          "text": [
            "Batting Team: Pakistan, Total Runs: 456\n",
            "Batting Team: Australia, Total Runs: 389\n",
            "Batting Team: England, Total Runs: 358\n",
            "Batting Team: India, Total Runs: 317\n",
            "Batting Team: South Africa, Total Runs: 257\n",
            "Batting Team: Sri Lanka, Total Runs: 257\n",
            "Batting Team: New Zealand, Total Runs: 253\n",
            "Batting Team: West Indies, Total Runs: 237\n",
            "Batting Team: Bangladesh, Total Runs: 221\n",
            "Batting Team: Zimbabwe, Total Runs: 161\n",
            "Batting Team: Netherlands, Total Runs: 133\n",
            "Batting Team: Afghanistan, Total Runs: 122\n",
            "Batting Team: Ireland, Total Runs: 113\n"
          ]
        }
      ]
    },
    {
      "cell_type": "markdown",
      "source": [
        "Could be used in various analytical contexts, such as identifying strong teams in T20 cricket or comparing historical performance."
      ],
      "metadata": {
        "id": "i0UskgadtQ3N"
      }
    },
    {
      "cell_type": "markdown",
      "source": [
        "### Finding match winners\n",
        "based on match_id for example match_id 5_1 represents innings 1 of match 5 and match_id 5_2 represents innings 2 of match 5 according to the dataframes given."
      ],
      "metadata": {
        "id": "t1LCFdhRaT80"
      }
    },
    {
      "cell_type": "code",
      "source": [
        "query = \"\"\"\n",
        "SELECT ?match ?id\n",
        "WHERE {\n",
        "  ?match onto:hasID ?id.\n",
        "}\n",
        "LIMIT 10\n",
        "\"\"\"\n",
        "result = g.query(query)\n",
        "for row in result:\n",
        "    print(f\"Match ID: {row['id']}\")"
      ],
      "metadata": {
        "colab": {
          "base_uri": "https://localhost:8080/"
        },
        "id": "HR4ZSV29yGiG",
        "outputId": "efb96194-229e-43bd-a6b0-a13e5b76a7b3"
      },
      "execution_count": 43,
      "outputs": [
        {
          "output_type": "stream",
          "name": "stdout",
          "text": [
            "Match ID: 5_1\n",
            "Match ID: 7_1\n",
            "Match ID: 9_1\n",
            "Match ID: 10_1\n",
            "Match ID: 11_1\n",
            "Match ID: 13_1\n",
            "Match ID: 19_1\n",
            "Match ID: 24_1\n",
            "Match ID: 25_1\n",
            "Match ID: 32_1\n"
          ]
        }
      ]
    },
    {
      "cell_type": "code",
      "source": [
        "winner_query = \"\"\"\n",
        "SELECT\n",
        "  (?battingTeam AS ?firstInningBattingTeam)\n",
        "  (SUM(xsd:integer(?runs)) AS ?firstInningScore)\n",
        "  (?bowlingTeam AS ?secondInningBattingTeam)\n",
        "  (SUM(xsd:integer(?runs2)) AS ?secondInningScore)\n",
        "  (IF(SUM(xsd:integer(?runs)) > SUM(xsd:integer(?runs2)), ?battingTeam, ?bowlingTeam) AS ?winner)\n",
        "WHERE {\n",
        "  # First inning\n",
        "  ?match onto:hasRuns ?runs.\n",
        "  ?match onto:hasBattingTeam ?battingTeam.\n",
        "  ?match onto:hasBowlingTeam ?bowlingTeam.\n",
        "  ?match onto:hasID ?matchID1.\n",
        "  FILTER(?matchID1 = \"5_1\").\n",
        "\n",
        "  # Second inning\n",
        "  ?match2 onto:hasRuns ?runs2.\n",
        "  ?match2 onto:hasBattingTeam ?battingTeam2.\n",
        "  ?match2 onto:hasBowlingTeam ?bowlingTeam2.\n",
        "  ?match2 onto:hasID ?matchID2.\n",
        "  FILTER(?matchID2 = \"5_2\").\n",
        "}\n",
        "GROUP BY ?battingTeam ?bowlingTeam\n",
        "\"\"\"\n",
        "\n",
        "# Execute the query\n",
        "results = g.query(winner_query)\n",
        "\n",
        "# Process and print the results\n",
        "for row in results:\n",
        "    print(f\"First Inning Batting Team: {row.firstInningBattingTeam}\")\n",
        "    print(f\"First Inning Score: {row.firstInningScore}\")\n",
        "    print(f\"Second Inning Batting Team: {row.secondInningBattingTeam}\")\n",
        "    print(f\"Second Inning Score: {row.secondInningScore}\")\n",
        "    print(f\"Winner: {row.winner}\")"
      ],
      "metadata": {
        "id": "TLZ47I4SWw47",
        "colab": {
          "base_uri": "https://localhost:8080/"
        },
        "outputId": "899507db-84f4-4106-e0d8-fdd0e87f2dd5"
      },
      "execution_count": 44,
      "outputs": [
        {
          "output_type": "stream",
          "name": "stdout",
          "text": [
            "First Inning Batting Team: West Indies\n",
            "First Inning Score: 108\n",
            "Second Inning Batting Team: India\n",
            "Second Inning Score: 96\n",
            "Winner: West Indies\n"
          ]
        }
      ]
    },
    {
      "cell_type": "markdown",
      "source": [
        "Due to the complexity of the query it took 4 minutes 35 seconds to run. But gave the correct output which was as follows\n",
        "\n",
        "First Inning Batting Team: West Indies\n",
        "\n",
        "First Inning Score: 108\n",
        "\n",
        "Second Inning Batting Team: India\n",
        "\n",
        "Second Inning Score: 96\n",
        "\n",
        "Winner: West Indies\n",
        "\n",
        "Logic:- Whichever team has the higher score is the winner."
      ],
      "metadata": {
        "id": "HPf_rMMo1F02"
      }
    },
    {
      "cell_type": "markdown",
      "source": [
        "### Finding the most popular venues for matches"
      ],
      "metadata": {
        "id": "bkKRATRsbDY4"
      }
    },
    {
      "cell_type": "code",
      "source": [
        "query_popular_venues = \"\"\"\n",
        "SELECT ?venue (COUNT(?match) AS ?matches_played)\n",
        "WHERE {\n",
        "  ?match onto:hasVenue ?venue.\n",
        "}\n",
        "GROUP BY ?venue\n",
        "ORDER BY DESC(?matches_played)\n",
        "LIMIT 5\n",
        "\"\"\"\n",
        "results = g.query(query_popular_venues)\n",
        "\n",
        "for row in results:\n",
        "    print(f\"Venue: {row['venue']}, Matches Played: {row['matches_played']}\")\n"
      ],
      "metadata": {
        "id": "TTtGM8Pxafa5",
        "colab": {
          "base_uri": "https://localhost:8080/"
        },
        "outputId": "2805e2e6-a665-4b8e-ddf1-570e7988943b"
      },
      "execution_count": 45,
      "outputs": [
        {
          "output_type": "stream",
          "name": "stdout",
          "text": [
            "Venue: Newlands, Matches Played: 10\n",
            "Venue: Dubai International Cricket Stadium, Matches Played: 9\n",
            "Venue: R Premadasa Stadium, Matches Played: 9\n",
            "Venue: Shere Bangla National Stadium, Matches Played: 8\n",
            "Venue: Shere Bangla National Stadium, Mirpur, Matches Played: 7\n"
          ]
        }
      ]
    },
    {
      "cell_type": "markdown",
      "source": [
        "### Matches played per city"
      ],
      "metadata": {
        "id": "1o1YKVTydmaB"
      }
    },
    {
      "cell_type": "code",
      "source": [
        "query_matches_per_city = \"\"\"\n",
        "SELECT ?city (COUNT(?match) AS ?matches_played)\n",
        "WHERE {\n",
        "  ?match onto:hasCity ?city.\n",
        "}\n",
        "GROUP BY ?city\n",
        "ORDER BY DESC(?matches_played)\n",
        "LIMIT 5\n",
        "\"\"\"\n",
        "\n",
        "result = g.query(query_matches_per_city)\n",
        "\n",
        "for row in result:\n",
        "    print(f\"City: {row['city']}, Matches Played: {row['matches_played']}\")"
      ],
      "metadata": {
        "colab": {
          "base_uri": "https://localhost:8080/"
        },
        "id": "UuQHKX6NcURv",
        "outputId": "0cc45a38-6292-42ff-ea50-8d2659dfd4a1"
      },
      "execution_count": 46,
      "outputs": [
        {
          "output_type": "stream",
          "name": "stdout",
          "text": [
            "City: Colombo, Matches Played: 11\n",
            "City: Cape Town, Matches Played: 10\n",
            "City: Johannesburg, Matches Played: 10\n",
            "City: Dubai, Matches Played: 9\n",
            "City: Dhaka, Matches Played: 9\n"
          ]
        }
      ]
    },
    {
      "cell_type": "markdown",
      "source": [
        "###Most wickets taken in an over"
      ],
      "metadata": {
        "id": "KKFKluw0d1M-"
      }
    },
    {
      "cell_type": "code",
      "source": [
        "query_most_wickets_in_over = \"\"\"\n",
        "SELECT ?over ?matchID ?battingTeam ?bowlingTeam (SUM(DISTINCT xsd:integer(?playerOut)) AS ?wicketsInOver)\n",
        "WHERE {\n",
        "  ?match onto:hasID ?matchID.\n",
        "  ?match onto:hasRuns ?runs.\n",
        "  ?match onto:hasBattingTeam ?battingTeam.\n",
        "  ?match onto:hasBall ?balls.\n",
        "  ?match onto:hasBowlingTeam ?bowlingTeam.\n",
        "  ?match onto:hasPlayerDismissed ?playerOut.\n",
        "\n",
        "  #Extracting the over number from the 'balls' field\n",
        "  BIND(STRBEFORE(STR(?balls), \".\") AS ?over)\n",
        "}\n",
        "GROUP BY ?over ?matchID ?battingTeam ?bowlingTeam\n",
        "ORDER BY DESC(?wicketsInOver)\n",
        "LIMIT 10\n",
        "\"\"\"\n",
        "\n",
        "result = g.query(query_most_wickets_in_over)\n",
        "for row in result:\n",
        "    print(f\"Over: {row['over']}, Match ID: {row['matchID']}, Batting Team: {row['battingTeam']}, Bowling Team: {row['bowlingTeam']}, Wickets in Over: {row['wicketsInOver']}\")\n"
      ],
      "metadata": {
        "colab": {
          "base_uri": "https://localhost:8080/"
        },
        "id": "0At-vC79euoM",
        "outputId": "cad02cac-2823-436f-dbde-145657c6c7cf"
      },
      "execution_count": 47,
      "outputs": [
        {
          "output_type": "stream",
          "name": "stdout",
          "text": [
            "Over: 0, Match ID: 5_1, Batting Team: West Indies, Bowling Team: India, Wickets in Over: 1\n",
            "Over: 0, Match ID: 7_1, Batting Team: West Indies, Bowling Team: Australia, Wickets in Over: 1\n",
            "Over: 0, Match ID: 9_1, Batting Team: India, Bowling Team: England, Wickets in Over: 1\n",
            "Over: 0, Match ID: 10_1, Batting Team: England, Bowling Team: South Africa, Wickets in Over: 1\n",
            "Over: 0, Match ID: 11_1, Batting Team: South Africa, Bowling Team: England, Wickets in Over: 1\n",
            "Over: 0, Match ID: 13_1, Batting Team: Netherlands, Bowling Team: Afghanistan, Wickets in Over: 1\n",
            "Over: 0, Match ID: 19_1, Batting Team: Pakistan, Bowling Team: South Africa, Wickets in Over: 1\n",
            "Over: 0, Match ID: 24_1, Batting Team: New Zealand, Bowling Team: Australia, Wickets in Over: 1\n",
            "Over: 0, Match ID: 25_1, Batting Team: New Zealand, Bowling Team: Bangladesh, Wickets in Over: 1\n",
            "Over: 0, Match ID: 32_1, Batting Team: Pakistan, Bowling Team: Zimbabwe, Wickets in Over: 1\n"
          ]
        }
      ]
    },
    {
      "cell_type": "markdown",
      "source": [
        "### Query to find top 5 teams that have won the most tosses"
      ],
      "metadata": {
        "id": "ozEOhVn5odOx"
      }
    },
    {
      "cell_type": "code",
      "source": [
        "query_top_toss_winners = \"\"\"\n",
        "    SELECT ?toss_winner (COUNT(?match) AS ?tossWins)\n",
        "    WHERE {\n",
        "        ?match onto:hasTossWinner ?toss_winner .\n",
        "    }\n",
        "    GROUP BY ?toss_winner\n",
        "    ORDER BY DESC(?tossWins)\n",
        "    LIMIT 5\n",
        "\"\"\"\n",
        "\n",
        "result = g.query(query_top_toss_winners)\n",
        "\n",
        "for row in result:\n",
        "    print(f\"Toss Winner: {row['toss_winner']}, Toss Wins: {row['tossWins']}\")"
      ],
      "metadata": {
        "colab": {
          "base_uri": "https://localhost:8080/"
        },
        "id": "4GRkwKQ1ockp",
        "outputId": "f90ff545-ce7b-40a6-def9-cc1c809adf72"
      },
      "execution_count": 48,
      "outputs": [
        {
          "output_type": "stream",
          "name": "stdout",
          "text": [
            "Toss Winner: Pakistan, Toss Wins: 36\n",
            "Toss Winner: England, Toss Wins: 30\n",
            "Toss Winner: India, Toss Wins: 29\n",
            "Toss Winner: Australia, Toss Wins: 29\n",
            "Toss Winner: South Africa, Toss Wins: 21\n"
          ]
        }
      ]
    },
    {
      "cell_type": "markdown",
      "source": [
        "### Query to find 5 teams that won the least amount of tosses"
      ],
      "metadata": {
        "id": "nYUsp4rfolVk"
      }
    },
    {
      "cell_type": "code",
      "source": [
        "query_least_toss_winners = \"\"\"\n",
        "    SELECT ?toss_winner (COUNT(?match) AS ?tossWins)\n",
        "    WHERE {\n",
        "        ?match onto:hasTossWinner ?toss_winner .\n",
        "    }\n",
        "    GROUP BY ?toss_winner\n",
        "    ORDER BY ASC(?tossWins)\n",
        "    LIMIT 5\n",
        "\"\"\"\n",
        "\n",
        "result = g.query(query_least_toss_winners)\n",
        "\n",
        "for row in result:\n",
        "    print(f\"Toss Winner: {row['toss_winner']}, Toss Wins: {row['tossWins']}\")"
      ],
      "metadata": {
        "colab": {
          "base_uri": "https://localhost:8080/"
        },
        "id": "aSgl5jR8ofxZ",
        "outputId": "cb7489f2-cc42-4584-f582-1f3ef871fc13"
      },
      "execution_count": 49,
      "outputs": [
        {
          "output_type": "stream",
          "name": "stdout",
          "text": [
            "Toss Winner: Zimbabwe, Toss Wins: 4\n",
            "Toss Winner: Bangladesh, Toss Wins: 5\n",
            "Toss Winner: Netherlands, Toss Wins: 6\n",
            "Toss Winner: West Indies, Toss Wins: 8\n",
            "Toss Winner: Ireland, Toss Wins: 8\n"
          ]
        }
      ]
    },
    {
      "cell_type": "markdown",
      "source": [
        "### Average runs per ball"
      ],
      "metadata": {
        "id": "PVER8YEJpqyI"
      }
    },
    {
      "cell_type": "code",
      "source": [
        "query_avg_runs_per_ball = \"\"\"\n",
        "    SELECT ?batting_team (AVG(xsd:float(?runs)) AS ?avgRuns)\n",
        "    WHERE {\n",
        "        ?match onto:hasRuns ?runs .\n",
        "        ?match onto:hasBattingTeam ?batting_team .\n",
        "    }\n",
        "    GROUP BY ?batting_team\n",
        "    ORDER BY DESC(?avgRuns)\n",
        "\"\"\"\n",
        "\n",
        "result = g.query(query_avg_runs_per_ball)\n",
        "\n",
        "for row in result:\n",
        "    print(f\"Batting Team: {row['batting_team']}, Average Runs Per Ball: {row['avgRuns']}\")\n"
      ],
      "metadata": {
        "colab": {
          "base_uri": "https://localhost:8080/"
        },
        "id": "hDzKDuEGovIV",
        "outputId": "9e5f4b1a-6513-42af-c69a-e4cdbeca5265"
      },
      "execution_count": 50,
      "outputs": [
        {
          "output_type": "stream",
          "name": "stdout",
          "text": [
            "Batting Team: Pakistan, Average Runs Per Ball: 2.7804878048780486\n",
            "Batting Team: England, Average Runs Per Ball: 2.7751937984496124\n",
            "Batting Team: Afghanistan, Average Runs Per Ball: 2.772727272727273\n",
            "Batting Team: Australia, Average Runs Per Ball: 2.73943661971831\n",
            "Batting Team: West Indies, Average Runs Per Ball: 2.7241379310344827\n",
            "Batting Team: India, Average Runs Per Ball: 2.7094017094017095\n",
            "Batting Team: South Africa, Average Runs Per Ball: 2.705263157894737\n",
            "Batting Team: Sri Lanka, Average Runs Per Ball: 2.705263157894737\n",
            "Batting Team: New Zealand, Average Runs Per Ball: 2.663157894736842\n",
            "Batting Team: Netherlands, Average Runs Per Ball: 2.66\n",
            "Batting Team: Bangladesh, Average Runs Per Ball: 2.630952380952381\n",
            "Batting Team: Zimbabwe, Average Runs Per Ball: 2.5555555555555554\n",
            "Batting Team: Ireland, Average Runs Per Ball: 2.511111111111111\n"
          ]
        }
      ]
    },
    {
      "cell_type": "markdown",
      "source": [
        "### Teams that have played the most number of matches"
      ],
      "metadata": {
        "id": "DKualRhXpYLh"
      }
    },
    {
      "cell_type": "code",
      "source": [
        "query_most_played_teams = \"\"\"\n",
        "    SELECT ?batting_team (COUNT(?match) AS ?matchesPlayed)\n",
        "    WHERE {\n",
        "        ?match onto:hasBattingTeam ?batting_team .\n",
        "    }\n",
        "    GROUP BY ?batting_team\n",
        "    ORDER BY DESC(?matchesPlayed)\n",
        "\"\"\"\n",
        "\n",
        "result = g.query(query_most_played_teams)\n",
        "for row in result:\n",
        "    print(f\"Batting Team: {row['batting_team']}, Matches Played: {row['matchesPlayed']}\")"
      ],
      "metadata": {
        "colab": {
          "base_uri": "https://localhost:8080/"
        },
        "id": "92kEPDrNpFga",
        "outputId": "27e1897b-4571-47fd-d608-e123b96b097e"
      },
      "execution_count": 51,
      "outputs": [
        {
          "output_type": "stream",
          "name": "stdout",
          "text": [
            "Batting Team: Pakistan, Matches Played: 28\n",
            "Batting Team: Australia, Matches Played: 25\n",
            "Batting Team: England, Matches Played: 22\n",
            "Batting Team: India, Matches Played: 21\n",
            "Batting Team: South Africa, Matches Played: 17\n",
            "Batting Team: New Zealand, Matches Played: 17\n",
            "Batting Team: Sri Lanka, Matches Played: 17\n",
            "Batting Team: West Indies, Matches Played: 16\n",
            "Batting Team: Bangladesh, Matches Played: 15\n",
            "Batting Team: Zimbabwe, Matches Played: 12\n",
            "Batting Team: Netherlands, Matches Played: 9\n",
            "Batting Team: Ireland, Matches Played: 9\n",
            "Batting Team: Afghanistan, Matches Played: 8\n"
          ]
        }
      ]
    },
    {
      "cell_type": "markdown",
      "source": [
        "### Most sixes scored by a team"
      ],
      "metadata": {
        "id": "UyIPWa6vq6-D"
      }
    },
    {
      "cell_type": "code",
      "source": [
        "query_most_sixes_by_team = \"\"\"\n",
        "SELECT (COUNT(xsd:integer(?runs)) AS ?TotalSixes) ?battingTeam\n",
        "WHERE {\n",
        "    ?match onto:hasID ?matchid .\n",
        "    ?match onto:hasRuns ?runs .\n",
        "    ?match onto:hasBattingTeam ?battingTeam .\n",
        "    ?match onto:hasBowlingTeam ?bowlingTeam .\n",
        "\n",
        "    FILTER (?runs = 6)\n",
        "}\n",
        "GROUP BY  ?battingTeam\n",
        "ORDER BY DESC(?TotalSixes)\n",
        "LIMIT 10\n",
        "\"\"\"\n",
        "\n",
        "result = g.query(query_most_sixes_by_team)\n",
        "print(\"Total sixes scored by each team\")\n",
        "for row in result:\n",
        "    print(f\"Batting Team: {row['battingTeam']}, Total Sixes: {row['TotalSixes']}\")"
      ],
      "metadata": {
        "colab": {
          "base_uri": "https://localhost:8080/"
        },
        "id": "mAf60-_WIHTQ",
        "outputId": "773b892d-1fec-4c03-dc35-a8f7caf07df8"
      },
      "execution_count": 59,
      "outputs": [
        {
          "output_type": "stream",
          "name": "stdout",
          "text": [
            "Total sixes scored by each team\n",
            "Batting Team: Pakistan, Total Sixes: 28\n",
            "Batting Team: Australia, Total Sixes: 24\n",
            "Batting Team: India, Total Sixes: 21\n",
            "Batting Team: England, Total Sixes: 21\n",
            "Batting Team: South Africa, Total Sixes: 17\n",
            "Batting Team: Sri Lanka, Total Sixes: 17\n",
            "Batting Team: West Indies, Total Sixes: 16\n",
            "Batting Team: New Zealand, Total Sixes: 15\n",
            "Batting Team: Bangladesh, Total Sixes: 14\n",
            "Batting Team: Zimbabwe, Total Sixes: 11\n"
          ]
        }
      ]
    },
    {
      "cell_type": "markdown",
      "source": [
        "### Most fours scored by a team"
      ],
      "metadata": {
        "id": "X7Xwo6giKkf0"
      }
    },
    {
      "cell_type": "code",
      "source": [
        "query_most_fours_by_team = \"\"\"\n",
        "SELECT (COUNT(xsd:integer(?runs)) AS ?TotalFours) ?battingTeam\n",
        "WHERE {\n",
        "    ?match onto:hasID ?matchid .\n",
        "    ?match onto:hasRuns ?runs .\n",
        "    ?match onto:hasBattingTeam ?battingTeam .\n",
        "    ?match onto:hasBowlingTeam ?bowlingTeam .\n",
        "\n",
        "    FILTER (?runs = 4)\n",
        "}\n",
        "GROUP BY  ?battingTeam\n",
        "ORDER BY DESC(?TotalFours)\n",
        "LIMIT 10\n",
        "\"\"\"\n",
        "\n",
        "result = g.query(query_most_fours_by_team)\n",
        "print(\"Total fours scored by each team\")\n",
        "for row in result:\n",
        "    print(f\"Batting Team: {row['battingTeam']}, Total Sixes: {row['TotalFours']}\")"
      ],
      "metadata": {
        "colab": {
          "base_uri": "https://localhost:8080/"
        },
        "id": "TbpatrllKGvy",
        "outputId": "9c6043ff-d56c-4835-9fb6-1ea88b8cf552"
      },
      "execution_count": 60,
      "outputs": [
        {
          "output_type": "stream",
          "name": "stdout",
          "text": [
            "Total fours scored by each team\n",
            "Batting Team: Pakistan, Total Sixes: 28\n",
            "Batting Team: Australia, Total Sixes: 25\n",
            "Batting Team: England, Total Sixes: 22\n",
            "Batting Team: India, Total Sixes: 21\n",
            "Batting Team: South Africa, Total Sixes: 17\n",
            "Batting Team: New Zealand, Total Sixes: 17\n",
            "Batting Team: Sri Lanka, Total Sixes: 17\n",
            "Batting Team: West Indies, Total Sixes: 16\n",
            "Batting Team: Bangladesh, Total Sixes: 15\n",
            "Batting Team: Zimbabwe, Total Sixes: 11\n"
          ]
        }
      ]
    },
    {
      "cell_type": "markdown",
      "source": [
        "### Total wickets taken by each team"
      ],
      "metadata": {
        "id": "DQ1FRsj6OoPX"
      }
    },
    {
      "cell_type": "code",
      "source": [
        "query_total_wickets_by_team = \"\"\"\n",
        "SELECT ?bowlingTeam (COUNT(?playerOut) AS ?totalWickets)\n",
        "WHERE {\n",
        "    ?match onto:hasBowlingTeam ?bowlingTeam .\n",
        "    ?match onto:hasPlayerDismissed ?playerOut .\n",
        "}\n",
        "GROUP BY ?bowlingTeam\n",
        "ORDER BY DESC(?totalWickets)\n",
        "\"\"\"\n",
        "\n",
        "result = g.query(query_total_wickets_by_team)\n",
        "print(\"Total wickets taken by each team:\")\n",
        "for row in result:\n",
        "    print(f\"Bowling Team: {row['bowlingTeam']}, Total Wickets: {row['totalWickets']}\")\n"
      ],
      "metadata": {
        "colab": {
          "base_uri": "https://localhost:8080/"
        },
        "id": "6jATBSqjMcNo",
        "outputId": "e184c3db-22d8-4eea-c8b4-a35b1ac0cede"
      },
      "execution_count": 66,
      "outputs": [
        {
          "output_type": "stream",
          "name": "stdout",
          "text": [
            "Total wickets taken by each team:\n",
            "Bowling Team: Pakistan, Total Wickets: 54\n",
            "Bowling Team: Australia, Total Wickets: 48\n",
            "Bowling Team: India, Total Wickets: 44\n",
            "Bowling Team: England, Total Wickets: 44\n",
            "Bowling Team: Sri Lanka, Total Wickets: 35\n",
            "Bowling Team: New Zealand, Total Wickets: 34\n",
            "Bowling Team: Bangladesh, Total Wickets: 32\n",
            "Bowling Team: West Indies, Total Wickets: 32\n",
            "Bowling Team: South Africa, Total Wickets: 31\n",
            "Bowling Team: Zimbabwe, Total Wickets: 26\n",
            "Bowling Team: Ireland, Total Wickets: 20\n",
            "Bowling Team: Afghanistan, Total Wickets: 16\n",
            "Bowling Team: Netherlands, Total Wickets: 14\n"
          ]
        }
      ]
    },
    {
      "cell_type": "code",
      "source": [],
      "metadata": {
        "id": "jIq-raSBOrKh"
      },
      "execution_count": null,
      "outputs": []
    }
  ]
}